{
 "cells": [
  {
   "cell_type": "code",
   "execution_count": 1,
   "id": "ed722c32",
   "metadata": {},
   "outputs": [],
   "source": [
    "#!pip install qiskit\n",
    "#!pip install qiskit_machine_learning\n",
    "#!pip install pylatexenc"
   ]
  },
  {
   "cell_type": "code",
   "execution_count": 2,
   "id": "13c92fd2",
   "metadata": {},
   "outputs": [],
   "source": [
    "#Importing the libraries\n",
    "\n",
    "import numpy as np\n",
    "import matplotlib.pyplot as plt\n",
    "import pandas as pd\n",
    "\n",
    "from qiskit import Aer, QuantumCircuit\n",
    "from qiskit.opflow import Z, I, StateFn\n",
    "from qiskit.utils import QuantumInstance\n",
    "from qiskit.circuit import Parameter\n",
    "from qiskit.circuit.library import RealAmplitudes, ZZFeatureMap, ZFeatureMap\n",
    "from qiskit.algorithms.optimizers import COBYLA, L_BFGS_B,SLSQP\n",
    "\n",
    "from qiskit_machine_learning.neural_networks import TwoLayerQNN, CircuitQNN\n",
    "from qiskit_machine_learning.algorithms.classifiers import NeuralNetworkClassifier, VQC\n",
    "from qiskit_machine_learning.algorithms.regressors import NeuralNetworkRegressor, VQR\n",
    "\n",
    "from typing import Union\n",
    "\n",
    "from qiskit_machine_learning.exceptions import QiskitMachineLearningError\n",
    "import pylatexenc\n",
    "\n",
    "from sklearn.metrics import confusion_matrix"
   ]
  },
  {
   "cell_type": "code",
   "execution_count": 3,
   "id": "ded9346b",
   "metadata": {},
   "outputs": [],
   "source": [
    "#Initiating the instance\n",
    "quantum_instance = QuantumInstance(Aer.get_backend('qasm_simulator'), shots=1024)"
   ]
  },
  {
   "cell_type": "code",
   "execution_count": 4,
   "id": "ee32e823",
   "metadata": {},
   "outputs": [
    {
     "data": {
      "text/html": [
       "<div>\n",
       "<style scoped>\n",
       "    .dataframe tbody tr th:only-of-type {\n",
       "        vertical-align: middle;\n",
       "    }\n",
       "\n",
       "    .dataframe tbody tr th {\n",
       "        vertical-align: top;\n",
       "    }\n",
       "\n",
       "    .dataframe thead th {\n",
       "        text-align: right;\n",
       "    }\n",
       "</style>\n",
       "<table border=\"1\" class=\"dataframe\">\n",
       "  <thead>\n",
       "    <tr style=\"text-align: right;\">\n",
       "      <th></th>\n",
       "      <th>BOD</th>\n",
       "      <th>NH3-N</th>\n",
       "      <th>TN</th>\n",
       "      <th>MLSS</th>\n",
       "      <th>PH</th>\n",
       "      <th>AT_Temp</th>\n",
       "      <th>TN_Y</th>\n",
       "    </tr>\n",
       "  </thead>\n",
       "  <tbody>\n",
       "    <tr>\n",
       "      <th>0</th>\n",
       "      <td>38</td>\n",
       "      <td>25</td>\n",
       "      <td>48</td>\n",
       "      <td>2250</td>\n",
       "      <td>8.3</td>\n",
       "      <td>22.150</td>\n",
       "      <td>12.0</td>\n",
       "    </tr>\n",
       "    <tr>\n",
       "      <th>1</th>\n",
       "      <td>180</td>\n",
       "      <td>29</td>\n",
       "      <td>48</td>\n",
       "      <td>2500</td>\n",
       "      <td>7.6</td>\n",
       "      <td>25.200</td>\n",
       "      <td>12.0</td>\n",
       "    </tr>\n",
       "    <tr>\n",
       "      <th>2</th>\n",
       "      <td>160</td>\n",
       "      <td>24</td>\n",
       "      <td>41</td>\n",
       "      <td>2140</td>\n",
       "      <td>7.2</td>\n",
       "      <td>23.650</td>\n",
       "      <td>9.7</td>\n",
       "    </tr>\n",
       "    <tr>\n",
       "      <th>3</th>\n",
       "      <td>170</td>\n",
       "      <td>28</td>\n",
       "      <td>44</td>\n",
       "      <td>2040</td>\n",
       "      <td>7.3</td>\n",
       "      <td>24.175</td>\n",
       "      <td>12.0</td>\n",
       "    </tr>\n",
       "    <tr>\n",
       "      <th>4</th>\n",
       "      <td>500</td>\n",
       "      <td>16</td>\n",
       "      <td>98</td>\n",
       "      <td>1660</td>\n",
       "      <td>7.5</td>\n",
       "      <td>25.360</td>\n",
       "      <td>13.0</td>\n",
       "    </tr>\n",
       "  </tbody>\n",
       "</table>\n",
       "</div>"
      ],
      "text/plain": [
       "   BOD  NH3-N  TN  MLSS   PH  AT_Temp  TN_Y\n",
       "0   38     25  48  2250  8.3   22.150  12.0\n",
       "1  180     29  48  2500  7.6   25.200  12.0\n",
       "2  160     24  41  2140  7.2   23.650   9.7\n",
       "3  170     28  44  2040  7.3   24.175  12.0\n",
       "4  500     16  98  1660  7.5   25.360  13.0"
      ]
     },
     "execution_count": 4,
     "metadata": {},
     "output_type": "execute_result"
    }
   ],
   "source": [
    "#Reading the data and removing extra column unnamed\n",
    "data = pd.read_csv(\"Test_TN.csv\")\n",
    "data.head()\n",
    "data = data.drop(\"Unnamed: 0\", axis = 1)\n",
    "data.head()"
   ]
  },
  {
   "cell_type": "code",
   "execution_count": 5,
   "id": "beba0c16",
   "metadata": {},
   "outputs": [],
   "source": [
    "#Filtering data so it runs faster\n",
    "data = data.iloc[0:10,]"
   ]
  },
  {
   "cell_type": "code",
   "execution_count": 6,
   "id": "4d4741e7",
   "metadata": {},
   "outputs": [
    {
     "data": {
      "text/html": [
       "<div>\n",
       "<style scoped>\n",
       "    .dataframe tbody tr th:only-of-type {\n",
       "        vertical-align: middle;\n",
       "    }\n",
       "\n",
       "    .dataframe tbody tr th {\n",
       "        vertical-align: top;\n",
       "    }\n",
       "\n",
       "    .dataframe thead th {\n",
       "        text-align: right;\n",
       "    }\n",
       "</style>\n",
       "<table border=\"1\" class=\"dataframe\">\n",
       "  <thead>\n",
       "    <tr style=\"text-align: right;\">\n",
       "      <th></th>\n",
       "      <th>BOD</th>\n",
       "      <th>NH3-N</th>\n",
       "      <th>TN</th>\n",
       "      <th>MLSS</th>\n",
       "      <th>PH</th>\n",
       "      <th>AT_Temp</th>\n",
       "      <th>TN_Y</th>\n",
       "      <th>TN_Y_binary</th>\n",
       "    </tr>\n",
       "  </thead>\n",
       "  <tbody>\n",
       "    <tr>\n",
       "      <th>0</th>\n",
       "      <td>38</td>\n",
       "      <td>25</td>\n",
       "      <td>48</td>\n",
       "      <td>2250</td>\n",
       "      <td>8.3</td>\n",
       "      <td>22.150</td>\n",
       "      <td>12.0</td>\n",
       "      <td>1</td>\n",
       "    </tr>\n",
       "    <tr>\n",
       "      <th>1</th>\n",
       "      <td>180</td>\n",
       "      <td>29</td>\n",
       "      <td>48</td>\n",
       "      <td>2500</td>\n",
       "      <td>7.6</td>\n",
       "      <td>25.200</td>\n",
       "      <td>12.0</td>\n",
       "      <td>1</td>\n",
       "    </tr>\n",
       "    <tr>\n",
       "      <th>2</th>\n",
       "      <td>160</td>\n",
       "      <td>24</td>\n",
       "      <td>41</td>\n",
       "      <td>2140</td>\n",
       "      <td>7.2</td>\n",
       "      <td>23.650</td>\n",
       "      <td>9.7</td>\n",
       "      <td>0</td>\n",
       "    </tr>\n",
       "    <tr>\n",
       "      <th>3</th>\n",
       "      <td>170</td>\n",
       "      <td>28</td>\n",
       "      <td>44</td>\n",
       "      <td>2040</td>\n",
       "      <td>7.3</td>\n",
       "      <td>24.175</td>\n",
       "      <td>12.0</td>\n",
       "      <td>1</td>\n",
       "    </tr>\n",
       "    <tr>\n",
       "      <th>4</th>\n",
       "      <td>500</td>\n",
       "      <td>16</td>\n",
       "      <td>98</td>\n",
       "      <td>1660</td>\n",
       "      <td>7.5</td>\n",
       "      <td>25.360</td>\n",
       "      <td>13.0</td>\n",
       "      <td>1</td>\n",
       "    </tr>\n",
       "  </tbody>\n",
       "</table>\n",
       "</div>"
      ],
      "text/plain": [
       "   BOD  NH3-N  TN  MLSS   PH  AT_Temp  TN_Y  TN_Y_binary\n",
       "0   38     25  48  2250  8.3   22.150  12.0            1\n",
       "1  180     29  48  2500  7.6   25.200  12.0            1\n",
       "2  160     24  41  2140  7.2   23.650   9.7            0\n",
       "3  170     28  44  2040  7.3   24.175  12.0            1\n",
       "4  500     16  98  1660  7.5   25.360  13.0            1"
      ]
     },
     "execution_count": 6,
     "metadata": {},
     "output_type": "execute_result"
    }
   ],
   "source": [
    "# Creating a binary variable based on median value\n",
    "data['TN_Y_binary'] = np.where(data['TN_Y'] >= data['TN_Y'].median(), 1, 0)\n",
    "data.head()"
   ]
  },
  {
   "cell_type": "code",
   "execution_count": 7,
   "id": "1bffdf63",
   "metadata": {},
   "outputs": [
    {
     "data": {
      "application/vnd.jupyter.widget-view+json": {
       "model_id": "bde8e851d3174f9fae6e23b95256406f",
       "version_major": 2,
       "version_minor": 0
      },
      "text/plain": [
       "Summarize dataset:   0%|          | 0/21 [00:00<?, ?it/s]"
      ]
     },
     "metadata": {},
     "output_type": "display_data"
    },
    {
     "data": {
      "application/vnd.jupyter.widget-view+json": {
       "model_id": "1f645d55aa8c4bd2b98e0aff2fec5c18",
       "version_major": 2,
       "version_minor": 0
      },
      "text/plain": [
       "Generate report structure:   0%|          | 0/1 [00:00<?, ?it/s]"
      ]
     },
     "metadata": {},
     "output_type": "display_data"
    },
    {
     "data": {
      "application/vnd.jupyter.widget-view+json": {
       "model_id": "",
       "version_major": 2,
       "version_minor": 0
      },
      "text/plain": [
       "Render widgets:   0%|          | 0/1 [00:00<?, ?it/s]"
      ]
     },
     "metadata": {},
     "output_type": "display_data"
    },
    {
     "data": {
      "application/vnd.jupyter.widget-view+json": {
       "model_id": "0bd48b6fc8a34c3e920b75fa0900bae0",
       "version_major": 2,
       "version_minor": 0
      },
      "text/plain": [
       "VBox(children=(Tab(children=(Tab(children=(GridBox(children=(VBox(children=(GridspecLayout(children=(HTML(valu…"
      ]
     },
     "metadata": {},
     "output_type": "display_data"
    }
   ],
   "source": [
    "#doing pandas profiling\n",
    "from pandas_profiling import ProfileReport\n",
    "profile = ProfileReport(data, title=\"Pandas Profiling Report\")\n",
    "profile.to_widgets()"
   ]
  },
  {
   "cell_type": "code",
   "execution_count": 8,
   "id": "7290a8c2",
   "metadata": {},
   "outputs": [
    {
     "data": {
      "text/html": [
       "<div>\n",
       "<style scoped>\n",
       "    .dataframe tbody tr th:only-of-type {\n",
       "        vertical-align: middle;\n",
       "    }\n",
       "\n",
       "    .dataframe tbody tr th {\n",
       "        vertical-align: top;\n",
       "    }\n",
       "\n",
       "    .dataframe thead th {\n",
       "        text-align: right;\n",
       "    }\n",
       "</style>\n",
       "<table border=\"1\" class=\"dataframe\">\n",
       "  <thead>\n",
       "    <tr style=\"text-align: right;\">\n",
       "      <th></th>\n",
       "      <th>BOD</th>\n",
       "      <th>NH3-N</th>\n",
       "      <th>TN</th>\n",
       "      <th>MLSS</th>\n",
       "      <th>PH</th>\n",
       "      <th>AT_Temp</th>\n",
       "    </tr>\n",
       "  </thead>\n",
       "  <tbody>\n",
       "    <tr>\n",
       "      <th>0</th>\n",
       "      <td>38</td>\n",
       "      <td>25</td>\n",
       "      <td>48</td>\n",
       "      <td>2250</td>\n",
       "      <td>8.3</td>\n",
       "      <td>22.150</td>\n",
       "    </tr>\n",
       "    <tr>\n",
       "      <th>1</th>\n",
       "      <td>180</td>\n",
       "      <td>29</td>\n",
       "      <td>48</td>\n",
       "      <td>2500</td>\n",
       "      <td>7.6</td>\n",
       "      <td>25.200</td>\n",
       "    </tr>\n",
       "    <tr>\n",
       "      <th>2</th>\n",
       "      <td>160</td>\n",
       "      <td>24</td>\n",
       "      <td>41</td>\n",
       "      <td>2140</td>\n",
       "      <td>7.2</td>\n",
       "      <td>23.650</td>\n",
       "    </tr>\n",
       "    <tr>\n",
       "      <th>3</th>\n",
       "      <td>170</td>\n",
       "      <td>28</td>\n",
       "      <td>44</td>\n",
       "      <td>2040</td>\n",
       "      <td>7.3</td>\n",
       "      <td>24.175</td>\n",
       "    </tr>\n",
       "    <tr>\n",
       "      <th>4</th>\n",
       "      <td>500</td>\n",
       "      <td>16</td>\n",
       "      <td>98</td>\n",
       "      <td>1660</td>\n",
       "      <td>7.5</td>\n",
       "      <td>25.360</td>\n",
       "    </tr>\n",
       "  </tbody>\n",
       "</table>\n",
       "</div>"
      ],
      "text/plain": [
       "   BOD  NH3-N  TN  MLSS   PH  AT_Temp\n",
       "0   38     25  48  2250  8.3   22.150\n",
       "1  180     29  48  2500  7.6   25.200\n",
       "2  160     24  41  2140  7.2   23.650\n",
       "3  170     28  44  2040  7.3   24.175\n",
       "4  500     16  98  1660  7.5   25.360"
      ]
     },
     "execution_count": 8,
     "metadata": {},
     "output_type": "execute_result"
    }
   ],
   "source": [
    "#Filtering relevant independent variables\n",
    "X = data[['BOD','NH3-N','TN','MLSS','PH','AT_Temp']]\n",
    "X.head()"
   ]
  },
  {
   "cell_type": "code",
   "execution_count": 9,
   "id": "cc3f0c45",
   "metadata": {},
   "outputs": [],
   "source": [
    "# Creating binary variable\n",
    "y = data['TN_Y_binary']"
   ]
  },
  {
   "cell_type": "code",
   "execution_count": 10,
   "id": "a120b8a7",
   "metadata": {},
   "outputs": [
    {
     "name": "stdout",
     "output_type": "stream",
     "text": [
      "[[1. 1.]\n",
      " [1. 1.]\n",
      " [1. 1.]\n",
      " [1. 1.]\n",
      " [1. 1.]\n",
      " [1. 1.]\n",
      " [1. 1.]\n",
      " [1. 1.]\n",
      " [1. 1.]\n",
      " [1. 1.]]\n"
     ]
    },
    {
     "data": {
      "text/plain": [
       "array([[0., 1.],\n",
       "       [0., 1.],\n",
       "       [1., 0.],\n",
       "       [0., 1.],\n",
       "       [0., 1.],\n",
       "       [0., 1.],\n",
       "       [1., 0.],\n",
       "       [1., 0.],\n",
       "       [1., 0.],\n",
       "       [1., 0.]])"
      ]
     },
     "execution_count": 10,
     "metadata": {},
     "output_type": "execute_result"
    }
   ],
   "source": [
    "# Creating a dummy varible for VQC\n",
    "y_new = np.ones((len(data),2))\n",
    "print(y_new)\n",
    "\n",
    "y_new[:,1] = np.where(y == 1, 1, 0)\n",
    "y_new[:,0] = np.where(y == 0, 1, 0)\n",
    "y_new"
   ]
  },
  {
   "cell_type": "code",
   "execution_count": 11,
   "id": "3c1dcda7",
   "metadata": {},
   "outputs": [
    {
     "data": {
      "text/plain": [
       "array([ 0.5 ,  0.5 , -0.65,  0.5 ,  1.  , -0.5 , -0.8 , -0.7 , -1.  ,\n",
       "       -0.85])"
      ]
     },
     "execution_count": 11,
     "metadata": {},
     "output_type": "execute_result"
    }
   ],
   "source": [
    "# Y variable for regression and scaling it from -1 to +1\n",
    "y_linear = data['TN_Y']\n",
    "y_linear_scaled = np.interp(y_linear, (y_linear.min(), y_linear.max()), (-1, +1))\n",
    "y_linear_scaled"
   ]
  },
  {
   "cell_type": "markdown",
   "id": "605c13a8",
   "metadata": {},
   "source": [
    "VQC Regression"
   ]
  },
  {
   "cell_type": "code",
   "execution_count": 12,
   "id": "3e351691",
   "metadata": {},
   "outputs": [
    {
     "data": {
      "image/png": "[encoded data removed]",
      "text/plain": [
       "<Figure size 1591.6x806.68 with 1 Axes>"
      ]
     },
     "execution_count": 12,
     "metadata": {},
     "output_type": "execute_result"
    }
   ],
   "source": [
    "num_inputs=6\n",
    "from qiskit.algorithms.optimizers import COBYLA , L_BFGS_B , SLSQP,SPSA,TNC ,ADAM\n",
    "# construct feature map\n",
    "feature_map = ZFeatureMap(num_inputs)\n",
    "from numpy import pi\n",
    "# construct ansatz\n",
    "ansatz = RealAmplitudes(num_inputs, reps=2)\n",
    "\n",
    "# construct quantum circuit\n",
    "qc = QuantumCircuit(num_inputs)\n",
    "qc.append(feature_map, range(num_inputs))\n",
    "for i in range(num_inputs):\n",
    "    theta0 = 'a' + str(i)\n",
    "    theta1 = 'b'+str(i)\n",
    "    theta2= 'c'+str(i)\n",
    "    qc.u(Parameter(theta0),Parameter(theta1),Parameter(theta2),i)\n",
    "qc.append(ansatz, range(num_inputs))\n",
    "for i in range(num_inputs):\n",
    "    theta3 = 'a' + str(i+6)\n",
    "    theta4 = 'b'+str(i+6)\n",
    "    theta5= 'c'+str(i+6)\n",
    "    qc.u(Parameter(theta3),Parameter(theta4),Parameter(theta5),i)\n",
    "qc.decompose().draw(output='mpl')\n"
   ]
  },
  {
   "cell_type": "code",
   "execution_count": 13,
   "id": "4d4b841b",
   "metadata": {},
   "outputs": [],
   "source": [
    "#Initiating regressor\n",
    "vqr = VQR(feature_map=feature_map,\n",
    "          ansatz=ansatz,\n",
    "          optimizer=SLSQP(),\n",
    "          quantum_instance=quantum_instance)"
   ]
  },
  {
   "cell_type": "code",
   "execution_count": 14,
   "id": "10d27552",
   "metadata": {},
   "outputs": [
    {
     "data": {
      "text/plain": [
       "<qiskit_machine_learning.algorithms.regressors.vqr.VQR at 0x7f8110d2dd90>"
      ]
     },
     "execution_count": 14,
     "metadata": {},
     "output_type": "execute_result"
    }
   ],
   "source": [
    "#fitting regressor\n",
    "vqr.fit(X, y_linear_scaled)"
   ]
  },
  {
   "cell_type": "code",
   "execution_count": 15,
   "id": "b02b54bc",
   "metadata": {},
   "outputs": [
    {
     "data": {
      "text/plain": [
       "array([[ 0.2734375 ],\n",
       "       [ 0.44140625],\n",
       "       [-0.3828125 ],\n",
       "       [-0.05273438],\n",
       "       [ 0.40625   ],\n",
       "       [-0.33984375],\n",
       "       [-0.46875   ],\n",
       "       [-0.3046875 ],\n",
       "       [-0.68359375],\n",
       "       [-0.80859375]])"
      ]
     },
     "execution_count": 15,
     "metadata": {},
     "output_type": "execute_result"
    }
   ],
   "source": [
    "#Predicting the value\n",
    "y_VQR = vqr.predict(X)\n",
    "y_VQR"
   ]
  },
  {
   "cell_type": "code",
   "execution_count": 18,
   "id": "0d44fd88",
   "metadata": {},
   "outputs": [
    {
     "data": {
      "image/png": "[encoded data removed]",
      "text/plain": [
       "<Figure size 432x288 with 1 Axes>"
      ]
     },
     "metadata": {
      "needs_background": "light"
     },
     "output_type": "display_data"
    }
   ],
   "source": [
    "# plot data\n",
    "plt.plot(X.iloc[:,0], y_linear_scaled, 'bo')\n",
    "# plot fitted line\n",
    "plt.plot(X.iloc[:,0], y_VQR, 'go')\n",
    "plt.show()"
   ]
  },
  {
   "cell_type": "code",
   "execution_count": 19,
   "id": "7eaf0e43",
   "metadata": {},
   "outputs": [
    {
     "data": {
      "text/plain": [
       "[<matplotlib.lines.Line2D at 0x7f810f445940>]"
      ]
     },
     "execution_count": 19,
     "metadata": {},
     "output_type": "execute_result"
    },
    {
     "data": {
      "image/png": "[encoded data removed]",
      "text/plain": [
       "<Figure size 432x288 with 1 Axes>"
      ]
     },
     "metadata": {
      "needs_background": "light"
     },
     "output_type": "display_data"
    }
   ],
   "source": [
    "plt.plot(y_linear_scaled,y_VQR, 'bo')\n",
    "x = np.linspace(-1, 1,100)\n",
    "plt.xlim([-1, 1])\n",
    "plt.ylim([-1, 1])\n",
    "plt.plot(x,x,color=\"black\")"
   ]
  },
  {
   "cell_type": "code",
   "execution_count": 21,
   "id": "0b5a3d69",
   "metadata": {},
   "outputs": [
    {
     "data": {
      "text/plain": [
       "[<matplotlib.lines.Line2D at 0x7f810e05f250>]"
      ]
     },
     "execution_count": 21,
     "metadata": {},
     "output_type": "execute_result"
    },
    {
     "data": {
      "image/png": "[encoded data removed]",
      "text/plain": [
       "<Figure size 432x288 with 1 Axes>"
      ]
     },
     "metadata": {
      "needs_background": "light"
     },
     "output_type": "display_data"
    }
   ],
   "source": [
    "plt.plot(y_linear_scaled_b,y_VQR_b, 'bo')\n",
    "x = np.linspace(4, 14,100)\n",
    "plt.xlim([8, 14])\n",
    "plt.xlabel=('Actual TN')\n",
    "plt.ylabel=('Predicted TN')\n",
    "plt.ylim([8, 14])\n",
    "plt.plot(x,x,color=\"black\")"
   ]
  },
  {
   "cell_type": "code",
   "execution_count": 26,
   "id": "2c58769e",
   "metadata": {},
   "outputs": [
    {
     "name": "stdout",
     "output_type": "stream",
     "text": [
      "1.1776832580566408\n",
      "0.7584239470653045\n"
     ]
    }
   ],
   "source": [
    "from sklearn.metrics import mean_squared_error\n",
    "from sklearn.metrics import r2_score\n",
    "#MSE\n",
    "mse = mean_squared_error(y_linear_scaled,y_VQR)*10\n",
    "print(mse)\n",
    "# R squared error\n",
    "r2s = r2_score(y_linear_scaled,y_VQR)\n",
    "print(r2s)"
   ]
  },
  {
   "cell_type": "code",
   "execution_count": null,
   "id": "b555ea32",
   "metadata": {},
   "outputs": [],
   "source": []
  }
 ],
 "metadata": {
  "kernelspec": {
   "display_name": "Python 3",
   "language": "python",
   "name": "python3"
  },
  "language_info": {
   "codemirror_mode": {
    "name": "ipython",
    "version": 3
   },
   "file_extension": ".py",
   "mimetype": "text/x-python",
   "name": "python",
   "nbconvert_exporter": "python",
   "pygments_lexer": "ipython3",
   "version": "3.8.8"
  }
 },
 "nbformat": 4,
 "nbformat_minor": 5
}
