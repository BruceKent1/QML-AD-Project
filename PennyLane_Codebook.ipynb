{
  "nbformat": 4,
  "nbformat_minor": 0,
  "metadata": {
    "colab": {
      "provenance": [],
      "authorship_tag": "ABX9TyOBFIqhs/5SY3YrOZkuLIfV",
      "include_colab_link": true
    },
    "kernelspec": {
      "name": "python3",
      "display_name": "Python 3"
    },
    "language_info": {
      "name": "python"
    }
  },
  "cells": [
    {
      "cell_type": "markdown",
      "metadata": {
        "id": "view-in-github",
        "colab_type": "text"
      },
      "source": [
        "<a href=\"https://colab.research.google.com/github/BruceKent1/QML-AD-Project/blob/main/PennyLane_Codebook.ipynb\" target=\"_parent\"><img src=\"https://colab.research.google.com/assets/colab-badge.svg\" alt=\"Open In Colab\"/></a>"
      ]
    },
    {
      "cell_type": "markdown",
      "source": [
        "\n",
        "Exercise 1: Rescale alpha and beta so the length of the vector equals 1\n",
        "---\n",
        "\n"
      ],
      "metadata": {
        "id": "3IfnKTBFmudu"
      }
    },
    {
      "cell_type": "code",
      "execution_count": null,
      "metadata": {
        "id": "3W-OgZTQ69V1"
      },
      "outputs": [],
      "source": [
        "import numpy as np"
      ]
    },
    {
      "cell_type": "code",
      "source": [
        "def normalise_state(alpha,beta):\n",
        "# define the function that will take alpha and beta and return the normalised pair\n",
        "\n",
        "    # Compute a normalized quantum state given arbitrary amplitudes.\n",
        "\n",
        "    # Args:\n",
        "    #     alpha (complex): Amplitude for |0>\n",
        "    #     beta  (complex): Amplitude for |1>\n",
        "    # Returns:\n",
        "    #     np.array[complex]: [alpha', beta'] with |alpha'|^2 + |beta'|^2 = 1\n",
        "\n",
        "      # step 1: Compute the length of new state, Length of vector (norm_squared)\n",
        "      #  = sqr (abs aplha squared)+(abd beta squared)\n",
        "      norm_sq = abs(alpha)**2 + abs(beta)**2\n",
        "      # step 2: prevent the arbitirary number from being zero, extra check\n",
        "      if norm_sq == 0:\n",
        "        raise ValueError(\"amplitudes cannot be both zero\")\n",
        "      #step 3: define the norm term, the length which is the square root of norm squared term\n",
        "      norm = np.sqrt(norm_sq)\n",
        "\n",
        "      return np.array([alpha / norm, beta / norm], dtype=complex)\n",
        "      # the function will return a vector of alpha over the length (norm) and beta over the norm\n",
        "      # rescale the vector by the length so it is not more that one\n",
        "      # we want to check if the rescale method actually works\n",
        "\n",
        "\n",
        "      # alpha_prime = alpha/norm\n",
        "      # beta_prime = beta/norm\n",
        "      # return np.array([alpha_prime, beta_prime])\n",
        "      # we can define it so it gives alpha prime abd beta prime\n"
      ],
      "metadata": {
        "id": "8zq5Pa3x7KU4"
      },
      "execution_count": null,
      "outputs": []
    },
    {
      "cell_type": "code",
      "source": [
        "alpha = 7+0j   # amplitude for |0>\n",
        "beta  = 9+0j   # amplitude for |1>\n",
        "# we tried random complex numbers to see\n"
      ],
      "metadata": {
        "id": "3Dq61C_U7wEl"
      },
      "execution_count": null,
      "outputs": []
    },
    {
      "cell_type": "code",
      "source": [
        "state = normalise_state(alpha, beta)\n",
        "print(\"Normalized state:\", state)\n",
        "# gave as the rescaled vector, the new state"
      ],
      "metadata": {
        "colab": {
          "base_uri": "https://localhost:8080/"
        },
        "id": "0HO-709J9svg",
        "outputId": "54701466-5df5-460d-bb6d-766c2434d463"
      },
      "execution_count": null,
      "outputs": [
        {
          "output_type": "stream",
          "name": "stdout",
          "text": [
            "Normalized state: [0.61394061+0.j 0.78935222+0.j]\n"
          ]
        }
      ]
    },
    {
      "cell_type": "code",
      "source": [
        "print(\"Check:\", abs(state[0])**2 + abs(state[1])**2)\n",
        "# check if equals to 1"
      ],
      "metadata": {
        "colab": {
          "base_uri": "https://localhost:8080/"
        },
        "id": "NhYsKAMj92Jn",
        "outputId": "1f83c49e-5717-4f50-8203-bd2246ffa587"
      },
      "execution_count": null,
      "outputs": [
        {
          "output_type": "stream",
          "name": "stdout",
          "text": [
            "Check: 1.0\n"
          ]
        }
      ]
    },
    {
      "cell_type": "code",
      "source": [
        "import matplotlib.pyplot as plt\n",
        "import numpy as np\n",
        "\n",
        "# Set up the figure\n",
        "fig, ax = plt.subplots(figsize=(8, 8))\n",
        "\n",
        "# Draw unit circle (normalization condition)\n",
        "circle = plt.Circle((0, 0), 1, color='lightgray', fill=False, linestyle='--')\n",
        "ax.add_artist(circle)\n",
        "\n",
        "# Define vectors for |0>, |1>, and an example superposition\n",
        "ket_0 = np.array([0, 1])   # pointing \"up\"\n",
        "ket_1 = np.array([1, 0])   # pointing \"right\"\n",
        "psi = np.array([0.6, 0.8]) # normalized example (superposition)\n",
        "\n",
        "# Draw arrows for states\n",
        "ax.arrow(0, 0, ket_0[0], ket_0[1], head_width=0.05, color='blue', length_includes_head=True)\n",
        "ax.text(ket_0[0]*1.1, ket_0[1]*1.05, r\"$|0\\rangle$\", fontsize=12, color='blue')\n",
        "\n",
        "ax.arrow(0, 0, ket_1[0], ket_1[1], head_width=0.05, color='red', length_includes_head=True)\n",
        "ax.text(ket_1[0]*1.1, ket_1[1]*1.05, r\"$|1\\rangle$\", fontsize=12, color='red')\n",
        "\n",
        "ax.arrow(0, 0, psi[0], psi[1], head_width=0.05, color='green', length_includes_head=True)\n",
        "ax.text(psi[0]*1.1, psi[1]*1.05, r\"$|\\psi\\rangle$\", fontsize=12, color='green')\n",
        "\n",
        "# Formatting\n",
        "ax.set_xlim(-1.2, 1.2)\n",
        "ax.set_ylim(-1.2, 1.2)\n",
        "ax.set_aspect('equal', adjustable='box')\n",
        "ax.set_xlabel(\"Re($\\psi$)\")\n",
        "ax.set_ylabel(\"Im($\\psi$)\")\n",
        "ax.set_title(\"Qubit States on the Unit Circle\")\n",
        "ax.grid(True)\n",
        "\n",
        "plt.show()\n"
      ],
      "metadata": {
        "colab": {
          "base_uri": "https://localhost:8080/",
          "height": 865
        },
        "id": "lKpf25Di-C-f",
        "outputId": "195cbf76-602a-473b-98db-974f7d1fa74f"
      },
      "execution_count": null,
      "outputs": [
        {
          "output_type": "stream",
          "name": "stderr",
          "text": [
            "<>:30: SyntaxWarning: invalid escape sequence '\\p'\n",
            "<>:31: SyntaxWarning: invalid escape sequence '\\p'\n",
            "<>:30: SyntaxWarning: invalid escape sequence '\\p'\n",
            "<>:31: SyntaxWarning: invalid escape sequence '\\p'\n",
            "/tmp/ipython-input-2744799371.py:30: SyntaxWarning: invalid escape sequence '\\p'\n",
            "  ax.set_xlabel(\"Re($\\psi$)\")\n",
            "/tmp/ipython-input-2744799371.py:31: SyntaxWarning: invalid escape sequence '\\p'\n",
            "  ax.set_ylabel(\"Im($\\psi$)\")\n"
          ]
        },
        {
          "output_type": "display_data",
          "data": {
            "text/plain": [
              "<Figure size 800x800 with 1 Axes>"
            ],
            "image/png": "[encoded data removed]"
          },
          "metadata": {}
        }
      ]
    },
    {
      "cell_type": "code",
      "source": [],
      "metadata": {
        "id": "Bdwl3Z9PrCPq"
      },
      "execution_count": null,
      "outputs": []
    },
    {
      "cell_type": "markdown",
      "source": [
        "Exercise 2:"
      ],
      "metadata": {
        "id": "JrNFoOR-rFTj"
      }
    },
    {
      "cell_type": "code",
      "source": [
        "import numpy as np\n",
        "\n",
        "def inner_product(state_1, state_2):\n",
        "    \"\"\"\n",
        "    Compute the inner product between two quantum state vectors.\n",
        "    ⟨state_1 | state_2⟩\n",
        "    \"\"\"\n",
        "    # conjugate transpose of state_1 dotted with state_2\n",
        "    return np.vdot(state_1, state_2)\n",
        "\n",
        "\n",
        "# Test with |0> and |1>\n",
        "ket_0 = np.array([1, 0], dtype=complex)\n",
        "ket_1 = np.array([0, 1], dtype=complex)\n",
        "\n",
        "print(f\"<0|0> = {inner_product(ket_0, ket_0)}\")  # should be 1\n",
        "print(f\"<0|1> = {inner_product(ket_0, ket_1)}\")  # should be 0\n",
        "print(f\"<1|0> = {inner_product(ket_1, ket_0)}\")  # should be 0\n",
        "print(f\"<1|1> = {inner_product(ket_1, ket_1)}\")  # should be 1\n"
      ],
      "metadata": {
        "colab": {
          "base_uri": "https://localhost:8080/"
        },
        "id": "GK9H2732rHIG",
        "outputId": "7d1fd16a-45d5-4fa6-a4bd-e07cc45d0c85"
      },
      "execution_count": null,
      "outputs": [
        {
          "output_type": "stream",
          "name": "stdout",
          "text": [
            "<0|0> = (1+0j)\n",
            "<0|1> = 0j\n",
            "<1|0> = 0j\n",
            "<1|1> = (1+0j)\n"
          ]
        }
      ]
    },
    {
      "cell_type": "code",
      "source": [],
      "metadata": {
        "id": "Qzsg8NtxudNA"
      },
      "execution_count": null,
      "outputs": []
    },
    {
      "cell_type": "markdown",
      "source": [
        "excercise 3"
      ],
      "metadata": {
        "id": "0MOfHus3vtGV"
      }
    },
    {
      "cell_type": "code",
      "source": [
        "import numpy as np\n",
        "\n",
        "def measure_state(state, num_meas):\n",
        "    \"\"\"\n",
        "    Simulate quantum measurement outcomes.\n",
        "\n",
        "    Args:\n",
        "        state (np.array[complex]): [alpha, beta], normalized qubit state.\n",
        "        num_meas (int): number of measurements.\n",
        "\n",
        "    Returns:\n",
        "        np.array[int]: list of 0/1 measurement outcomes.\n",
        "    \"\"\"\n",
        "\n",
        "    # Step 1: compute probabilities from amplitudes\n",
        "    # According to the Born rule:\n",
        "    #   P(0) = |alpha|^2   (probability of measuring 0)\n",
        "    #   P(1) = |beta|^2    (probability of measuring 1)\n",
        "    # Here abs(state[i]) gives |alpha| or |beta|,\n",
        "    # and abs(...)**2 gives |alpha|^2 or |beta|^2\n",
        "    probs = [abs(state[0])**2, abs(state[1])**2]\n",
        "\n",
        "    # Step 2: simulate measurement outcomes\n",
        "    # np.random.choice selects random values from [0,1],\n",
        "    #   - 'size=num_meas' means repeat the process 'num_meas' times\n",
        "    #   - 'p=probs' sets the probability weights (P(0), P(1))\n",
        "    # So each measurement result will be 0 with probability P(0),\n",
        "    # and 1 with probability P(1).\n",
        "    outcomes = np.random.choice([0, 1], size=num_meas, p=probs)\n",
        "\n",
        "    # Step 3: return the array of outcomes\n",
        "    return outcomes\n",
        "\n",
        "\n",
        "# -------------------------------\n",
        "# Example test\n",
        "# -------------------------------\n",
        "\n",
        "# Define a quantum state:\n",
        "# |ψ⟩ = 0.8|0⟩ + 0.6|1⟩\n",
        "# This is already normalized, since:\n",
        "#   |0.8|^2 + |0.6|^2 = 0.64 + 0.36 = 1\n",
        "state = np.array([0.8, 0.6])\n",
        "\n",
        "# Simulate 10 measurements\n",
        "# Each result is either 0 or 1, chosen with probabilities [0.64, 0.36]\n",
        "outcomes = measure_state(state, 10)\n",
        "\n",
        "print(\"Measurement outcomes (10 shots):\", outcomes)\n",
        "\n",
        "\n",
        "# -------------------------------\n",
        "# Extended test: more measurements\n",
        "# -------------------------------\n",
        "\n",
        "# Run 1000 measurements to see probabilities emerge\n",
        "outcomes_large = measure_state(state, 1000)\n",
        "\n",
        "# Count how many 0's and 1's appeared\n",
        "count_0 = np.sum(outcomes_large == 0)\n",
        "count_1 = np.sum(outcomes_large == 1)\n",
        "\n",
        "# Convert counts to relative frequencies\n",
        "freq_0 = count_0 / 1000\n",
        "freq_1 = count_1 / 1000\n",
        "\n",
        "print(f\"Counts: 0 → {count_0}, 1 → {count_1}\")\n",
        "print(f\"Frequencies (approximate probabilities): 0 → {freq_0:.2f}, 1 → {freq_1:.2f}\")\n",
        "print(f\"Theoretical probabilities: 0 → {abs(state[0])**2}, 1 → {abs(state[1])**2}\")\n"
      ],
      "metadata": {
        "colab": {
          "base_uri": "https://localhost:8080/"
        },
        "id": "Oa96hg3Pvu01",
        "outputId": "a374ba22-8c93-4c8a-9a19-2bd877f7ee9e"
      },
      "execution_count": null,
      "outputs": [
        {
          "output_type": "stream",
          "name": "stdout",
          "text": [
            "Measurement outcomes (10 shots): [0 0 0 0 1 1 0 1 1 0]\n",
            "Counts: 0 → 667, 1 → 333\n",
            "Frequencies (approximate probabilities): 0 → 0.67, 1 → 0.33\n",
            "Theoretical probabilities: 0 → 0.6400000000000001, 1 → 0.36\n"
          ]
        }
      ]
    },
    {
      "cell_type": "code",
      "source": [
        "import numpy as np\n",
        "from numpy import random\n",
        "\n",
        "alpha, beta = 0.8, 0.6\n",
        "probs = [abs(alpha)**2, abs(beta)**2]  # [0.64, 0.36]\n",
        "r = random.rand(5)                  # 5 random numbers in [0,1)\n",
        "outcomes = (r >= probs[0]).astype(int) # 0 if r<0.64 else 1\n",
        "print(\"r:\", np.round(r, 3))\n",
        "print(\"outcomes:\", outcomes.tolist())\n"
      ],
      "metadata": {
        "colab": {
          "base_uri": "https://localhost:8080/"
        },
        "id": "e4W5jxsrzje1",
        "outputId": "afaa8a74-eb3f-4e97-c3ef-fb75992381e2"
      },
      "execution_count": null,
      "outputs": [
        {
          "output_type": "stream",
          "name": "stdout",
          "text": [
            "r: [0.924 0.553 0.311 0.892 0.825]\n",
            "outcomes: [1, 0, 0, 1, 1]\n"
          ]
        }
      ]
    },
    {
      "cell_type": "code",
      "source": [
        "# r is the trial itself, the time that you roll the dice, it is a random number between 0 and 1\n",
        "# but it decides how the superposition goint to collapse into"
      ],
      "metadata": {
        "id": "abTnSTajagOQ"
      },
      "execution_count": null,
      "outputs": []
    },
    {
      "cell_type": "markdown",
      "source": [
        "## example 4"
      ],
      "metadata": {
        "id": "Pb4kkZF9ctNN"
      }
    },
    {
      "cell_type": "code",
      "source": [],
      "metadata": {
        "id": "2X1yVi2icvUF"
      },
      "execution_count": null,
      "outputs": []
    }
  ]
}