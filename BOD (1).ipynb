{
 "cells": [
  {
   "cell_type": "code",
   "execution_count": 1,
   "id": "c5c9e38f",
   "metadata": {},
   "outputs": [],
   "source": [
    "#!pip install qiskit\n",
    "#!pip install qiskit_machine_learning\n",
    "#!pip install pylatexenc"
   ]
  },
  {
   "cell_type": "code",
   "execution_count": 1,
   "id": "a18c830b",
   "metadata": {},
   "outputs": [],
   "source": [
    "#Importing the libraries\n",
    "\n",
    "import numpy as np\n",
    "import matplotlib.pyplot as plt\n",
    "import pandas as pd\n",
    "\n",
    "from qiskit import Aer, QuantumCircuit\n",
    "from qiskit.opflow import Z, I, StateFn\n",
    "from qiskit.utils import QuantumInstance\n",
    "from qiskit.circuit import Parameter\n",
    "from qiskit.circuit.library import RealAmplitudes, ZZFeatureMap, ZFeatureMap\n",
    "from qiskit.algorithms.optimizers import COBYLA, L_BFGS_B\n",
    "\n",
    "from qiskit_machine_learning.neural_networks import TwoLayerQNN, CircuitQNN\n",
    "from qiskit_machine_learning.algorithms.classifiers import NeuralNetworkClassifier, VQC\n",
    "from qiskit_machine_learning.algorithms.regressors import NeuralNetworkRegressor, VQR\n",
    "\n",
    "from typing import Union\n",
    "\n",
    "from qiskit_machine_learning.exceptions import QiskitMachineLearningError\n",
    "import pylatexenc\n",
    "\n",
    "from sklearn.metrics import confusion_matrix"
   ]
  },
  {
   "cell_type": "code",
   "execution_count": 2,
   "id": "06510a96",
   "metadata": {},
   "outputs": [
    {
     "name": "stderr",
     "output_type": "stream",
     "text": [
      "C:\\Users\\ASUS\\anaconda3\\lib\\site-packages\\qiskit\\aqua\\operators\\operator_globals.py:48: DeprecationWarning: `from_label` is deprecated and will be removed no earlier than 3 months after the release date. Use Pauli(label) instead.\n",
      "  X = make_immutable(PrimitiveOp(Pauli.from_label('X')))\n"
     ]
    }
   ],
   "source": [
    "#Initiating the instance\n",
    "quantum_instance = QuantumInstance(Aer.get_backend('qasm_simulator'), shots=1024)"
   ]
  },
  {
   "cell_type": "code",
   "execution_count": 3,
   "id": "5d135dea",
   "metadata": {},
   "outputs": [
    {
     "data": {
      "text/html": [
       "<div>\n",
       "<style scoped>\n",
       "    .dataframe tbody tr th:only-of-type {\n",
       "        vertical-align: middle;\n",
       "    }\n",
       "\n",
       "    .dataframe tbody tr th {\n",
       "        vertical-align: top;\n",
       "    }\n",
       "\n",
       "    .dataframe thead th {\n",
       "        text-align: right;\n",
       "    }\n",
       "</style>\n",
       "<table border=\"1\" class=\"dataframe\">\n",
       "  <thead>\n",
       "    <tr style=\"text-align: right;\">\n",
       "      <th></th>\n",
       "      <th>BOD</th>\n",
       "      <th>NH3-N</th>\n",
       "      <th>TN</th>\n",
       "      <th>MLSS</th>\n",
       "      <th>PH</th>\n",
       "      <th>AT_Temp</th>\n",
       "      <th>BOD_Y</th>\n",
       "      <th>Date</th>\n",
       "    </tr>\n",
       "  </thead>\n",
       "  <tbody>\n",
       "    <tr>\n",
       "      <th>0</th>\n",
       "      <td>170</td>\n",
       "      <td>28</td>\n",
       "      <td>44</td>\n",
       "      <td>2040</td>\n",
       "      <td>7.3</td>\n",
       "      <td>24.175</td>\n",
       "      <td>5.2</td>\n",
       "      <td>2013-03-07 00:00:00</td>\n",
       "    </tr>\n",
       "    <tr>\n",
       "      <th>1</th>\n",
       "      <td>500</td>\n",
       "      <td>16</td>\n",
       "      <td>98</td>\n",
       "      <td>1660</td>\n",
       "      <td>7.5</td>\n",
       "      <td>25.360</td>\n",
       "      <td>6.0</td>\n",
       "      <td>2013-03-14 00:00:00</td>\n",
       "    </tr>\n",
       "    <tr>\n",
       "      <th>2</th>\n",
       "      <td>120</td>\n",
       "      <td>20</td>\n",
       "      <td>29</td>\n",
       "      <td>2420</td>\n",
       "      <td>7.3</td>\n",
       "      <td>25.675</td>\n",
       "      <td>6.1</td>\n",
       "      <td>2013-05-09 00:00:00</td>\n",
       "    </tr>\n",
       "    <tr>\n",
       "      <th>3</th>\n",
       "      <td>230</td>\n",
       "      <td>18</td>\n",
       "      <td>52</td>\n",
       "      <td>2550</td>\n",
       "      <td>7.2</td>\n",
       "      <td>28.900</td>\n",
       "      <td>5.4</td>\n",
       "      <td>2013-10-10 00:00:00</td>\n",
       "    </tr>\n",
       "    <tr>\n",
       "      <th>4</th>\n",
       "      <td>120</td>\n",
       "      <td>25</td>\n",
       "      <td>39</td>\n",
       "      <td>2720</td>\n",
       "      <td>7.4</td>\n",
       "      <td>22.250</td>\n",
       "      <td>5.9</td>\n",
       "      <td>2013-12-19 00:00:00</td>\n",
       "    </tr>\n",
       "  </tbody>\n",
       "</table>\n",
       "</div>"
      ],
      "text/plain": [
       "   BOD  NH3-N  TN  MLSS   PH  AT_Temp  BOD_Y                 Date\n",
       "0  170     28  44  2040  7.3   24.175    5.2  2013-03-07 00:00:00\n",
       "1  500     16  98  1660  7.5   25.360    6.0  2013-03-14 00:00:00\n",
       "2  120     20  29  2420  7.3   25.675    6.1  2013-05-09 00:00:00\n",
       "3  230     18  52  2550  7.2   28.900    5.4  2013-10-10 00:00:00\n",
       "4  120     25  39  2720  7.4   22.250    5.9  2013-12-19 00:00:00"
      ]
     },
     "execution_count": 3,
     "metadata": {},
     "output_type": "execute_result"
    }
   ],
   "source": [
    "#Reading the data and removing extra column unnamed\n",
    "data = pd.read_csv(\"outputBOD.csv\")\n",
    "data.head()\n",
    "data = data.drop(\"Unnamed: 0\", axis = 1)\n",
    "data.head()"
   ]
  },
  {
   "cell_type": "code",
   "execution_count": 4,
   "id": "a3b95c7f",
   "metadata": {},
   "outputs": [],
   "source": [
    "#Filtering data so it runs faster\n",
    "data = data.iloc[0:100,]"
   ]
  },
  {
   "cell_type": "code",
   "execution_count": 173,
   "id": "82a356f1",
   "metadata": {},
   "outputs": [
    {
     "data": {
      "text/html": [
       "<div>\n",
       "<style scoped>\n",
       "    .dataframe tbody tr th:only-of-type {\n",
       "        vertical-align: middle;\n",
       "    }\n",
       "\n",
       "    .dataframe tbody tr th {\n",
       "        vertical-align: top;\n",
       "    }\n",
       "\n",
       "    .dataframe thead th {\n",
       "        text-align: right;\n",
       "    }\n",
       "</style>\n",
       "<table border=\"1\" class=\"dataframe\">\n",
       "  <thead>\n",
       "    <tr style=\"text-align: right;\">\n",
       "      <th></th>\n",
       "      <th>BOD</th>\n",
       "      <th>NH3-N</th>\n",
       "      <th>TN</th>\n",
       "      <th>MLSS</th>\n",
       "      <th>PH</th>\n",
       "      <th>AT_Temp</th>\n",
       "      <th>BOD_Y</th>\n",
       "      <th>Date</th>\n",
       "      <th>BOD_Y_binary</th>\n",
       "    </tr>\n",
       "  </thead>\n",
       "  <tbody>\n",
       "    <tr>\n",
       "      <th>0</th>\n",
       "      <td>170</td>\n",
       "      <td>28</td>\n",
       "      <td>44</td>\n",
       "      <td>2040</td>\n",
       "      <td>7.3</td>\n",
       "      <td>24.175</td>\n",
       "      <td>5.2</td>\n",
       "      <td>2013-03-07 00:00:00</td>\n",
       "      <td>1</td>\n",
       "    </tr>\n",
       "    <tr>\n",
       "      <th>1</th>\n",
       "      <td>500</td>\n",
       "      <td>16</td>\n",
       "      <td>98</td>\n",
       "      <td>1660</td>\n",
       "      <td>7.5</td>\n",
       "      <td>25.360</td>\n",
       "      <td>6.0</td>\n",
       "      <td>2013-03-14 00:00:00</td>\n",
       "      <td>1</td>\n",
       "    </tr>\n",
       "    <tr>\n",
       "      <th>2</th>\n",
       "      <td>120</td>\n",
       "      <td>20</td>\n",
       "      <td>29</td>\n",
       "      <td>2420</td>\n",
       "      <td>7.3</td>\n",
       "      <td>25.675</td>\n",
       "      <td>6.1</td>\n",
       "      <td>2013-05-09 00:00:00</td>\n",
       "      <td>1</td>\n",
       "    </tr>\n",
       "    <tr>\n",
       "      <th>3</th>\n",
       "      <td>230</td>\n",
       "      <td>18</td>\n",
       "      <td>52</td>\n",
       "      <td>2550</td>\n",
       "      <td>7.2</td>\n",
       "      <td>28.900</td>\n",
       "      <td>5.4</td>\n",
       "      <td>2013-10-10 00:00:00</td>\n",
       "      <td>1</td>\n",
       "    </tr>\n",
       "    <tr>\n",
       "      <th>4</th>\n",
       "      <td>120</td>\n",
       "      <td>25</td>\n",
       "      <td>39</td>\n",
       "      <td>2720</td>\n",
       "      <td>7.4</td>\n",
       "      <td>22.250</td>\n",
       "      <td>5.9</td>\n",
       "      <td>2013-12-19 00:00:00</td>\n",
       "      <td>1</td>\n",
       "    </tr>\n",
       "  </tbody>\n",
       "</table>\n",
       "</div>"
      ],
      "text/plain": [
       "   BOD  NH3-N  TN  MLSS   PH  AT_Temp  BOD_Y                 Date  \\\n",
       "0  170     28  44  2040  7.3   24.175    5.2  2013-03-07 00:00:00   \n",
       "1  500     16  98  1660  7.5   25.360    6.0  2013-03-14 00:00:00   \n",
       "2  120     20  29  2420  7.3   25.675    6.1  2013-05-09 00:00:00   \n",
       "3  230     18  52  2550  7.2   28.900    5.4  2013-10-10 00:00:00   \n",
       "4  120     25  39  2720  7.4   22.250    5.9  2013-12-19 00:00:00   \n",
       "\n",
       "   BOD_Y_binary  \n",
       "0             1  \n",
       "1             1  \n",
       "2             1  \n",
       "3             1  \n",
       "4             1  "
      ]
     },
     "execution_count": 173,
     "metadata": {},
     "output_type": "execute_result"
    }
   ],
   "source": [
    "# Creating a binary variable based on median value\n",
    "data['BOD_Y_binary'] = np.where(data['BOD_Y'] >= data['BOD_Y'].median(), 1, 0)\n",
    "data.head()"
   ]
  },
  {
   "cell_type": "code",
   "execution_count": 6,
   "id": "0ee49f52",
   "metadata": {},
   "outputs": [
    {
     "data": {
      "application/vnd.jupyter.widget-view+json": {
       "model_id": "88b34ebb077d48129dd206847f9e9f1e",
       "version_major": 2,
       "version_minor": 0
      },
      "text/plain": [
       "HBox(children=(HTML(value='Summarize dataset'), FloatProgress(value=0.0, max=22.0), HTML(value='')))"
      ]
     },
     "metadata": {},
     "output_type": "display_data"
    },
    {
     "name": "stdout",
     "output_type": "stream",
     "text": [
      "\n"
     ]
    },
    {
     "data": {
      "application/vnd.jupyter.widget-view+json": {
       "model_id": "7bb6d22493c14795b5c6c625e59c3595",
       "version_major": 2,
       "version_minor": 0
      },
      "text/plain": [
       "HBox(children=(HTML(value='Generate report structure'), FloatProgress(value=0.0, max=1.0), HTML(value='')))"
      ]
     },
     "metadata": {},
     "output_type": "display_data"
    },
    {
     "name": "stdout",
     "output_type": "stream",
     "text": [
      "\n"
     ]
    },
    {
     "data": {
      "application/vnd.jupyter.widget-view+json": {
       "model_id": "",
       "version_major": 2,
       "version_minor": 0
      },
      "text/plain": [
       "HBox(children=(HTML(value='Render widgets'), FloatProgress(value=0.0, max=1.0), HTML(value='')))"
      ]
     },
     "metadata": {},
     "output_type": "display_data"
    },
    {
     "data": {
      "application/vnd.jupyter.widget-view+json": {
       "model_id": "9d77f33fc0474c5d9553cd3c30f38bda",
       "version_major": 2,
       "version_minor": 0
      },
      "text/plain": [
       "VBox(children=(Tab(children=(Tab(children=(GridBox(children=(VBox(children=(GridspecLayout(children=(HTML(valu…"
      ]
     },
     "metadata": {},
     "output_type": "display_data"
    }
   ],
   "source": [
    "#doing pandas profiling\n",
    "from pandas_profiling import ProfileReport\n",
    "profile = ProfileReport(data, title=\"Pandas Profiling Report\")\n",
    "profile.to_widgets()"
   ]
  },
  {
   "cell_type": "code",
   "execution_count": 143,
   "id": "0beda0b7",
   "metadata": {},
   "outputs": [
    {
     "data": {
      "text/html": [
       "<div>\n",
       "<style scoped>\n",
       "    .dataframe tbody tr th:only-of-type {\n",
       "        vertical-align: middle;\n",
       "    }\n",
       "\n",
       "    .dataframe tbody tr th {\n",
       "        vertical-align: top;\n",
       "    }\n",
       "\n",
       "    .dataframe thead th {\n",
       "        text-align: right;\n",
       "    }\n",
       "</style>\n",
       "<table border=\"1\" class=\"dataframe\">\n",
       "  <thead>\n",
       "    <tr style=\"text-align: right;\">\n",
       "      <th></th>\n",
       "      <th>BOD</th>\n",
       "      <th>NH3-N</th>\n",
       "      <th>TN</th>\n",
       "      <th>MLSS</th>\n",
       "      <th>PH</th>\n",
       "      <th>AT_Temp</th>\n",
       "    </tr>\n",
       "  </thead>\n",
       "  <tbody>\n",
       "    <tr>\n",
       "      <th>0</th>\n",
       "      <td>170</td>\n",
       "      <td>28</td>\n",
       "      <td>44</td>\n",
       "      <td>2040</td>\n",
       "      <td>7.3</td>\n",
       "      <td>24.175</td>\n",
       "    </tr>\n",
       "    <tr>\n",
       "      <th>1</th>\n",
       "      <td>500</td>\n",
       "      <td>16</td>\n",
       "      <td>98</td>\n",
       "      <td>1660</td>\n",
       "      <td>7.5</td>\n",
       "      <td>25.360</td>\n",
       "    </tr>\n",
       "    <tr>\n",
       "      <th>2</th>\n",
       "      <td>120</td>\n",
       "      <td>20</td>\n",
       "      <td>29</td>\n",
       "      <td>2420</td>\n",
       "      <td>7.3</td>\n",
       "      <td>25.675</td>\n",
       "    </tr>\n",
       "    <tr>\n",
       "      <th>3</th>\n",
       "      <td>230</td>\n",
       "      <td>18</td>\n",
       "      <td>52</td>\n",
       "      <td>2550</td>\n",
       "      <td>7.2</td>\n",
       "      <td>28.900</td>\n",
       "    </tr>\n",
       "    <tr>\n",
       "      <th>4</th>\n",
       "      <td>120</td>\n",
       "      <td>25</td>\n",
       "      <td>39</td>\n",
       "      <td>2720</td>\n",
       "      <td>7.4</td>\n",
       "      <td>22.250</td>\n",
       "    </tr>\n",
       "  </tbody>\n",
       "</table>\n",
       "</div>"
      ],
      "text/plain": [
       "   BOD  NH3-N  TN  MLSS   PH  AT_Temp\n",
       "0  170     28  44  2040  7.3   24.175\n",
       "1  500     16  98  1660  7.5   25.360\n",
       "2  120     20  29  2420  7.3   25.675\n",
       "3  230     18  52  2550  7.2   28.900\n",
       "4  120     25  39  2720  7.4   22.250"
      ]
     },
     "execution_count": 143,
     "metadata": {},
     "output_type": "execute_result"
    }
   ],
   "source": [
    "#Filtering relevant independent variables\n",
    "X = data[['BOD','NH3-N','TN','MLSS','PH','AT_Temp']]\n",
    "X.head()"
   ]
  },
  {
   "cell_type": "code",
   "execution_count": 144,
   "id": "a15af777",
   "metadata": {},
   "outputs": [],
   "source": [
    "# Creating binary variable\n",
    "y = data['BOD_Y_binary']"
   ]
  },
  {
   "cell_type": "code",
   "execution_count": 145,
   "id": "1fbd85a9",
   "metadata": {},
   "outputs": [
    {
     "name": "stdout",
     "output_type": "stream",
     "text": [
      "[[1. 1.]\n",
      " [1. 1.]\n",
      " [1. 1.]\n",
      " [1. 1.]\n",
      " [1. 1.]\n",
      " [1. 1.]\n",
      " [1. 1.]\n",
      " [1. 1.]\n",
      " [1. 1.]\n",
      " [1. 1.]\n",
      " [1. 1.]\n",
      " [1. 1.]\n",
      " [1. 1.]\n",
      " [1. 1.]\n",
      " [1. 1.]\n",
      " [1. 1.]\n",
      " [1. 1.]\n",
      " [1. 1.]\n",
      " [1. 1.]\n",
      " [1. 1.]\n",
      " [1. 1.]\n",
      " [1. 1.]\n",
      " [1. 1.]\n",
      " [1. 1.]\n",
      " [1. 1.]\n",
      " [1. 1.]\n",
      " [1. 1.]\n",
      " [1. 1.]\n",
      " [1. 1.]\n",
      " [1. 1.]\n",
      " [1. 1.]\n",
      " [1. 1.]\n",
      " [1. 1.]\n",
      " [1. 1.]\n",
      " [1. 1.]\n",
      " [1. 1.]\n",
      " [1. 1.]\n",
      " [1. 1.]\n",
      " [1. 1.]\n",
      " [1. 1.]\n",
      " [1. 1.]\n",
      " [1. 1.]\n",
      " [1. 1.]\n",
      " [1. 1.]\n",
      " [1. 1.]\n",
      " [1. 1.]\n",
      " [1. 1.]\n",
      " [1. 1.]\n",
      " [1. 1.]\n",
      " [1. 1.]\n",
      " [1. 1.]\n",
      " [1. 1.]\n",
      " [1. 1.]\n",
      " [1. 1.]\n",
      " [1. 1.]\n",
      " [1. 1.]\n",
      " [1. 1.]\n",
      " [1. 1.]\n",
      " [1. 1.]\n",
      " [1. 1.]\n",
      " [1. 1.]\n",
      " [1. 1.]\n",
      " [1. 1.]\n",
      " [1. 1.]\n",
      " [1. 1.]\n",
      " [1. 1.]\n",
      " [1. 1.]\n",
      " [1. 1.]\n",
      " [1. 1.]\n",
      " [1. 1.]\n",
      " [1. 1.]\n",
      " [1. 1.]\n",
      " [1. 1.]\n",
      " [1. 1.]\n",
      " [1. 1.]\n",
      " [1. 1.]\n",
      " [1. 1.]\n",
      " [1. 1.]\n",
      " [1. 1.]\n",
      " [1. 1.]\n",
      " [1. 1.]\n",
      " [1. 1.]\n",
      " [1. 1.]\n",
      " [1. 1.]\n",
      " [1. 1.]\n",
      " [1. 1.]\n",
      " [1. 1.]\n",
      " [1. 1.]\n",
      " [1. 1.]\n",
      " [1. 1.]\n",
      " [1. 1.]\n",
      " [1. 1.]\n",
      " [1. 1.]\n",
      " [1. 1.]\n",
      " [1. 1.]\n",
      " [1. 1.]\n",
      " [1. 1.]\n",
      " [1. 1.]\n",
      " [1. 1.]\n",
      " [1. 1.]]\n"
     ]
    },
    {
     "data": {
      "text/plain": [
       "array([[0., 1.],\n",
       "       [0., 1.],\n",
       "       [0., 1.],\n",
       "       [0., 1.],\n",
       "       [0., 1.],\n",
       "       [0., 1.],\n",
       "       [0., 1.],\n",
       "       [0., 1.],\n",
       "       [0., 1.],\n",
       "       [0., 1.],\n",
       "       [0., 1.],\n",
       "       [0., 1.],\n",
       "       [0., 1.],\n",
       "       [0., 1.],\n",
       "       [0., 1.],\n",
       "       [0., 1.],\n",
       "       [0., 1.],\n",
       "       [0., 1.],\n",
       "       [0., 1.],\n",
       "       [0., 1.],\n",
       "       [0., 1.],\n",
       "       [0., 1.],\n",
       "       [0., 1.],\n",
       "       [0., 1.],\n",
       "       [0., 1.],\n",
       "       [0., 1.],\n",
       "       [0., 1.],\n",
       "       [0., 1.],\n",
       "       [0., 1.],\n",
       "       [0., 1.],\n",
       "       [0., 1.],\n",
       "       [0., 1.],\n",
       "       [0., 1.],\n",
       "       [0., 1.],\n",
       "       [0., 1.],\n",
       "       [0., 1.],\n",
       "       [0., 1.],\n",
       "       [0., 1.],\n",
       "       [0., 1.],\n",
       "       [0., 1.],\n",
       "       [0., 1.],\n",
       "       [0., 1.],\n",
       "       [0., 1.],\n",
       "       [0., 1.],\n",
       "       [0., 1.],\n",
       "       [0., 1.],\n",
       "       [0., 1.],\n",
       "       [0., 1.],\n",
       "       [0., 1.],\n",
       "       [0., 1.],\n",
       "       [0., 1.],\n",
       "       [0., 1.],\n",
       "       [0., 1.],\n",
       "       [0., 1.],\n",
       "       [0., 1.],\n",
       "       [0., 1.],\n",
       "       [0., 1.],\n",
       "       [0., 1.],\n",
       "       [0., 1.],\n",
       "       [0., 1.],\n",
       "       [0., 1.],\n",
       "       [0., 1.],\n",
       "       [0., 1.],\n",
       "       [0., 1.],\n",
       "       [0., 1.],\n",
       "       [0., 1.],\n",
       "       [0., 1.],\n",
       "       [0., 1.],\n",
       "       [0., 1.],\n",
       "       [0., 1.],\n",
       "       [0., 1.],\n",
       "       [0., 1.],\n",
       "       [0., 1.],\n",
       "       [0., 1.],\n",
       "       [0., 1.],\n",
       "       [0., 1.],\n",
       "       [0., 1.],\n",
       "       [0., 1.],\n",
       "       [0., 1.],\n",
       "       [0., 1.],\n",
       "       [0., 1.],\n",
       "       [0., 1.],\n",
       "       [0., 1.],\n",
       "       [0., 1.],\n",
       "       [0., 1.],\n",
       "       [0., 1.],\n",
       "       [0., 1.],\n",
       "       [0., 1.],\n",
       "       [0., 1.],\n",
       "       [0., 1.],\n",
       "       [0., 1.],\n",
       "       [0., 1.],\n",
       "       [0., 1.],\n",
       "       [0., 1.],\n",
       "       [0., 1.],\n",
       "       [0., 1.],\n",
       "       [0., 1.],\n",
       "       [0., 1.],\n",
       "       [0., 1.],\n",
       "       [0., 1.]])"
      ]
     },
     "execution_count": 145,
     "metadata": {},
     "output_type": "execute_result"
    }
   ],
   "source": [
    "# Creating a dummy varible for VQC\n",
    "y_new = np.ones((len(data),2))\n",
    "print(y_new)\n",
    "\n",
    "y_new[:,1] = np.where(y == 1, 1, 0)\n",
    "y_new[:,0] = np.where(y == 0, 1, 0)\n",
    "y_new"
   ]
  },
  {
   "cell_type": "code",
   "execution_count": 148,
   "id": "9a795fc5",
   "metadata": {},
   "outputs": [
    {
     "data": {
      "text/plain": [
       "array([-0.94285714, -0.71428571, -0.68571429, -0.88571429, -0.74285714,\n",
       "       -0.62857143, -0.94285714, -0.74285714, -0.71428571, -0.71428571,\n",
       "       -0.94285714, -0.88571429, -0.65714286, -0.82857143, -0.14285714,\n",
       "       -0.8       , -0.8       , -0.05714286, -0.62857143, -0.74285714,\n",
       "        1.        ,  0.71428571, -0.08571429, -0.6       , -1.        ,\n",
       "       -1.        , -1.        , -1.        , -1.        , -1.        ,\n",
       "       -1.        , -1.        , -1.        , -1.        , -1.        ,\n",
       "       -1.        , -1.        , -1.        , -1.        , -1.        ,\n",
       "       -1.        , -1.        , -1.        , -1.        , -1.        ,\n",
       "       -1.        , -1.        , -1.        , -1.        , -1.        ,\n",
       "       -1.        , -1.        , -1.        , -1.        , -1.        ,\n",
       "       -1.        , -1.        , -1.        , -1.        , -1.        ,\n",
       "       -1.        , -1.        , -1.        , -1.        , -1.        ,\n",
       "       -1.        , -1.        , -1.        , -1.        , -1.        ,\n",
       "       -1.        , -1.        , -1.        , -1.        , -1.        ,\n",
       "       -1.        , -1.        , -1.        , -1.        , -1.        ,\n",
       "       -1.        , -1.        , -1.        , -1.        , -1.        ,\n",
       "       -1.        , -1.        , -1.        , -1.        , -1.        ,\n",
       "       -1.        , -1.        , -1.        , -1.        , -1.        ,\n",
       "       -1.        , -1.        , -1.        , -1.        , -1.        ])"
      ]
     },
     "execution_count": 148,
     "metadata": {},
     "output_type": "execute_result"
    }
   ],
   "source": [
    "# Y variable for regression and scaling it from -1 to +1\n",
    "y_linear = data['BOD_Y']\n",
    "y_linear_scaled = np.interp(y_linear, (y_linear.min(), y_linear.max()), (-1, +1))\n",
    "y_linear_scaled"
   ]
  },
  {
   "cell_type": "code",
   "execution_count": 147,
   "id": "0c2a2dcc",
   "metadata": {},
   "outputs": [],
   "source": [
    "# construct QNN\n",
    "num_inputs = 6\n",
    "opflow_qnn = TwoLayerQNN(num_inputs, quantum_instance=quantum_instance)"
   ]
  },
  {
   "cell_type": "code",
   "execution_count": 146,
   "id": "688c3fa3",
   "metadata": {},
   "outputs": [
    {
     "data": {
      "text/plain": [
       "array([[-0.00585938]])"
      ]
     },
     "execution_count": 146,
     "metadata": {},
     "output_type": "execute_result"
    }
   ],
   "source": [
    "# QNN maps inputs to [-1, +1]\n",
    "opflow_qnn.forward(X.iloc[0,:], np.random.rand(opflow_qnn.num_weights))"
   ]
  },
  {
   "cell_type": "code",
   "execution_count": 13,
   "id": "7252f6a3",
   "metadata": {},
   "outputs": [],
   "source": [
    "# construct neural network classifier\n",
    "opflow_classifier = NeuralNetworkClassifier(opflow_qnn, optimizer=COBYLA())"
   ]
  },
  {
   "cell_type": "code",
   "execution_count": 14,
   "id": "856b7096",
   "metadata": {},
   "outputs": [
    {
     "data": {
      "text/plain": [
       "<qiskit_machine_learning.algorithms.classifiers.neural_network_classifier.NeuralNetworkClassifier at 0x1d8e0b754f0>"
      ]
     },
     "execution_count": 14,
     "metadata": {},
     "output_type": "execute_result"
    }
   ],
   "source": [
    "# fit classifier to data\n",
    "opflow_classifier.fit(X, y)"
   ]
  },
  {
   "cell_type": "code",
   "execution_count": 15,
   "id": "ef628c21",
   "metadata": {},
   "outputs": [
    {
     "data": {
      "image/png": "[encoded data removed]",
      "text/plain": [
       "<Figure size 432x288 with 1 Axes>"
      ]
     },
     "metadata": {
      "needs_background": "light"
     },
     "output_type": "display_data"
    }
   ],
   "source": [
    "# evaluate data points\n",
    "y_predict_opflow_classifier = opflow_classifier.predict(X)\n",
    "\n",
    "# plot results\n",
    "# red == wrongly classified\n",
    "for x, y_target, y_p in zip(X, y, y_predict_opflow_classifier):\n",
    "    if y_target == 1:\n",
    "        plt.plot(x[0], x[1], 'bo')\n",
    "    else:\n",
    "        plt.plot(x[0], x[1], 'go')\n",
    "    if y_target != y_p:\n",
    "        plt.scatter(x[0], x[1], s=200, facecolors='none', edgecolors='r', linewidths=2)\n",
    "plt.plot([-1, 1], [1, -1], '--', color='black')\n",
    "plt.show()"
   ]
  },
  {
   "cell_type": "code",
   "execution_count": 16,
   "id": "9ff11809",
   "metadata": {},
   "outputs": [
    {
     "data": {
      "text/plain": [
       "array([[ 0,  0,  0],\n",
       "       [ 4,  0,  4],\n",
       "       [ 2,  0, 10]], dtype=int64)"
      ]
     },
     "execution_count": 16,
     "metadata": {},
     "output_type": "execute_result"
    }
   ],
   "source": [
    "confusion_matrix(y,y_predict_opflow_classifier)"
   ]
  },
  {
   "cell_type": "code",
   "execution_count": 17,
   "id": "c6005bfa",
   "metadata": {},
   "outputs": [
    {
     "data": {
      "image/png": "[encoded data removed]",
      "text/plain": [
       "<Figure size 1350.8x385.28 with 1 Axes>"
      ]
     },
     "execution_count": 17,
     "metadata": {},
     "output_type": "execute_result"
    }
   ],
   "source": [
    "# construct feature map\n",
    "feature_map = ZFeatureMap(num_inputs)\n",
    "\n",
    "# construct ansatz\n",
    "ansatz = RealAmplitudes(num_inputs, reps=1)\n",
    "\n",
    "# construct quantum circuit\n",
    "qc = QuantumCircuit(num_inputs)\n",
    "qc.append(feature_map, range(num_inputs))\n",
    "qc.append(ansatz, range(num_inputs))\n",
    "qc.decompose().draw(output='mpl')"
   ]
  },
  {
   "cell_type": "code",
   "execution_count": 18,
   "id": "bee59e71",
   "metadata": {},
   "outputs": [],
   "source": [
    "# parity maps bitstrings to 0 or 1\n",
    "def parity(x):\n",
    "    return '{:b}'.format(x).count('1') % 2\n",
    "output_shape = 2  # corresponds to the number of classes, possible outcomes of the (parity) mapping."
   ]
  },
  {
   "cell_type": "code",
   "execution_count": 19,
   "id": "879cd256",
   "metadata": {},
   "outputs": [],
   "source": [
    "# construct QNN\n",
    "circuit_qnn = CircuitQNN(circuit=qc,\n",
    "                         input_params=feature_map.parameters,\n",
    "                         weight_params=ansatz.parameters,\n",
    "                         interpret=parity,\n",
    "                         output_shape=output_shape,\n",
    "                         quantum_instance=quantum_instance)"
   ]
  },
  {
   "cell_type": "code",
   "execution_count": 20,
   "id": "c9536309",
   "metadata": {},
   "outputs": [],
   "source": [
    "# construct classifier\n",
    "circuit_classifier = NeuralNetworkClassifier(neural_network=circuit_qnn,\n",
    "                                             optimizer=COBYLA())"
   ]
  },
  {
   "cell_type": "code",
   "execution_count": 21,
   "id": "d7ce7c38",
   "metadata": {},
   "outputs": [
    {
     "data": {
      "text/plain": [
       "<qiskit_machine_learning.algorithms.classifiers.neural_network_classifier.NeuralNetworkClassifier at 0x1d8e0c15790>"
      ]
     },
     "execution_count": 21,
     "metadata": {},
     "output_type": "execute_result"
    }
   ],
   "source": [
    "# fit classifier to data\n",
    "circuit_classifier.fit(X, y)"
   ]
  },
  {
   "cell_type": "code",
   "execution_count": 22,
   "id": "f9c9610c",
   "metadata": {},
   "outputs": [
    {
     "data": {
      "image/png": "[encoded data removed]",
      "text/plain": [
       "<Figure size 432x288 with 1 Axes>"
      ]
     },
     "metadata": {
      "needs_background": "light"
     },
     "output_type": "display_data"
    }
   ],
   "source": [
    "# evaluate data points\n",
    "y_predict_circuit_classifier = circuit_classifier.predict(X)\n",
    "\n",
    "# plot results\n",
    "# red == wrongly classified\n",
    "for x, y_target, y_p in zip(X, y, y_predict_circuit_classifier):\n",
    "    if y_target == 1:\n",
    "        plt.plot(x[0], x[1], 'bo')\n",
    "    else:\n",
    "        plt.plot(x[0], x[1], 'go')\n",
    "    if y_target != y_p:\n",
    "        plt.scatter(x[0], x[1], s=200, facecolors='none', edgecolors='r', linewidths=2)\n",
    "plt.plot([-1, 1], [1, -1], '--', color='black')\n",
    "plt.show()"
   ]
  },
  {
   "cell_type": "code",
   "execution_count": 23,
   "id": "105ee068",
   "metadata": {},
   "outputs": [
    {
     "data": {
      "text/plain": [
       "array([[7, 1],\n",
       "       [6, 6]], dtype=int64)"
      ]
     },
     "execution_count": 23,
     "metadata": {},
     "output_type": "execute_result"
    }
   ],
   "source": [
    "confusion_matrix(y,y_predict_circuit_classifier)"
   ]
  },
  {
   "cell_type": "markdown",
   "id": "2cefe12f",
   "metadata": {},
   "source": [
    "VQC Classifier"
   ]
  },
  {
   "cell_type": "code",
   "execution_count": 17,
   "id": "6c65f1ba",
   "metadata": {},
   "outputs": [],
   "source": [
    "# construct feature map, ansatz, and optimizer\n",
    "feature_map = ZZFeatureMap(num_inputs)\n",
    "ansatz = RealAmplitudes(num_inputs, reps=1)\n",
    "\n",
    "# construct variational quantum classifier\n",
    "vqc = VQC(feature_map=feature_map,\n",
    "          ansatz=ansatz,\n",
    "          loss='cross_entropy',\n",
    "          optimizer=COBYLA(),\n",
    "          quantum_instance=quantum_instance)"
   ]
  },
  {
   "cell_type": "code",
   "execution_count": null,
   "id": "22b725b3",
   "metadata": {},
   "outputs": [],
   "source": [
    "vqc.fit(X, y_new)"
   ]
  },
  {
   "cell_type": "code",
   "execution_count": null,
   "id": "3732d5a8",
   "metadata": {},
   "outputs": [],
   "source": [
    "# evaluate data points\n",
    "y_predict = vqc.predict(X)\n",
    "\n",
    "# plot results\n",
    "# red == wrongly classified\n",
    "for x, y_target, y_p in zip(X, y_new, y_predict):\n",
    "    if y_target[0] == 1:\n",
    "        plt.plot(x[0], x[1], 'bo')\n",
    "    else:\n",
    "        plt.plot(x[0], x[1], 'go')\n",
    "    if not np.all(y_target == y_p):\n",
    "        plt.scatter(x[0], x[1], s=200, facecolors='none', edgecolors='r', linewidths=2)\n",
    "plt.plot([-1, 1], [1, -1], '--', color='black')\n",
    "plt.show()"
   ]
  },
  {
   "cell_type": "markdown",
   "id": "9bd75324",
   "metadata": {},
   "source": [
    "VQC Regression"
   ]
  },
  {
   "cell_type": "code",
   "execution_count": 149,
   "id": "da43df8a",
   "metadata": {},
   "outputs": [],
   "source": [
    "from qiskit.algorithms.optimizers import COBYLA , L_BFGS_B , SLSQP,SPSA,ADAM"
   ]
  },
  {
   "cell_type": "code",
   "execution_count": 150,
   "id": "7d62cd04",
   "metadata": {},
   "outputs": [],
   "source": [
    "Rotation = QuantumCircuit(num_inputs)\n",
    "for i in range(num_inputs):\n",
    "    theta0 = 'b' + str(i)\n",
    "    theta1 = 'c'+str(i)\n",
    "    theta2= 'a'+str(i)\n",
    "    Rotation.u(Parameter(theta0),Parameter(theta1),Parameter(theta2),i)\n",
    "#Rotation.compose()"
   ]
  },
  {
   "cell_type": "code",
   "execution_count": 90,
   "id": "5070da77",
   "metadata": {},
   "outputs": [
    {
     "data": {
      "image/png": "[encoded data removed]",
      "text/plain": [
       "<Figure size 1591.6x806.68 with 1 Axes>"
      ]
     },
     "execution_count": 90,
     "metadata": {},
     "output_type": "execute_result"
    }
   ],
   "source": [
    "# construct feature map\n",
    "feature_map = ZFeatureMap(num_inputs)\n",
    "\n",
    "# construct ansatz\n",
    "ansatz = RealAmplitudes(num_inputs, reps=2)\n",
    "\n",
    "# construct quantum circuit\n",
    "qc = QuantumCircuit(num_inputs)\n",
    "thetax = []\n",
    "thetay = []\n",
    "thetaz = []\n",
    "for i in range(2*num_inputs):\n",
    "  thetax.append(Parameter('x' + str(i)))\n",
    "  thetay.append(Parameter('y' + str(i)))\n",
    "  thetaz.append(Parameter('z' + str(i)))\n",
    "qc.append(feature_map, range(num_inputs))\n",
    "\n",
    "\n",
    "for i in range(num_inputs):\n",
    "  qc.u(thetax[i],thetay[i],thetaz[i],i)\n",
    "qc.append(ansatz, range(num_inputs))\n",
    "#for i in range(num_inputs):\n",
    " # qc.u(thetax[i+6],thetay[i+6],thetaz[i+6],i)\n",
    "for i in range(num_inputs):\n",
    "  qc.u(thetax[i],thetay[i],thetaz[i],i)\n",
    "\n",
    "qc.x(2)\n",
    "\n",
    "qc.decompose().draw(output='mpl')"
   ]
  },
  {
   "cell_type": "code",
   "execution_count": 124,
   "id": "9828adf6",
   "metadata": {},
   "outputs": [],
   "source": [
    "# construct feature map\n",
    "feature_map = ZFeatureMap(num_inputs)\n",
    "\n",
    "# construct ansatz\n",
    "ansatz = RealAmplitudes(num_inputs,\n",
    "                        entanglement = 'full',\n",
    "                        reps=3,\n",
    "                        skip_unentangled_qubits = False , \n",
    "                        skip_final_rotation_layer = True ,\n",
    "                        insert_barriers = False , \n",
    "                        initial_state = None )\n",
    "   \n",
    "# construct quantum circuit\n",
    "#qc = QuantumCircuit(num_inputs)\n",
    "#qc.append(feature_map, range(num_inputs))\n",
    "#qc.append(ansatz, range(num_inputs))\n",
    "#qc.decompose().draw(output='mpl')"
   ]
  },
  {
   "cell_type": "code",
   "execution_count": 162,
   "id": "58964d95",
   "metadata": {},
   "outputs": [
    {
     "data": {
      "image/png": "[encoded data removed]",
      "text/plain": [
       "<Figure size 1591.6x1228.08 with 1 Axes>"
      ]
     },
     "execution_count": 162,
     "metadata": {},
     "output_type": "execute_result"
    }
   ],
   "source": [
    "# construct feature map\n",
    "feature_map = ZFeatureMap(num_inputs)\n",
    "\n",
    "# construct ansatz\n",
    "ansatz = RealAmplitudes(num_inputs, reps=5)\n",
    "\n",
    "# construct quantum circuit\n",
    "qc = QuantumCircuit(num_inputs)\n",
    "qc.append(feature_map, range(num_inputs))\n",
    "qc.append(ansatz, range(num_inputs))\n",
    "qc.decompose().draw(output='mpl')"
   ]
  },
  {
   "cell_type": "code",
   "execution_count": null,
   "id": "5572f5ce",
   "metadata": {},
   "outputs": [],
   "source": []
  },
  {
   "cell_type": "code",
   "execution_count": 163,
   "id": "6ef2c0cb",
   "metadata": {},
   "outputs": [],
   "source": [
    "#Initiating regressor\n",
    "vqr = VQR(feature_map=feature_map,\n",
    "          ansatz=ansatz,\n",
    "          optimizer=SLSQP(),\n",
    "          quantum_instance=quantum_instance)"
   ]
  },
  {
   "cell_type": "code",
   "execution_count": 164,
   "id": "449f66e6",
   "metadata": {},
   "outputs": [
    {
     "data": {
      "text/plain": [
       "<qiskit_machine_learning.algorithms.regressors.vqr.VQR at 0x225d7aaaa60>"
      ]
     },
     "execution_count": 164,
     "metadata": {},
     "output_type": "execute_result"
    }
   ],
   "source": [
    "#fitting regressor\n",
    "vqr.fit(X, y_linear_scaled)"
   ]
  },
  {
   "cell_type": "code",
   "execution_count": 165,
   "id": "6a89e7b1",
   "metadata": {
    "scrolled": true
   },
   "outputs": [
    {
     "data": {
      "text/plain": [
       "array([[-0.859375  ],\n",
       "       [-0.81835938],\n",
       "       [-0.85351562],\n",
       "       [-0.83203125],\n",
       "       [-0.77734375],\n",
       "       [-0.85351562],\n",
       "       [-0.86914062],\n",
       "       [-0.86523438],\n",
       "       [-0.8828125 ],\n",
       "       [-0.91015625],\n",
       "       [-0.91601562],\n",
       "       [-0.80078125],\n",
       "       [-0.81445312],\n",
       "       [-0.796875  ],\n",
       "       [-0.5078125 ],\n",
       "       [-0.83398438],\n",
       "       [-0.83984375],\n",
       "       [-0.80078125],\n",
       "       [-0.87304688],\n",
       "       [-0.453125  ],\n",
       "       [-0.57226562],\n",
       "       [-0.68359375],\n",
       "       [-0.91601562],\n",
       "       [-0.515625  ],\n",
       "       [-0.82421875],\n",
       "       [-0.83203125],\n",
       "       [-0.78710938],\n",
       "       [-0.91210938],\n",
       "       [-0.74414062],\n",
       "       [-0.86914062],\n",
       "       [-0.890625  ],\n",
       "       [-0.89257812],\n",
       "       [-0.86328125],\n",
       "       [-0.94140625],\n",
       "       [-0.75390625],\n",
       "       [-0.84179688],\n",
       "       [-0.88867188],\n",
       "       [-0.88085938],\n",
       "       [-0.8515625 ],\n",
       "       [-0.91210938],\n",
       "       [-0.75      ],\n",
       "       [-0.87304688],\n",
       "       [-0.85546875],\n",
       "       [-0.82226562],\n",
       "       [-0.91992188],\n",
       "       [-0.77929688],\n",
       "       [-0.7265625 ],\n",
       "       [-0.80859375],\n",
       "       [-0.9140625 ],\n",
       "       [-0.75585938],\n",
       "       [-0.89648438],\n",
       "       [-0.80664062],\n",
       "       [-0.875     ],\n",
       "       [-0.81054688],\n",
       "       [-0.76171875],\n",
       "       [-0.81054688],\n",
       "       [-0.875     ],\n",
       "       [-0.85742188],\n",
       "       [-0.90820312],\n",
       "       [-0.89257812],\n",
       "       [-0.87695312],\n",
       "       [-0.875     ],\n",
       "       [-0.9453125 ],\n",
       "       [-0.86132812],\n",
       "       [-0.92382812],\n",
       "       [-0.83007812],\n",
       "       [-0.83203125],\n",
       "       [-0.84179688],\n",
       "       [-0.93554688],\n",
       "       [-0.74023438],\n",
       "       [-0.82421875],\n",
       "       [-0.8359375 ],\n",
       "       [-0.84179688],\n",
       "       [-0.90820312],\n",
       "       [-0.90429688],\n",
       "       [-0.8671875 ],\n",
       "       [-0.83007812],\n",
       "       [-0.90039062],\n",
       "       [-0.50976562],\n",
       "       [-0.81445312],\n",
       "       [-0.75390625],\n",
       "       [-0.55859375],\n",
       "       [-0.75195312],\n",
       "       [-0.74023438],\n",
       "       [-0.7421875 ],\n",
       "       [-0.82617188],\n",
       "       [-0.83984375],\n",
       "       [-0.83789062],\n",
       "       [-0.93164062],\n",
       "       [-0.8203125 ],\n",
       "       [-0.81445312],\n",
       "       [-0.88671875],\n",
       "       [-0.90820312],\n",
       "       [-0.86914062],\n",
       "       [-0.8515625 ],\n",
       "       [-0.83007812],\n",
       "       [-0.86914062],\n",
       "       [-0.92382812],\n",
       "       [-0.87695312],\n",
       "       [-0.91796875]])"
      ]
     },
     "execution_count": 165,
     "metadata": {},
     "output_type": "execute_result"
    }
   ],
   "source": [
    "#Predicting the value\n",
    "y_VQR = vqr.predict(X)\n",
    "y_VQR"
   ]
  },
  {
   "cell_type": "code",
   "execution_count": 166,
   "id": "b8f06568",
   "metadata": {},
   "outputs": [
    {
     "data": {
      "text/plain": [
       "array([5.23142857, 5.35714286, 5.37285714, 5.26285714, 5.34142857,\n",
       "       5.40428571, 5.23142857, 5.34142857, 5.35714286, 5.35714286,\n",
       "       5.23142857, 5.26285714, 5.38857143, 5.29428571, 5.67142857,\n",
       "       5.31      , 5.31      , 5.71857143, 5.40428571, 5.34142857,\n",
       "       6.3       , 6.14285714, 5.70285714, 5.42      , 5.2       ,\n",
       "       5.2       , 5.2       , 5.2       , 5.2       , 5.2       ,\n",
       "       5.2       , 5.2       , 5.2       , 5.2       , 5.2       ,\n",
       "       5.2       , 5.2       , 5.2       , 5.2       , 5.2       ,\n",
       "       5.2       , 5.2       , 5.2       , 5.2       , 5.2       ,\n",
       "       5.2       , 5.2       , 5.2       , 5.2       , 5.2       ,\n",
       "       5.2       , 5.2       , 5.2       , 5.2       , 5.2       ,\n",
       "       5.2       , 5.2       , 5.2       , 5.2       , 5.2       ,\n",
       "       5.2       , 5.2       , 5.2       , 5.2       , 5.2       ,\n",
       "       5.2       , 5.2       , 5.2       , 5.2       , 5.2       ,\n",
       "       5.2       , 5.2       , 5.2       , 5.2       , 5.2       ,\n",
       "       5.2       , 5.2       , 5.2       , 5.2       , 5.2       ,\n",
       "       5.2       , 5.2       , 5.2       , 5.2       , 5.2       ,\n",
       "       5.2       , 5.2       , 5.2       , 5.2       , 5.2       ,\n",
       "       5.2       , 5.2       , 5.2       , 5.2       , 5.2       ,\n",
       "       5.2       , 5.2       , 5.2       , 5.2       , 5.2       ])"
      ]
     },
     "execution_count": 166,
     "metadata": {},
     "output_type": "execute_result"
    }
   ],
   "source": [
    "y_linear_scaled_b = np.interp(y_linear_scaled, (y_linear_scaled.min(), y_linear_scaled.max()), (5.2, 6.3))\n",
    "y_linear_scaled_b"
   ]
  },
  {
   "cell_type": "code",
   "execution_count": 167,
   "id": "48da3619",
   "metadata": {
    "scrolled": true
   },
   "outputs": [
    {
     "data": {
      "text/plain": [
       "array([[5.27734375],\n",
       "       [5.29990234],\n",
       "       [5.28056641],\n",
       "       [5.29238281],\n",
       "       [5.32246094],\n",
       "       [5.28056641],\n",
       "       [5.27197266],\n",
       "       [5.27412109],\n",
       "       [5.26445313],\n",
       "       [5.24941406],\n",
       "       [5.24619141],\n",
       "       [5.30957031],\n",
       "       [5.30205078],\n",
       "       [5.31171875],\n",
       "       [5.47070312],\n",
       "       [5.29130859],\n",
       "       [5.28808594],\n",
       "       [5.30957031],\n",
       "       [5.26982422],\n",
       "       [5.50078125],\n",
       "       [5.43525391],\n",
       "       [5.37402344],\n",
       "       [5.24619141],\n",
       "       [5.46640625],\n",
       "       [5.29667969],\n",
       "       [5.29238281],\n",
       "       [5.31708984],\n",
       "       [5.24833984],\n",
       "       [5.34072266],\n",
       "       [5.27197266],\n",
       "       [5.26015625],\n",
       "       [5.25908203],\n",
       "       [5.27519531],\n",
       "       [5.23222656],\n",
       "       [5.33535156],\n",
       "       [5.28701172],\n",
       "       [5.26123047],\n",
       "       [5.26552734],\n",
       "       [5.28164063],\n",
       "       [5.24833984],\n",
       "       [5.3375    ],\n",
       "       [5.26982422],\n",
       "       [5.27949219],\n",
       "       [5.29775391],\n",
       "       [5.24404297],\n",
       "       [5.32138672],\n",
       "       [5.35039063],\n",
       "       [5.30527344],\n",
       "       [5.24726562],\n",
       "       [5.33427734],\n",
       "       [5.25693359],\n",
       "       [5.30634766],\n",
       "       [5.26875   ],\n",
       "       [5.30419922],\n",
       "       [5.33105469],\n",
       "       [5.30419922],\n",
       "       [5.26875   ],\n",
       "       [5.27841797],\n",
       "       [5.25048828],\n",
       "       [5.25908203],\n",
       "       [5.26767578],\n",
       "       [5.26875   ],\n",
       "       [5.23007813],\n",
       "       [5.27626953],\n",
       "       [5.24189453],\n",
       "       [5.29345703],\n",
       "       [5.29238281],\n",
       "       [5.28701172],\n",
       "       [5.23544922],\n",
       "       [5.34287109],\n",
       "       [5.29667969],\n",
       "       [5.29023437],\n",
       "       [5.28701172],\n",
       "       [5.25048828],\n",
       "       [5.25263672],\n",
       "       [5.27304688],\n",
       "       [5.29345703],\n",
       "       [5.25478516],\n",
       "       [5.46962891],\n",
       "       [5.30205078],\n",
       "       [5.33535156],\n",
       "       [5.44277344],\n",
       "       [5.33642578],\n",
       "       [5.34287109],\n",
       "       [5.34179688],\n",
       "       [5.29560547],\n",
       "       [5.28808594],\n",
       "       [5.28916016],\n",
       "       [5.23759766],\n",
       "       [5.29882812],\n",
       "       [5.30205078],\n",
       "       [5.26230469],\n",
       "       [5.25048828],\n",
       "       [5.27197266],\n",
       "       [5.28164063],\n",
       "       [5.29345703],\n",
       "       [5.27197266],\n",
       "       [5.24189453],\n",
       "       [5.26767578],\n",
       "       [5.24511719]])"
      ]
     },
     "execution_count": 167,
     "metadata": {},
     "output_type": "execute_result"
    }
   ],
   "source": [
    "y_VQR_b = np.interp(y_VQR, (y_linear_scaled.min(), y_linear_scaled.max()), (5.2, 6.3))\n",
    "y_VQR_b"
   ]
  },
  {
   "cell_type": "code",
   "execution_count": 168,
   "id": "533e2e3e",
   "metadata": {},
   "outputs": [
    {
     "data": {
      "image/png": "[encoded data removed]",
      "text/plain": [
       "<Figure size 432x288 with 1 Axes>"
      ]
     },
     "metadata": {
      "needs_background": "light"
     },
     "output_type": "display_data"
    }
   ],
   "source": [
    "# plot data\n",
    "plt.plot(X.iloc[:,0], y_linear_scaled, 'bo')\n",
    "# plot fitted line\n",
    "plt.plot(X.iloc[:,0], y_VQR, 'go')\n",
    "plt.show()"
   ]
  },
  {
   "cell_type": "code",
   "execution_count": 169,
   "id": "f8045ba1",
   "metadata": {
    "scrolled": true
   },
   "outputs": [
    {
     "data": {
      "image/png": "[encoded data removed]",
      "text/plain": [
       "<Figure size 432x288 with 1 Axes>"
      ]
     },
     "metadata": {
      "needs_background": "light"
     },
     "output_type": "display_data"
    }
   ],
   "source": [
    "# plot data\n",
    "plt.plot(X.iloc[:,0], y_linear_scaled, 'bo')\n",
    "# plot fitted line\n",
    "plt.plot(X.iloc[:,0], y_linear_scaled_b, 'ro')\n",
    "plt.plot(X.iloc[:,0], y_VQR, 'go')\n",
    "# plot fitted line\n",
    "plt.plot(X.iloc[:,0], y_VQR_b, 'yo')\n",
    "plt.show()"
   ]
  },
  {
   "cell_type": "code",
   "execution_count": 170,
   "id": "14bd57bb",
   "metadata": {
    "scrolled": true
   },
   "outputs": [
    {
     "data": {
      "text/plain": [
       "[<matplotlib.lines.Line2D at 0x225ec827850>]"
      ]
     },
     "execution_count": 170,
     "metadata": {},
     "output_type": "execute_result"
    },
    {
     "data": {
      "image/png": "[encoded data removed]",
      "text/plain": [
       "<Figure size 432x288 with 1 Axes>"
      ]
     },
     "metadata": {
      "needs_background": "light"
     },
     "output_type": "display_data"
    }
   ],
   "source": [
    "plt.plot(y_linear_scaled,y_VQR, 'bo')\n",
    "x = np.linspace(-1, 1,100)\n",
    "plt.xlim([-1, 1])\n",
    "plt.ylim([-1, 1])\n",
    "plt.plot(x,x,color=\"black\")"
   ]
  },
  {
   "cell_type": "code",
   "execution_count": 171,
   "id": "ece1789f",
   "metadata": {
    "scrolled": true
   },
   "outputs": [
    {
     "data": {
      "text/plain": [
       "[<matplotlib.lines.Line2D at 0x225ddb97eb0>]"
      ]
     },
     "execution_count": 171,
     "metadata": {},
     "output_type": "execute_result"
    },
    {
     "data": {
      "image/png": "[encoded data removed]",
      "text/plain": [
       "<Figure size 432x288 with 1 Axes>"
      ]
     },
     "metadata": {
      "needs_background": "light"
     },
     "output_type": "display_data"
    }
   ],
   "source": [
    "plt.plot(y_linear_scaled_b,y_VQR_b, 'bo')\n",
    "x = np.linspace(5.2, 6.3,100)\n",
    "plt.xlim([4,7])\n",
    "plt.ylim([4, 7])\n",
    "plt.plot(x,x,color=\"black\")"
   ]
  },
  {
   "cell_type": "code",
   "execution_count": 172,
   "id": "bdb8a726",
   "metadata": {},
   "outputs": [
    {
     "name": "stdout",
     "output_type": "stream",
     "text": [
      "0.0855453118149115\n",
      "0.09634636584317868\n"
     ]
    }
   ],
   "source": [
    "from sklearn.metrics import mean_squared_error\n",
    "from sklearn.metrics import r2_score\n",
    "#MSE\n",
    "mse = mean_squared_error(y_linear_scaled,y_VQR)\n",
    "print(mse)\n",
    "# R squared error\n",
    "r2s = r2_score(y_linear_scaled,y_VQR)\n",
    "print(r2s)"
   ]
  }
 ],
 "metadata": {
  "kernelspec": {
   "display_name": "Python 3",
   "language": "python",
   "name": "python3"
  },
  "language_info": {
   "codemirror_mode": {
    "name": "ipython",
    "version": 3
   },
   "file_extension": ".py",
   "mimetype": "text/x-python",
   "name": "python",
   "nbconvert_exporter": "python",
   "pygments_lexer": "ipython3",
   "version": "3.8.8"
  }
 },
 "nbformat": 4,
 "nbformat_minor": 5
}
