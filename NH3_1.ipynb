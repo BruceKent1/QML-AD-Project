{
 "cells": [
  {
   "cell_type": "code",
   "execution_count": 1,
   "id": "o8gXk65cpWzH",
   "metadata": {
    "colab": {
     "base_uri": "https://localhost:8080/"
    },
    "id": "o8gXk65cpWzH",
    "outputId": "fdb44650-59cc-4509-b191-65966229fef3"
   },
   "outputs": [
    {
     "name": "stdout",
     "output_type": "stream",
     "text": [
      "Collecting qiskit\n",
      "  Downloading https://files.pythonhosted.org/packages/6f/61/cb7506e17a2566dc8a31a3e1924d91ac0bdd8ff07c71ec698c06647b6306/qiskit-0.26.2.tar.gz\n",
      "Collecting qiskit-terra==0.17.4\n",
      "\u001b[?25l  Downloading https://files.pythonhosted.org/packages/b3/0c/3c7a8dd451dae0907263e9de9e3e34909e15e18c88a589b44581972c8511/qiskit_terra-0.17.4-cp37-cp37m-manylinux2010_x86_64.whl (6.0MB)\n",
      "\u001b[K     |████████████████████████████████| 6.0MB 5.2MB/s \n",
      "\u001b[?25hCollecting qiskit-aer==0.8.2\n",
      "\u001b[?25l  Downloading https://files.pythonhosted.org/packages/c2/d2/6ff15c370b5465b32529b528bf3f4ce1e01f74498be16203aa1c04b67022/qiskit_aer-0.8.2-cp37-cp37m-manylinux2010_x86_64.whl (18.0MB)\n",
      "\u001b[K     |████████████████████████████████| 18.0MB 135kB/s \n",
      "\u001b[?25hCollecting qiskit-ibmq-provider==0.13.1\n",
      "\u001b[?25l  Downloading https://files.pythonhosted.org/packages/be/99/74bbb901f88603a7d850d4889abc06d81ba702e4227151f4a5b66f2631fe/qiskit_ibmq_provider-0.13.1-py3-none-any.whl (228kB)\n",
      "\u001b[K     |████████████████████████████████| 235kB 34.6MB/s \n",
      "\u001b[?25hCollecting qiskit-ignis==0.6.0\n",
      "\u001b[?25l  Downloading https://files.pythonhosted.org/packages/54/be/a13c828e457e09d979667a61bddbd8c7246aafa94e2501b6a9154429cbea/qiskit_ignis-0.6.0-py3-none-any.whl (207kB)\n",
      "\u001b[K     |████████████████████████████████| 215kB 29.7MB/s \n",
      "\u001b[?25hCollecting qiskit-aqua==0.9.1\n",
      "\u001b[?25l  Downloading https://files.pythonhosted.org/packages/88/79/392c57b978decbb24b902344b536af52c40a751aed0ebbaefa8bc2964cb5/qiskit_aqua-0.9.1-py3-none-any.whl (2.1MB)\n",
      "\u001b[K     |████████████████████████████████| 2.1MB 27.2MB/s \n",
      "\u001b[?25hCollecting python-constraint>=1.4\n",
      "  Downloading https://files.pythonhosted.org/packages/37/8b/5f1bc2734ca611943e1d6733ee244238679f6410a10cd45ede55a61a8402/python-constraint-1.4.0.tar.bz2\n",
      "Requirement already satisfied: psutil>=5 in /usr/local/lib/python3.7/dist-packages (from qiskit-terra==0.17.4->qiskit) (5.4.8)\n",
      "Requirement already satisfied: dill>=0.3 in /usr/local/lib/python3.7/dist-packages (from qiskit-terra==0.17.4->qiskit) (0.3.3)\n",
      "Requirement already satisfied: jsonschema>=2.6 in /usr/local/lib/python3.7/dist-packages (from qiskit-terra==0.17.4->qiskit) (2.6.0)\n",
      "Collecting retworkx>=0.8.0\n",
      "\u001b[?25l  Downloading https://files.pythonhosted.org/packages/1b/92/f007f8b9d88dcd5b90e363967e5d54431a68c5fe06d83400732e3b438084/retworkx-0.8.0-cp37-cp37m-manylinux2010_x86_64.whl (1.0MB)\n",
      "\u001b[K     |████████████████████████████████| 1.0MB 31.0MB/s \n",
      "\u001b[?25hRequirement already satisfied: scipy>=1.4 in /usr/local/lib/python3.7/dist-packages (from qiskit-terra==0.17.4->qiskit) (1.4.1)\n",
      "Requirement already satisfied: sympy>=1.3 in /usr/local/lib/python3.7/dist-packages (from qiskit-terra==0.17.4->qiskit) (1.7.1)\n",
      "Collecting fastjsonschema>=2.10\n",
      "  Downloading https://files.pythonhosted.org/packages/d1/fb/ea090e917b18320f79be31d754bbe496b715175e865603cfce1eaed2e774/fastjsonschema-2.15.1-py3-none-any.whl\n",
      "Requirement already satisfied: numpy>=1.17 in /usr/local/lib/python3.7/dist-packages (from qiskit-terra==0.17.4->qiskit) (1.19.5)\n",
      "Collecting ply>=3.10\n",
      "\u001b[?25l  Downloading https://files.pythonhosted.org/packages/a3/58/35da89ee790598a0700ea49b2a66594140f44dec458c07e8e3d4979137fc/ply-3.11-py2.py3-none-any.whl (49kB)\n",
      "\u001b[K     |████████████████████████████████| 51kB 5.2MB/s \n",
      "\u001b[?25hRequirement already satisfied: python-dateutil>=2.8.0 in /usr/local/lib/python3.7/dist-packages (from qiskit-terra==0.17.4->qiskit) (2.8.1)\n",
      "Collecting pybind11>=2.6\n",
      "\u001b[?25l  Downloading https://files.pythonhosted.org/packages/8d/43/7339dbabbc2793718d59703aace4166f53c29ee1c202f6ff5bf8a26c4d91/pybind11-2.6.2-py2.py3-none-any.whl (191kB)\n",
      "\u001b[K     |████████████████████████████████| 194kB 22.0MB/s \n",
      "\u001b[?25hRequirement already satisfied: nest-asyncio!=1.1.0,>=1.0.0 in /usr/local/lib/python3.7/dist-packages (from qiskit-ibmq-provider==0.13.1->qiskit) (1.5.1)\n",
      "Requirement already satisfied: requests>=2.19 in /usr/local/lib/python3.7/dist-packages (from qiskit-ibmq-provider==0.13.1->qiskit) (2.23.0)\n",
      "Requirement already satisfied: urllib3>=1.21.1 in /usr/local/lib/python3.7/dist-packages (from qiskit-ibmq-provider==0.13.1->qiskit) (1.24.3)\n",
      "Collecting websockets>=8\n",
      "\u001b[?25l  Downloading https://files.pythonhosted.org/packages/84/64/78c2b3fe37730b30dca3c93d1f7f4a4286767f86e7c04cf3571b39bc2fb7/websockets-9.1-cp37-cp37m-manylinux2010_x86_64.whl (103kB)\n",
      "\u001b[K     |████████████████████████████████| 112kB 37.2MB/s \n",
      "\u001b[?25hCollecting requests-ntlm>=1.1.0\n",
      "  Downloading https://files.pythonhosted.org/packages/03/4b/8b9a1afde8072c4d5710d9fa91433d504325821b038e00237dc8d6d833dc/requests_ntlm-1.1.0-py2.py3-none-any.whl\n",
      "Requirement already satisfied: setuptools>=40.1.0 in /usr/local/lib/python3.7/dist-packages (from qiskit-ignis==0.6.0->qiskit) (56.1.0)\n",
      "Requirement already satisfied: pandas<=1.2.3 in /usr/local/lib/python3.7/dist-packages (from qiskit-aqua==0.9.1->qiskit) (1.1.5)\n",
      "Requirement already satisfied: fastdtw<=0.3.4 in /usr/local/lib/python3.7/dist-packages (from qiskit-aqua==0.9.1->qiskit) (0.3.4)\n",
      "Collecting quandl<=3.6.0\n",
      "  Downloading https://files.pythonhosted.org/packages/c2/58/9f0e69d836045e3865d263e9ed49f42b23a58526fdabb30f74c430baee3f/Quandl-3.6.0-py2.py3-none-any.whl\n",
      "Collecting dlx<=1.0.4\n",
      "  Downloading https://files.pythonhosted.org/packages/54/c0/b8fb5bb727e983b6f5251433ef941b48f38c65bb0bd6ec509e9185bcd406/dlx-1.0.4.tar.gz\n",
      "Requirement already satisfied: scikit-learn<=0.24.1,>=0.20.0 in /usr/local/lib/python3.7/dist-packages (from qiskit-aqua==0.9.1->qiskit) (0.22.2.post1)\n",
      "Collecting docplex<=2.20.204; sys_platform != \"darwin\"\n",
      "\u001b[?25l  Downloading https://files.pythonhosted.org/packages/87/99/6f7c219b39fd58c84688ad0713eb932bfcf6be81fc74519e43ea9c915b56/docplex-2.20.204.tar.gz (611kB)\n",
      "\u001b[K     |████████████████████████████████| 614kB 31.9MB/s \n",
      "\u001b[?25hRequirement already satisfied: h5py<=3.1.0 in /usr/local/lib/python3.7/dist-packages (from qiskit-aqua==0.9.1->qiskit) (3.1.0)\n",
      "Collecting yfinance<=0.1.55\n",
      "  Downloading https://files.pythonhosted.org/packages/7a/e8/b9d7104d3a4bf39924799067592d9e59119fcfc900a425a12e80a3123ec8/yfinance-0.1.55.tar.gz\n",
      "Requirement already satisfied: mpmath>=0.19 in /usr/local/lib/python3.7/dist-packages (from sympy>=1.3->qiskit-terra==0.17.4->qiskit) (1.2.1)\n",
      "Requirement already satisfied: six>=1.5 in /usr/local/lib/python3.7/dist-packages (from python-dateutil>=2.8.0->qiskit-terra==0.17.4->qiskit) (1.15.0)\n",
      "Requirement already satisfied: idna<3,>=2.5 in /usr/local/lib/python3.7/dist-packages (from requests>=2.19->qiskit-ibmq-provider==0.13.1->qiskit) (2.10)\n",
      "Requirement already satisfied: chardet<4,>=3.0.2 in /usr/local/lib/python3.7/dist-packages (from requests>=2.19->qiskit-ibmq-provider==0.13.1->qiskit) (3.0.4)\n",
      "Requirement already satisfied: certifi>=2017.4.17 in /usr/local/lib/python3.7/dist-packages (from requests>=2.19->qiskit-ibmq-provider==0.13.1->qiskit) (2020.12.5)\n",
      "Collecting ntlm-auth>=1.0.2\n",
      "  Downloading https://files.pythonhosted.org/packages/ff/84/97c550164b54942b0e908c31ef09d9469f3ba4cd7332a671e2125732f63b/ntlm_auth-1.5.0-py2.py3-none-any.whl\n",
      "Collecting cryptography>=1.3\n",
      "\u001b[?25l  Downloading https://files.pythonhosted.org/packages/b2/26/7af637e6a7e87258b963f1731c5982fb31cd507f0d90d91836e446955d02/cryptography-3.4.7-cp36-abi3-manylinux2014_x86_64.whl (3.2MB)\n",
      "\u001b[K     |████████████████████████████████| 3.2MB 18.8MB/s \n",
      "\u001b[?25hRequirement already satisfied: pytz>=2017.2 in /usr/local/lib/python3.7/dist-packages (from pandas<=1.2.3->qiskit-aqua==0.9.1->qiskit) (2018.9)\n",
      "Collecting inflection>=0.3.1\n",
      "  Downloading https://files.pythonhosted.org/packages/59/91/aa6bde563e0085a02a435aa99b49ef75b0a4b062635e606dab23ce18d720/inflection-0.5.1-py2.py3-none-any.whl\n",
      "Requirement already satisfied: more-itertools in /usr/local/lib/python3.7/dist-packages (from quandl<=3.6.0->qiskit-aqua==0.9.1->qiskit) (8.7.0)\n",
      "Requirement already satisfied: joblib>=0.11 in /usr/local/lib/python3.7/dist-packages (from scikit-learn<=0.24.1,>=0.20.0->qiskit-aqua==0.9.1->qiskit) (1.0.1)\n",
      "Requirement already satisfied: cached-property; python_version < \"3.8\" in /usr/local/lib/python3.7/dist-packages (from h5py<=3.1.0->qiskit-aqua==0.9.1->qiskit) (1.5.2)\n",
      "Requirement already satisfied: multitasking>=0.0.7 in /usr/local/lib/python3.7/dist-packages (from yfinance<=0.1.55->qiskit-aqua==0.9.1->qiskit) (0.0.9)\n",
      "Collecting lxml>=4.5.1\n",
      "\u001b[?25l  Downloading https://files.pythonhosted.org/packages/30/c0/d0526314971fc661b083ab135747dc68446a3022686da8c16d25fcf6ef07/lxml-4.6.3-cp37-cp37m-manylinux2014_x86_64.whl (6.3MB)\n",
      "\u001b[K     |████████████████████████████████| 6.3MB 21.4MB/s \n",
      "\u001b[?25hRequirement already satisfied: cffi>=1.12 in /usr/local/lib/python3.7/dist-packages (from cryptography>=1.3->requests-ntlm>=1.1.0->qiskit-ibmq-provider==0.13.1->qiskit) (1.14.5)\n",
      "Requirement already satisfied: pycparser in /usr/local/lib/python3.7/dist-packages (from cffi>=1.12->cryptography>=1.3->requests-ntlm>=1.1.0->qiskit-ibmq-provider==0.13.1->qiskit) (2.20)\n",
      "Building wheels for collected packages: qiskit, python-constraint, dlx, docplex, yfinance\n",
      "  Building wheel for qiskit (setup.py) ... \u001b[?25l\u001b[?25hdone\n",
      "  Created wheel for qiskit: filename=qiskit-0.26.2-cp37-none-any.whl size=10491 sha256=140a5786b6ec3e61861aa3bd13f0cc72e84254bf16cb84d19a1b96e18eb6caca\n",
      "  Stored in directory: /root/.cache/pip/wheels/89/89/34/524839952d5a58a7be9789e580bfc1ca883bf6579152444568\n",
      "  Building wheel for python-constraint (setup.py) ... \u001b[?25l\u001b[?25hdone\n",
      "  Created wheel for python-constraint: filename=python_constraint-1.4.0-py2.py3-none-any.whl size=24079 sha256=ec7e78b2380c2f325222406eaa550497c5985c02b7f2900c26174533ef41487e\n",
      "  Stored in directory: /root/.cache/pip/wheels/34/31/15/7b070b25d0a549d20ce2e9fe6d727471c2c61ef904720fd40c\n",
      "  Building wheel for dlx (setup.py) ... \u001b[?25l\u001b[?25hdone\n",
      "  Created wheel for dlx: filename=dlx-1.0.4-cp37-none-any.whl size=5712 sha256=d0bc6c19bef65341812bf5245e3081465558938a7d445d920295edef42903201\n",
      "  Stored in directory: /root/.cache/pip/wheels/bb/ba/15/fdd0deb104df3254912998150ba9245668db06b00af5912d1a\n",
      "  Building wheel for docplex (setup.py) ... \u001b[?25l\u001b[?25hdone\n",
      "  Created wheel for docplex: filename=docplex-2.20.204-cp37-none-any.whl size=675362 sha256=424e7bc0741f801a908ae63bbc1b542d46db6a6479331abc6e8e1e43fe1447be\n",
      "  Stored in directory: /root/.cache/pip/wheels/ae/2c/e2/a099ebb6fda8adeba9c5fc2e25659d195ad2f5c6cc5fb75fd4\n",
      "  Building wheel for yfinance (setup.py) ... \u001b[?25l\u001b[?25hdone\n",
      "  Created wheel for yfinance: filename=yfinance-0.1.55-py2.py3-none-any.whl size=22616 sha256=9ea935a6c5915b6ba7c913e8115c51cd49fa71744b1b5950d28b338f78937d3d\n",
      "  Stored in directory: /root/.cache/pip/wheels/04/98/cc/2702a4242d60bdc14f48b4557c427ded1fe92aedf257d4565c\n",
      "Successfully built qiskit python-constraint dlx docplex yfinance\n",
      "Installing collected packages: python-constraint, retworkx, fastjsonschema, ply, qiskit-terra, pybind11, qiskit-aer, websockets, ntlm-auth, cryptography, requests-ntlm, qiskit-ibmq-provider, qiskit-ignis, inflection, quandl, dlx, docplex, lxml, yfinance, qiskit-aqua, qiskit\n",
      "  Found existing installation: lxml 4.2.6\n",
      "    Uninstalling lxml-4.2.6:\n",
      "      Successfully uninstalled lxml-4.2.6\n",
      "Successfully installed cryptography-3.4.7 dlx-1.0.4 docplex-2.20.204 fastjsonschema-2.15.1 inflection-0.5.1 lxml-4.6.3 ntlm-auth-1.5.0 ply-3.11 pybind11-2.6.2 python-constraint-1.4.0 qiskit-0.26.2 qiskit-aer-0.8.2 qiskit-aqua-0.9.1 qiskit-ibmq-provider-0.13.1 qiskit-ignis-0.6.0 qiskit-terra-0.17.4 quandl-3.6.0 requests-ntlm-1.1.0 retworkx-0.8.0 websockets-9.1 yfinance-0.1.55\n",
      "Collecting qiskit_machine_learning\n",
      "\u001b[?25l  Downloading https://files.pythonhosted.org/packages/db/6f/4a21d51d6f225efeb6877b2aae97ec4e4cc973ce8e25c0a83ec36fcc6108/qiskit_machine_learning-0.1.0-py3-none-any.whl (84kB)\n",
      "\u001b[K     |████████████████████████████████| 92kB 4.2MB/s \n",
      "\u001b[?25hRequirement already satisfied: scipy>=1.4 in /usr/local/lib/python3.7/dist-packages (from qiskit_machine_learning) (1.4.1)\n",
      "Requirement already satisfied: qiskit-terra>=0.17.0 in /usr/local/lib/python3.7/dist-packages (from qiskit_machine_learning) (0.17.4)\n",
      "Requirement already satisfied: scikit-learn>=0.20.0 in /usr/local/lib/python3.7/dist-packages (from qiskit_machine_learning) (0.22.2.post1)\n",
      "Collecting sparse\n",
      "\u001b[?25l  Downloading https://files.pythonhosted.org/packages/46/20/c409a0d0ea7623a936080e0038eb77a02e62629a07944706c26f24ebcbb8/sparse-0.12.0-py2.py3-none-any.whl (76kB)\n",
      "\u001b[K     |████████████████████████████████| 81kB 5.4MB/s \n",
      "\u001b[?25hRequirement already satisfied: fastdtw in /usr/local/lib/python3.7/dist-packages (from qiskit_machine_learning) (0.3.4)\n",
      "Requirement already satisfied: psutil>=5 in /usr/local/lib/python3.7/dist-packages (from qiskit_machine_learning) (5.4.8)\n",
      "Requirement already satisfied: numpy>=1.17 in /usr/local/lib/python3.7/dist-packages (from qiskit_machine_learning) (1.19.5)\n",
      "Requirement already satisfied: setuptools>=40.1.0 in /usr/local/lib/python3.7/dist-packages (from qiskit_machine_learning) (56.1.0)\n",
      "Requirement already satisfied: dill>=0.3 in /usr/local/lib/python3.7/dist-packages (from qiskit-terra>=0.17.0->qiskit_machine_learning) (0.3.3)\n",
      "Requirement already satisfied: ply>=3.10 in /usr/local/lib/python3.7/dist-packages (from qiskit-terra>=0.17.0->qiskit_machine_learning) (3.11)\n",
      "Requirement already satisfied: sympy>=1.3 in /usr/local/lib/python3.7/dist-packages (from qiskit-terra>=0.17.0->qiskit_machine_learning) (1.7.1)\n",
      "Requirement already satisfied: retworkx>=0.8.0 in /usr/local/lib/python3.7/dist-packages (from qiskit-terra>=0.17.0->qiskit_machine_learning) (0.8.0)\n",
      "Requirement already satisfied: fastjsonschema>=2.10 in /usr/local/lib/python3.7/dist-packages (from qiskit-terra>=0.17.0->qiskit_machine_learning) (2.15.1)\n",
      "Requirement already satisfied: python-constraint>=1.4 in /usr/local/lib/python3.7/dist-packages (from qiskit-terra>=0.17.0->qiskit_machine_learning) (1.4.0)\n",
      "Requirement already satisfied: python-dateutil>=2.8.0 in /usr/local/lib/python3.7/dist-packages (from qiskit-terra>=0.17.0->qiskit_machine_learning) (2.8.1)\n",
      "Requirement already satisfied: jsonschema>=2.6 in /usr/local/lib/python3.7/dist-packages (from qiskit-terra>=0.17.0->qiskit_machine_learning) (2.6.0)\n",
      "Requirement already satisfied: joblib>=0.11 in /usr/local/lib/python3.7/dist-packages (from scikit-learn>=0.20.0->qiskit_machine_learning) (1.0.1)\n",
      "Requirement already satisfied: numba>=0.49 in /usr/local/lib/python3.7/dist-packages (from sparse->qiskit_machine_learning) (0.51.2)\n",
      "Requirement already satisfied: mpmath>=0.19 in /usr/local/lib/python3.7/dist-packages (from sympy>=1.3->qiskit-terra>=0.17.0->qiskit_machine_learning) (1.2.1)\n",
      "Requirement already satisfied: six>=1.5 in /usr/local/lib/python3.7/dist-packages (from python-dateutil>=2.8.0->qiskit-terra>=0.17.0->qiskit_machine_learning) (1.15.0)\n",
      "Requirement already satisfied: llvmlite<0.35,>=0.34.0.dev0 in /usr/local/lib/python3.7/dist-packages (from numba>=0.49->sparse->qiskit_machine_learning) (0.34.0)\n",
      "Installing collected packages: sparse, qiskit-machine-learning\n",
      "Successfully installed qiskit-machine-learning-0.1.0 sparse-0.12.0\n",
      "Collecting pylatexenc\n",
      "\u001b[?25l  Downloading https://files.pythonhosted.org/packages/5d/ab/34ec41718af73c00119d0351b7a2531d2ebddb51833a36448fc7b862be60/pylatexenc-2.10.tar.gz (162kB)\n",
      "\u001b[K     |████████████████████████████████| 163kB 4.9MB/s \n",
      "\u001b[?25hBuilding wheels for collected packages: pylatexenc\n",
      "  Building wheel for pylatexenc (setup.py) ... \u001b[?25l\u001b[?25hdone\n",
      "  Created wheel for pylatexenc: filename=pylatexenc-2.10-cp37-none-any.whl size=136825 sha256=cf75d08d9a76c26dc8cdf303edbbcdeafa31ac0a7d8559e681becbe0d78bdf10\n",
      "  Stored in directory: /root/.cache/pip/wheels/3d/0a/64/533613e8165f1fc42f8f727cd12bb240940e2bd3bae7829021\n",
      "Successfully built pylatexenc\n",
      "Installing collected packages: pylatexenc\n",
      "Successfully installed pylatexenc-2.10\n"
     ]
    }
   ],
   "source": [
    "#!pip install qiskit\n",
    "#!pip install qiskit_machine_learning\n",
    "#!pip install pylatexenc"
   ]
  },
  {
   "cell_type": "code",
   "execution_count": 25,
   "id": "ktNINnQgpWzK",
   "metadata": {
    "id": "ktNINnQgpWzK"
   },
   "outputs": [],
   "source": [
    "#Importing the libraries\n",
    "\n",
    "import numpy as np\n",
    "import matplotlib.pyplot as plt\n",
    "import pandas as pd\n",
    "\n",
    "from qiskit import Aer, QuantumCircuit\n",
    "from qiskit.opflow import Z, I, StateFn\n",
    "from qiskit.utils import QuantumInstance\n",
    "from qiskit.circuit import Parameter\n",
    "from qiskit.circuit.library import RealAmplitudes, ZZFeatureMap, ZFeatureMap\n",
    "from qiskit.algorithms.optimizers import COBYLA, L_BFGS_B,SLSQP\n",
    "\n",
    "from qiskit_machine_learning.neural_networks import TwoLayerQNN, CircuitQNN\n",
    "from qiskit_machine_learning.algorithms.classifiers import NeuralNetworkClassifier, VQC\n",
    "from qiskit_machine_learning.algorithms.regressors import NeuralNetworkRegressor, VQR\n",
    "\n",
    "from typing import Union\n",
    "\n",
    "from qiskit_machine_learning.exceptions import QiskitMachineLearningError\n",
    "import pylatexenc\n",
    "\n",
    "from sklearn.metrics import confusion_matrix"
   ]
  },
  {
   "cell_type": "code",
   "execution_count": 48,
   "id": "tesQafpzpWzM",
   "metadata": {
    "id": "tesQafpzpWzM"
   },
   "outputs": [],
   "source": [
    "#Initiating the instance\n",
    "quantum_instance = QuantumInstance(Aer.get_backend('qasm_simulator'), shots=1024)"
   ]
  },
  {
   "cell_type": "code",
   "execution_count": 49,
   "id": "GYmS5CYJpWzS",
   "metadata": {
    "colab": {
     "base_uri": "https://localhost:8080/",
     "height": 204
    },
    "id": "GYmS5CYJpWzS",
    "outputId": "25cf98ee-2056-445b-bef1-8672de2667c8"
   },
   "outputs": [
    {
     "data": {
      "text/html": [
       "<div>\n",
       "<style scoped>\n",
       "    .dataframe tbody tr th:only-of-type {\n",
       "        vertical-align: middle;\n",
       "    }\n",
       "\n",
       "    .dataframe tbody tr th {\n",
       "        vertical-align: top;\n",
       "    }\n",
       "\n",
       "    .dataframe thead th {\n",
       "        text-align: right;\n",
       "    }\n",
       "</style>\n",
       "<table border=\"1\" class=\"dataframe\">\n",
       "  <thead>\n",
       "    <tr style=\"text-align: right;\">\n",
       "      <th></th>\n",
       "      <th>BOD</th>\n",
       "      <th>NH3-N</th>\n",
       "      <th>TN</th>\n",
       "      <th>MLSS</th>\n",
       "      <th>PH</th>\n",
       "      <th>AT_Temp</th>\n",
       "      <th>NH3_Y</th>\n",
       "      <th>Date</th>\n",
       "    </tr>\n",
       "  </thead>\n",
       "  <tbody>\n",
       "    <tr>\n",
       "      <th>0</th>\n",
       "      <td>38</td>\n",
       "      <td>25</td>\n",
       "      <td>48</td>\n",
       "      <td>2250</td>\n",
       "      <td>8.3</td>\n",
       "      <td>22.150</td>\n",
       "      <td>0.98</td>\n",
       "      <td>2013-01-10 00:00:00</td>\n",
       "    </tr>\n",
       "    <tr>\n",
       "      <th>1</th>\n",
       "      <td>150</td>\n",
       "      <td>28</td>\n",
       "      <td>41</td>\n",
       "      <td>2190</td>\n",
       "      <td>7.4</td>\n",
       "      <td>22.975</td>\n",
       "      <td>0.59</td>\n",
       "      <td>2013-01-24 00:00:00</td>\n",
       "    </tr>\n",
       "    <tr>\n",
       "      <th>2</th>\n",
       "      <td>130</td>\n",
       "      <td>26</td>\n",
       "      <td>41</td>\n",
       "      <td>2090</td>\n",
       "      <td>7.2</td>\n",
       "      <td>22.750</td>\n",
       "      <td>0.57</td>\n",
       "      <td>2013-01-31 00:00:00</td>\n",
       "    </tr>\n",
       "    <tr>\n",
       "      <th>3</th>\n",
       "      <td>180</td>\n",
       "      <td>29</td>\n",
       "      <td>48</td>\n",
       "      <td>2500</td>\n",
       "      <td>7.6</td>\n",
       "      <td>25.200</td>\n",
       "      <td>0.78</td>\n",
       "      <td>2013-02-07 00:00:00</td>\n",
       "    </tr>\n",
       "    <tr>\n",
       "      <th>4</th>\n",
       "      <td>170</td>\n",
       "      <td>28</td>\n",
       "      <td>44</td>\n",
       "      <td>2040</td>\n",
       "      <td>7.3</td>\n",
       "      <td>24.175</td>\n",
       "      <td>0.72</td>\n",
       "      <td>2013-03-07 00:00:00</td>\n",
       "    </tr>\n",
       "  </tbody>\n",
       "</table>\n",
       "</div>"
      ],
      "text/plain": [
       "   BOD  NH3-N  TN  MLSS   PH  AT_Temp  NH3_Y                 Date\n",
       "0   38     25  48  2250  8.3   22.150   0.98  2013-01-10 00:00:00\n",
       "1  150     28  41  2190  7.4   22.975   0.59  2013-01-24 00:00:00\n",
       "2  130     26  41  2090  7.2   22.750   0.57  2013-01-31 00:00:00\n",
       "3  180     29  48  2500  7.6   25.200   0.78  2013-02-07 00:00:00\n",
       "4  170     28  44  2040  7.3   24.175   0.72  2013-03-07 00:00:00"
      ]
     },
     "execution_count": 49,
     "metadata": {
      "tags": []
     },
     "output_type": "execute_result"
    }
   ],
   "source": [
    "#Reading the data and removing extra column unnamed\n",
    "data = pd.read_csv(\"outputNH3.csv\")\n",
    "data.head()\n",
    "data = data.drop(\"Unnamed: 0\", axis = 1)\n",
    "data.head()"
   ]
  },
  {
   "cell_type": "code",
   "execution_count": 50,
   "id": "_R6lbm38pWzT",
   "metadata": {
    "id": "_R6lbm38pWzT"
   },
   "outputs": [],
   "source": [
    "#Filtering data so it runs faster\n",
    "data = data.iloc[0:10,]"
   ]
  },
  {
   "cell_type": "code",
   "execution_count": 51,
   "id": "31ReCwDWpWzU",
   "metadata": {
    "colab": {
     "base_uri": "https://localhost:8080/",
     "height": 204
    },
    "id": "31ReCwDWpWzU",
    "outputId": "d26a213a-8993-4ed3-ae84-649989425381"
   },
   "outputs": [
    {
     "data": {
      "text/html": [
       "<div>\n",
       "<style scoped>\n",
       "    .dataframe tbody tr th:only-of-type {\n",
       "        vertical-align: middle;\n",
       "    }\n",
       "\n",
       "    .dataframe tbody tr th {\n",
       "        vertical-align: top;\n",
       "    }\n",
       "\n",
       "    .dataframe thead th {\n",
       "        text-align: right;\n",
       "    }\n",
       "</style>\n",
       "<table border=\"1\" class=\"dataframe\">\n",
       "  <thead>\n",
       "    <tr style=\"text-align: right;\">\n",
       "      <th></th>\n",
       "      <th>BOD</th>\n",
       "      <th>NH3-N</th>\n",
       "      <th>TN</th>\n",
       "      <th>MLSS</th>\n",
       "      <th>PH</th>\n",
       "      <th>AT_Temp</th>\n",
       "      <th>NH3_Y</th>\n",
       "      <th>Date</th>\n",
       "      <th>NH3_Y_binary</th>\n",
       "    </tr>\n",
       "  </thead>\n",
       "  <tbody>\n",
       "    <tr>\n",
       "      <th>0</th>\n",
       "      <td>38</td>\n",
       "      <td>25</td>\n",
       "      <td>48</td>\n",
       "      <td>2250</td>\n",
       "      <td>8.3</td>\n",
       "      <td>22.150</td>\n",
       "      <td>0.98</td>\n",
       "      <td>2013-01-10 00:00:00</td>\n",
       "      <td>1</td>\n",
       "    </tr>\n",
       "    <tr>\n",
       "      <th>1</th>\n",
       "      <td>150</td>\n",
       "      <td>28</td>\n",
       "      <td>41</td>\n",
       "      <td>2190</td>\n",
       "      <td>7.4</td>\n",
       "      <td>22.975</td>\n",
       "      <td>0.59</td>\n",
       "      <td>2013-01-24 00:00:00</td>\n",
       "      <td>0</td>\n",
       "    </tr>\n",
       "    <tr>\n",
       "      <th>2</th>\n",
       "      <td>130</td>\n",
       "      <td>26</td>\n",
       "      <td>41</td>\n",
       "      <td>2090</td>\n",
       "      <td>7.2</td>\n",
       "      <td>22.750</td>\n",
       "      <td>0.57</td>\n",
       "      <td>2013-01-31 00:00:00</td>\n",
       "      <td>0</td>\n",
       "    </tr>\n",
       "    <tr>\n",
       "      <th>3</th>\n",
       "      <td>180</td>\n",
       "      <td>29</td>\n",
       "      <td>48</td>\n",
       "      <td>2500</td>\n",
       "      <td>7.6</td>\n",
       "      <td>25.200</td>\n",
       "      <td>0.78</td>\n",
       "      <td>2013-02-07 00:00:00</td>\n",
       "      <td>1</td>\n",
       "    </tr>\n",
       "    <tr>\n",
       "      <th>4</th>\n",
       "      <td>170</td>\n",
       "      <td>28</td>\n",
       "      <td>44</td>\n",
       "      <td>2040</td>\n",
       "      <td>7.3</td>\n",
       "      <td>24.175</td>\n",
       "      <td>0.72</td>\n",
       "      <td>2013-03-07 00:00:00</td>\n",
       "      <td>1</td>\n",
       "    </tr>\n",
       "  </tbody>\n",
       "</table>\n",
       "</div>"
      ],
      "text/plain": [
       "   BOD  NH3-N  TN  MLSS   PH  AT_Temp  NH3_Y                 Date  NH3_Y_binary\n",
       "0   38     25  48  2250  8.3   22.150   0.98  2013-01-10 00:00:00             1\n",
       "1  150     28  41  2190  7.4   22.975   0.59  2013-01-24 00:00:00             0\n",
       "2  130     26  41  2090  7.2   22.750   0.57  2013-01-31 00:00:00             0\n",
       "3  180     29  48  2500  7.6   25.200   0.78  2013-02-07 00:00:00             1\n",
       "4  170     28  44  2040  7.3   24.175   0.72  2013-03-07 00:00:00             1"
      ]
     },
     "execution_count": 51,
     "metadata": {
      "tags": []
     },
     "output_type": "execute_result"
    }
   ],
   "source": [
    "# Creating a binary variable based on median value\n",
    "data['NH3_Y_binary'] = np.where(data['NH3_Y'] >= data['NH3_Y'].median(), 1, 0)\n",
    "data.head()"
   ]
  },
  {
   "cell_type": "code",
   "execution_count": 52,
   "id": "D55WiHp_pWzW",
   "metadata": {
    "colab": {
     "base_uri": "https://localhost:8080/",
     "height": 204
    },
    "id": "D55WiHp_pWzW",
    "outputId": "1171f3c4-173f-45e4-b746-3c1e48ba82f3"
   },
   "outputs": [
    {
     "data": {
      "text/html": [
       "<div>\n",
       "<style scoped>\n",
       "    .dataframe tbody tr th:only-of-type {\n",
       "        vertical-align: middle;\n",
       "    }\n",
       "\n",
       "    .dataframe tbody tr th {\n",
       "        vertical-align: top;\n",
       "    }\n",
       "\n",
       "    .dataframe thead th {\n",
       "        text-align: right;\n",
       "    }\n",
       "</style>\n",
       "<table border=\"1\" class=\"dataframe\">\n",
       "  <thead>\n",
       "    <tr style=\"text-align: right;\">\n",
       "      <th></th>\n",
       "      <th>BOD</th>\n",
       "      <th>NH3-N</th>\n",
       "      <th>TN</th>\n",
       "      <th>MLSS</th>\n",
       "      <th>PH</th>\n",
       "      <th>AT_Temp</th>\n",
       "    </tr>\n",
       "  </thead>\n",
       "  <tbody>\n",
       "    <tr>\n",
       "      <th>0</th>\n",
       "      <td>38</td>\n",
       "      <td>25</td>\n",
       "      <td>48</td>\n",
       "      <td>2250</td>\n",
       "      <td>8.3</td>\n",
       "      <td>22.150</td>\n",
       "    </tr>\n",
       "    <tr>\n",
       "      <th>1</th>\n",
       "      <td>150</td>\n",
       "      <td>28</td>\n",
       "      <td>41</td>\n",
       "      <td>2190</td>\n",
       "      <td>7.4</td>\n",
       "      <td>22.975</td>\n",
       "    </tr>\n",
       "    <tr>\n",
       "      <th>2</th>\n",
       "      <td>130</td>\n",
       "      <td>26</td>\n",
       "      <td>41</td>\n",
       "      <td>2090</td>\n",
       "      <td>7.2</td>\n",
       "      <td>22.750</td>\n",
       "    </tr>\n",
       "    <tr>\n",
       "      <th>3</th>\n",
       "      <td>180</td>\n",
       "      <td>29</td>\n",
       "      <td>48</td>\n",
       "      <td>2500</td>\n",
       "      <td>7.6</td>\n",
       "      <td>25.200</td>\n",
       "    </tr>\n",
       "    <tr>\n",
       "      <th>4</th>\n",
       "      <td>170</td>\n",
       "      <td>28</td>\n",
       "      <td>44</td>\n",
       "      <td>2040</td>\n",
       "      <td>7.3</td>\n",
       "      <td>24.175</td>\n",
       "    </tr>\n",
       "  </tbody>\n",
       "</table>\n",
       "</div>"
      ],
      "text/plain": [
       "   BOD  NH3-N  TN  MLSS   PH  AT_Temp\n",
       "0   38     25  48  2250  8.3   22.150\n",
       "1  150     28  41  2190  7.4   22.975\n",
       "2  130     26  41  2090  7.2   22.750\n",
       "3  180     29  48  2500  7.6   25.200\n",
       "4  170     28  44  2040  7.3   24.175"
      ]
     },
     "execution_count": 52,
     "metadata": {
      "tags": []
     },
     "output_type": "execute_result"
    }
   ],
   "source": [
    "#Filtering relevant independent variables\n",
    "X = data[['BOD','NH3-N','TN','MLSS','PH','AT_Temp']]\n",
    "X.head()"
   ]
  },
  {
   "cell_type": "code",
   "execution_count": 53,
   "id": "L11dBVkUpWzX",
   "metadata": {
    "id": "L11dBVkUpWzX"
   },
   "outputs": [],
   "source": [
    "# Creating binary variable\n",
    "y = data['NH3_Y_binary']"
   ]
  },
  {
   "cell_type": "code",
   "execution_count": 54,
   "id": "JGZm4QpQpWzX",
   "metadata": {
    "colab": {
     "base_uri": "https://localhost:8080/"
    },
    "id": "JGZm4QpQpWzX",
    "outputId": "d1e9935d-7fe4-4c40-ff33-9aedff1ab660"
   },
   "outputs": [
    {
     "name": "stdout",
     "output_type": "stream",
     "text": [
      "[[1. 1.]\n",
      " [1. 1.]\n",
      " [1. 1.]\n",
      " [1. 1.]\n",
      " [1. 1.]\n",
      " [1. 1.]\n",
      " [1. 1.]\n",
      " [1. 1.]\n",
      " [1. 1.]\n",
      " [1. 1.]]\n"
     ]
    },
    {
     "data": {
      "text/plain": [
       "array([[0., 1.],\n",
       "       [1., 0.],\n",
       "       [1., 0.],\n",
       "       [0., 1.],\n",
       "       [0., 1.],\n",
       "       [0., 1.],\n",
       "       [1., 0.],\n",
       "       [1., 0.],\n",
       "       [0., 1.],\n",
       "       [1., 0.]])"
      ]
     },
     "execution_count": 54,
     "metadata": {
      "tags": []
     },
     "output_type": "execute_result"
    }
   ],
   "source": [
    "# Creating a dummy varible for VQC\n",
    "y_new = np.ones((len(data),2))\n",
    "print(y_new)\n",
    "\n",
    "y_new[:,1] = np.where(y == 1, 1, 0)\n",
    "y_new[:,0] = np.where(y == 0, 1, 0)\n",
    "y_new"
   ]
  },
  {
   "cell_type": "code",
   "execution_count": 55,
   "id": "XBodVVFupWzY",
   "metadata": {
    "colab": {
     "base_uri": "https://localhost:8080/"
    },
    "id": "XBodVVFupWzY",
    "outputId": "fa29a576-5207-4aba-edf5-e1f96f67b7db"
   },
   "outputs": [
    {
     "data": {
      "text/plain": [
       "array([ 0.14666667, -0.89333333, -0.94666667, -0.38666667, -0.54666667,\n",
       "        1.        , -0.73333333, -1.        , -0.28      , -0.6       ])"
      ]
     },
     "execution_count": 55,
     "metadata": {
      "tags": []
     },
     "output_type": "execute_result"
    }
   ],
   "source": [
    "# Y variable for regression and scaling it from -1 to +1\n",
    "y_linear = data['NH3_Y']\n",
    "y_linear_scaled = np.interp(y_linear, (y_linear.min(), y_linear.max()), (-1, +1))\n",
    "y_linear_scaled"
   ]
  },
  {
   "cell_type": "code",
   "execution_count": 56,
   "id": "CpOVkDixpWzZ",
   "metadata": {
    "id": "CpOVkDixpWzZ"
   },
   "outputs": [],
   "source": [
    "# construct QNN\n",
    "num_inputs = 6\n",
    "opflow_qnn = TwoLayerQNN(num_inputs, quantum_instance=quantum_instance)"
   ]
  },
  {
   "cell_type": "code",
   "execution_count": 57,
   "id": "Eu2FvzrcpWzZ",
   "metadata": {
    "colab": {
     "base_uri": "https://localhost:8080/"
    },
    "id": "Eu2FvzrcpWzZ",
    "outputId": "72edf703-728c-4dac-dcd9-83f8505caf9b"
   },
   "outputs": [
    {
     "data": {
      "text/plain": [
       "array([[0.21875]])"
      ]
     },
     "execution_count": 57,
     "metadata": {
      "tags": []
     },
     "output_type": "execute_result"
    }
   ],
   "source": [
    "# QNN maps inputs to [-1, +1]\n",
    "opflow_qnn.forward(X.iloc[0,:], np.random.rand(opflow_qnn.num_weights))"
   ]
  },
  {
   "cell_type": "code",
   "execution_count": 79,
   "id": "m-JYwXQjpWzd",
   "metadata": {
    "colab": {
     "base_uri": "https://localhost:8080/",
     "height": 784
    },
    "id": "m-JYwXQjpWzd",
    "outputId": "880b1512-a63b-4d43-8390-e1ebae8b5fc9"
   },
   "outputs": [
    {
     "data": {
      "image/png": "[encoded data removed]",
      "text/plain": [
       "<Figure size 2210.55x1120.39 with 1 Axes>"
      ]
     },
     "execution_count": 79,
     "metadata": {
      "tags": []
     },
     "output_type": "execute_result"
    }
   ],
   "source": [
    "# construct feature map\n",
    "feature_map = ZFeatureMap(num_inputs)\n",
    "\n",
    "# construct ansatz\n",
    "ansatz = RealAmplitudes(num_inputs, reps=2)\n",
    "\n",
    "# construct quantum circuit\n",
    "qc = QuantumCircuit(num_inputs)\n",
    "qc.append(feature_map, range(num_inputs))\n",
    "qc.append(ansatz, range(num_inputs))\n",
    "thetax=[]\n",
    "thetay=[]\n",
    "thetaz=[]\n",
    "for i in range(num_inputs):\n",
    "  thetax.append(Parameter('x' + str(i)))\n",
    "  thetay.append(Parameter('y' + str(i)))\n",
    "  thetaz.append(Parameter('z' + str(i)))\n",
    "for i in range(num_inputs):\n",
    "  qc.u(thetax[i],thetay[i],thetaz[i],i)\n",
    "\n",
    "qc.decompose().draw(output='mpl')"
   ]
  },
  {
   "cell_type": "code",
   "execution_count": 80,
   "id": "W3G-NyxhpWzd",
   "metadata": {
    "id": "W3G-NyxhpWzd"
   },
   "outputs": [],
   "source": [
    "# parity maps bitstrings to 0 or 1\n",
    "def parity(x):\n",
    "    return '{:b}'.format(x).count('1') % 2\n",
    "output_shape = 2  # corresponds to the number of classes, possible outcomes of the (parity) mapping."
   ]
  },
  {
   "cell_type": "code",
   "execution_count": 81,
   "id": "4OOH6-42pWze",
   "metadata": {
    "id": "4OOH6-42pWze"
   },
   "outputs": [],
   "source": [
    "# construct QNN\n",
    "circuit_qnn = CircuitQNN(circuit=qc,\n",
    "                         input_params=feature_map.parameters,\n",
    "                         weight_params=ansatz.parameters,\n",
    "                         interpret=parity,\n",
    "                         output_shape=output_shape,\n",
    "                         quantum_instance=quantum_instance)"
   ]
  },
  {
   "cell_type": "markdown",
   "id": "vhksktP8pWzi",
   "metadata": {
    "id": "vhksktP8pWzi"
   },
   "source": [
    "VQC Regression"
   ]
  },
  {
   "cell_type": "code",
   "execution_count": 82,
   "id": "4E5P5y0EpWzj",
   "metadata": {
    "id": "4E5P5y0EpWzj"
   },
   "outputs": [],
   "source": [
    "#Initiating regressor\n",
    "vqr = VQR(feature_map=feature_map,\n",
    "          ansatz=ansatz,\n",
    "          optimizer=SLSQP(),\n",
    "          quantum_instance=quantum_instance)"
   ]
  },
  {
   "cell_type": "code",
   "execution_count": 83,
   "id": "QNoxNmZ_pWzj",
   "metadata": {
    "colab": {
     "base_uri": "https://localhost:8080/"
    },
    "id": "QNoxNmZ_pWzj",
    "outputId": "db629733-92bf-4181-9d89-8cb0c1ad5290"
   },
   "outputs": [
    {
     "data": {
      "text/plain": [
       "<qiskit_machine_learning.algorithms.regressors.vqr.VQR at 0x7fee7c486e50>"
      ]
     },
     "execution_count": 83,
     "metadata": {
      "tags": []
     },
     "output_type": "execute_result"
    }
   ],
   "source": [
    "#fitting regressor\n",
    "vqr.fit(X, y_linear_scaled)"
   ]
  },
  {
   "cell_type": "code",
   "execution_count": 102,
   "id": "4LFFeloqpWzj",
   "metadata": {
    "colab": {
     "base_uri": "https://localhost:8080/"
    },
    "id": "4LFFeloqpWzj",
    "outputId": "251ec2d6-668e-4996-8dcf-83f28ae3e28a"
   },
   "outputs": [
    {
     "data": {
      "text/plain": [
       "array([[ 0.04101562],\n",
       "       [-0.58203125],\n",
       "       [-0.63671875],\n",
       "       [-0.14648438],\n",
       "       [-0.48242187],\n",
       "       [ 0.5234375 ],\n",
       "       [-0.4140625 ],\n",
       "       [-0.67578125],\n",
       "       [-0.74414062],\n",
       "       [-0.4921875 ]])"
      ]
     },
     "execution_count": 102,
     "metadata": {
      "tags": []
     },
     "output_type": "execute_result"
    }
   ],
   "source": [
    "#Predicting the value\n",
    "y_VQR = vqr.predict(X)\n",
    "y_VQR"
   ]
  },
  {
   "cell_type": "code",
   "execution_count": 89,
   "id": "xO5kz0n_pWzj",
   "metadata": {
    "id": "xO5kz0n_pWzj"
   },
   "outputs": [],
   "source": [
    "# plot data\n",
    "plt.plot(X.iloc[:,0], y_linear_scaled, 'bo')\n",
    "# plot fitted line\n",
    "plt.plot(X.iloc[:,0], y_VQR, 'go')\n",
    "plt.show()"
   ]
  },
  {
   "cell_type": "code",
   "execution_count": 90,
   "id": "GDabeuIopWzk",
   "metadata": {
    "colab": {
     "base_uri": "https://localhost:8080/"
    },
    "id": "GDabeuIopWzk",
    "outputId": "ed54f127-d88b-4ab1-cf2a-36e51e092a64"
   },
   "outputs": [
    {
     "data": {
      "text/plain": [
       "[<matplotlib.lines.Line2D at 0x7fee7b9b5b50>]"
      ]
     },
     "execution_count": 90,
     "metadata": {
      "tags": []
     },
     "output_type": "execute_result"
    }
   ],
   "source": [
    "plt.plot(y_linear_scaled,y_VQR, 'bo')\n",
    "x = np.linspace(-1, 1,100)\n",
    "plt.xlim([-1, 1])\n",
    "plt.ylim([-1, 1])\n",
    "plt.plot(x,x,color=\"black\")"
   ]
  },
  {
   "cell_type": "code",
   "execution_count": 103,
   "id": "IRVH8rwrpWzk",
   "metadata": {
    "colab": {
     "base_uri": "https://localhost:8080/"
    },
    "id": "IRVH8rwrpWzk",
    "outputId": "54192e32-b7d6-4f95-9da9-5ee14450ed4f"
   },
   "outputs": [
    {
     "name": "stdout",
     "output_type": "stream",
     "text": [
      "0.09271673014322918\n",
      "0.7226131781041698\n"
     ]
    }
   ],
   "source": [
    "from sklearn.metrics import mean_squared_error\n",
    "from sklearn.metrics import r2_score\n",
    "#MSE\n",
    "mse = mean_squared_error(y_linear_scaled,y_VQR)\n",
    "print(mse)\n",
    "# R squared error\n",
    "r2s = r2_score(y_linear_scaled,y_VQR)\n",
    "print(r2s)"
   ]
  },
  {
   "cell_type": "code",
   "execution_count": null,
   "id": "ma9M8IoIpWzl",
   "metadata": {
    "id": "ma9M8IoIpWzl"
   },
   "outputs": [],
   "source": []
  },
  {
   "cell_type": "code",
   "execution_count": null,
   "id": "ofGAmZE8pWzl",
   "metadata": {
    "id": "ofGAmZE8pWzl"
   },
   "outputs": [],
   "source": []
  }
 ],
 "metadata": {
  "colab": {
   "name": "NH3 (1).ipynb",
   "provenance": []
  },
  "kernelspec": {
   "display_name": "Python 3",
   "language": "python",
   "name": "python3"
  },
  "language_info": {
   "codemirror_mode": {
    "name": "ipython",
    "version": 3
   },
   "file_extension": ".py",
   "mimetype": "text/x-python",
   "name": "python",
   "nbconvert_exporter": "python",
   "pygments_lexer": "ipython3",
   "version": "3.8.8"
  }
 },
 "nbformat": 4,
 "nbformat_minor": 5
}
