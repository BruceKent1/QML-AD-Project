{
 "cells": [
  {
   "cell_type": "code",
   "execution_count": 1,
   "id": "42d2de8e",
   "metadata": {},
   "outputs": [],
   "source": [
    "#!pip install qiskit\n",
    "#!pip install qiskit_machine_learning\n",
    "#!pip install pylatexenc"
   ]
  },
  {
   "cell_type": "code",
   "execution_count": 2,
   "id": "fd3cb72c",
   "metadata": {},
   "outputs": [],
   "source": [
    "#Importing the libraries\n",
    "\n",
    "import numpy as np\n",
    "import matplotlib.pyplot as plt\n",
    "import pandas as pd\n",
    "\n",
    "from qiskit import Aer, QuantumCircuit\n",
    "from qiskit.opflow import Z, I, StateFn\n",
    "from qiskit.utils import QuantumInstance\n",
    "from qiskit.circuit import Parameter\n",
    "from qiskit.circuit.library import RealAmplitudes, ZZFeatureMap, ZFeatureMap\n",
    "from qiskit.algorithms.optimizers import COBYLA, L_BFGS_B\n",
    "\n",
    "from qiskit_machine_learning.neural_networks import TwoLayerQNN, CircuitQNN\n",
    "from qiskit_machine_learning.algorithms.classifiers import NeuralNetworkClassifier, VQC\n",
    "from qiskit_machine_learning.algorithms.regressors import NeuralNetworkRegressor, VQR\n",
    "\n",
    "from typing import Union\n",
    "\n",
    "from qiskit_machine_learning.exceptions import QiskitMachineLearningError\n",
    "import pylatexenc\n",
    "\n",
    "from sklearn.metrics import confusion_matrix"
   ]
  },
  {
   "cell_type": "code",
   "execution_count": 3,
   "id": "50972cba",
   "metadata": {},
   "outputs": [],
   "source": [
    "#Initiating the instance\n",
    "quantum_instance = QuantumInstance(Aer.get_backend('qasm_simulator'), shots=1024)"
   ]
  },
  {
   "cell_type": "code",
   "execution_count": 4,
   "id": "5ce9f07c",
   "metadata": {},
   "outputs": [
    {
     "data": {
      "text/html": [
       "<div>\n",
       "<style scoped>\n",
       "    .dataframe tbody tr th:only-of-type {\n",
       "        vertical-align: middle;\n",
       "    }\n",
       "\n",
       "    .dataframe tbody tr th {\n",
       "        vertical-align: top;\n",
       "    }\n",
       "\n",
       "    .dataframe thead th {\n",
       "        text-align: right;\n",
       "    }\n",
       "</style>\n",
       "<table border=\"1\" class=\"dataframe\">\n",
       "  <thead>\n",
       "    <tr style=\"text-align: right;\">\n",
       "      <th></th>\n",
       "      <th>BOD</th>\n",
       "      <th>NH3-N</th>\n",
       "      <th>TN</th>\n",
       "      <th>MLSS</th>\n",
       "      <th>PH</th>\n",
       "      <th>AT_Temp</th>\n",
       "      <th>TN_Y</th>\n",
       "    </tr>\n",
       "  </thead>\n",
       "  <tbody>\n",
       "    <tr>\n",
       "      <th>0</th>\n",
       "      <td>38</td>\n",
       "      <td>25</td>\n",
       "      <td>48</td>\n",
       "      <td>2250</td>\n",
       "      <td>8.3</td>\n",
       "      <td>22.150</td>\n",
       "      <td>12.0</td>\n",
       "    </tr>\n",
       "    <tr>\n",
       "      <th>1</th>\n",
       "      <td>180</td>\n",
       "      <td>29</td>\n",
       "      <td>48</td>\n",
       "      <td>2500</td>\n",
       "      <td>7.6</td>\n",
       "      <td>25.200</td>\n",
       "      <td>12.0</td>\n",
       "    </tr>\n",
       "    <tr>\n",
       "      <th>2</th>\n",
       "      <td>160</td>\n",
       "      <td>24</td>\n",
       "      <td>41</td>\n",
       "      <td>2140</td>\n",
       "      <td>7.2</td>\n",
       "      <td>23.650</td>\n",
       "      <td>9.7</td>\n",
       "    </tr>\n",
       "    <tr>\n",
       "      <th>3</th>\n",
       "      <td>170</td>\n",
       "      <td>28</td>\n",
       "      <td>44</td>\n",
       "      <td>2040</td>\n",
       "      <td>7.3</td>\n",
       "      <td>24.175</td>\n",
       "      <td>12.0</td>\n",
       "    </tr>\n",
       "    <tr>\n",
       "      <th>4</th>\n",
       "      <td>500</td>\n",
       "      <td>16</td>\n",
       "      <td>98</td>\n",
       "      <td>1660</td>\n",
       "      <td>7.5</td>\n",
       "      <td>25.360</td>\n",
       "      <td>13.0</td>\n",
       "    </tr>\n",
       "  </tbody>\n",
       "</table>\n",
       "</div>"
      ],
      "text/plain": [
       "   BOD  NH3-N  TN  MLSS   PH  AT_Temp  TN_Y\n",
       "0   38     25  48  2250  8.3   22.150  12.0\n",
       "1  180     29  48  2500  7.6   25.200  12.0\n",
       "2  160     24  41  2140  7.2   23.650   9.7\n",
       "3  170     28  44  2040  7.3   24.175  12.0\n",
       "4  500     16  98  1660  7.5   25.360  13.0"
      ]
     },
     "execution_count": 4,
     "metadata": {},
     "output_type": "execute_result"
    }
   ],
   "source": [
    "#Reading the data and removing extra column unnamed\n",
    "data = pd.read_csv(\"Test_TN.csv\")\n",
    "data.head()\n",
    "data = data.drop(\"Unnamed: 0\", axis = 1)\n",
    "data.head()"
   ]
  },
  {
   "cell_type": "code",
   "execution_count": 5,
   "id": "4eff2a08",
   "metadata": {},
   "outputs": [],
   "source": [
    "#Filtering data so it runs faster\n",
    "data = data.iloc[0:10,]"
   ]
  },
  {
   "cell_type": "code",
   "execution_count": 6,
   "id": "c78764fb",
   "metadata": {},
   "outputs": [
    {
     "data": {
      "text/html": [
       "<div>\n",
       "<style scoped>\n",
       "    .dataframe tbody tr th:only-of-type {\n",
       "        vertical-align: middle;\n",
       "    }\n",
       "\n",
       "    .dataframe tbody tr th {\n",
       "        vertical-align: top;\n",
       "    }\n",
       "\n",
       "    .dataframe thead th {\n",
       "        text-align: right;\n",
       "    }\n",
       "</style>\n",
       "<table border=\"1\" class=\"dataframe\">\n",
       "  <thead>\n",
       "    <tr style=\"text-align: right;\">\n",
       "      <th></th>\n",
       "      <th>BOD</th>\n",
       "      <th>NH3-N</th>\n",
       "      <th>TN</th>\n",
       "      <th>MLSS</th>\n",
       "      <th>PH</th>\n",
       "      <th>AT_Temp</th>\n",
       "      <th>TN_Y</th>\n",
       "      <th>TN_Y_binary</th>\n",
       "    </tr>\n",
       "  </thead>\n",
       "  <tbody>\n",
       "    <tr>\n",
       "      <th>0</th>\n",
       "      <td>38</td>\n",
       "      <td>25</td>\n",
       "      <td>48</td>\n",
       "      <td>2250</td>\n",
       "      <td>8.3</td>\n",
       "      <td>22.150</td>\n",
       "      <td>12.0</td>\n",
       "      <td>1</td>\n",
       "    </tr>\n",
       "    <tr>\n",
       "      <th>1</th>\n",
       "      <td>180</td>\n",
       "      <td>29</td>\n",
       "      <td>48</td>\n",
       "      <td>2500</td>\n",
       "      <td>7.6</td>\n",
       "      <td>25.200</td>\n",
       "      <td>12.0</td>\n",
       "      <td>1</td>\n",
       "    </tr>\n",
       "    <tr>\n",
       "      <th>2</th>\n",
       "      <td>160</td>\n",
       "      <td>24</td>\n",
       "      <td>41</td>\n",
       "      <td>2140</td>\n",
       "      <td>7.2</td>\n",
       "      <td>23.650</td>\n",
       "      <td>9.7</td>\n",
       "      <td>0</td>\n",
       "    </tr>\n",
       "    <tr>\n",
       "      <th>3</th>\n",
       "      <td>170</td>\n",
       "      <td>28</td>\n",
       "      <td>44</td>\n",
       "      <td>2040</td>\n",
       "      <td>7.3</td>\n",
       "      <td>24.175</td>\n",
       "      <td>12.0</td>\n",
       "      <td>1</td>\n",
       "    </tr>\n",
       "    <tr>\n",
       "      <th>4</th>\n",
       "      <td>500</td>\n",
       "      <td>16</td>\n",
       "      <td>98</td>\n",
       "      <td>1660</td>\n",
       "      <td>7.5</td>\n",
       "      <td>25.360</td>\n",
       "      <td>13.0</td>\n",
       "      <td>1</td>\n",
       "    </tr>\n",
       "  </tbody>\n",
       "</table>\n",
       "</div>"
      ],
      "text/plain": [
       "   BOD  NH3-N  TN  MLSS   PH  AT_Temp  TN_Y  TN_Y_binary\n",
       "0   38     25  48  2250  8.3   22.150  12.0            1\n",
       "1  180     29  48  2500  7.6   25.200  12.0            1\n",
       "2  160     24  41  2140  7.2   23.650   9.7            0\n",
       "3  170     28  44  2040  7.3   24.175  12.0            1\n",
       "4  500     16  98  1660  7.5   25.360  13.0            1"
      ]
     },
     "execution_count": 6,
     "metadata": {},
     "output_type": "execute_result"
    }
   ],
   "source": [
    "# Creating a binary variable based on median value\n",
    "data['TN_Y_binary'] = np.where(data['TN_Y'] >= data['TN_Y'].median(), 1, 0)\n",
    "data.head()"
   ]
  },
  {
   "cell_type": "code",
   "execution_count": 7,
   "id": "9dc499e6",
   "metadata": {},
   "outputs": [
    {
     "data": {
      "application/vnd.jupyter.widget-view+json": {
       "model_id": "c35a7ab6c9294cf9b209d21b50ca7b56",
       "version_major": 2,
       "version_minor": 0
      },
      "text/plain": [
       "Summarize dataset:   0%|          | 0/21 [00:00<?, ?it/s]"
      ]
     },
     "metadata": {},
     "output_type": "display_data"
    },
    {
     "data": {
      "application/vnd.jupyter.widget-view+json": {
       "model_id": "a8951efb0d734ee498ba4c05e48c5c34",
       "version_major": 2,
       "version_minor": 0
      },
      "text/plain": [
       "Generate report structure:   0%|          | 0/1 [00:00<?, ?it/s]"
      ]
     },
     "metadata": {},
     "output_type": "display_data"
    },
    {
     "data": {
      "application/vnd.jupyter.widget-view+json": {
       "model_id": "",
       "version_major": 2,
       "version_minor": 0
      },
      "text/plain": [
       "Render widgets:   0%|          | 0/1 [00:00<?, ?it/s]"
      ]
     },
     "metadata": {},
     "output_type": "display_data"
    },
    {
     "data": {
      "application/vnd.jupyter.widget-view+json": {
       "model_id": "7ce9c7485e4e44f6b0a8749b5f6697d4",
       "version_major": 2,
       "version_minor": 0
      },
      "text/plain": [
       "VBox(children=(Tab(children=(Tab(children=(GridBox(children=(VBox(children=(GridspecLayout(children=(HTML(valu…"
      ]
     },
     "metadata": {},
     "output_type": "display_data"
    }
   ],
   "source": [
    "#doing pandas profiling\n",
    "from pandas_profiling import ProfileReport\n",
    "profile = ProfileReport(data, title=\"Pandas Profiling Report\")\n",
    "profile.to_widgets()"
   ]
  },
  {
   "cell_type": "code",
   "execution_count": 8,
   "id": "670184c7",
   "metadata": {},
   "outputs": [
    {
     "data": {
      "text/html": [
       "<div>\n",
       "<style scoped>\n",
       "    .dataframe tbody tr th:only-of-type {\n",
       "        vertical-align: middle;\n",
       "    }\n",
       "\n",
       "    .dataframe tbody tr th {\n",
       "        vertical-align: top;\n",
       "    }\n",
       "\n",
       "    .dataframe thead th {\n",
       "        text-align: right;\n",
       "    }\n",
       "</style>\n",
       "<table border=\"1\" class=\"dataframe\">\n",
       "  <thead>\n",
       "    <tr style=\"text-align: right;\">\n",
       "      <th></th>\n",
       "      <th>BOD</th>\n",
       "      <th>NH3-N</th>\n",
       "      <th>TN</th>\n",
       "      <th>MLSS</th>\n",
       "      <th>PH</th>\n",
       "      <th>AT_Temp</th>\n",
       "    </tr>\n",
       "  </thead>\n",
       "  <tbody>\n",
       "    <tr>\n",
       "      <th>0</th>\n",
       "      <td>38</td>\n",
       "      <td>25</td>\n",
       "      <td>48</td>\n",
       "      <td>2250</td>\n",
       "      <td>8.3</td>\n",
       "      <td>22.150</td>\n",
       "    </tr>\n",
       "    <tr>\n",
       "      <th>1</th>\n",
       "      <td>180</td>\n",
       "      <td>29</td>\n",
       "      <td>48</td>\n",
       "      <td>2500</td>\n",
       "      <td>7.6</td>\n",
       "      <td>25.200</td>\n",
       "    </tr>\n",
       "    <tr>\n",
       "      <th>2</th>\n",
       "      <td>160</td>\n",
       "      <td>24</td>\n",
       "      <td>41</td>\n",
       "      <td>2140</td>\n",
       "      <td>7.2</td>\n",
       "      <td>23.650</td>\n",
       "    </tr>\n",
       "    <tr>\n",
       "      <th>3</th>\n",
       "      <td>170</td>\n",
       "      <td>28</td>\n",
       "      <td>44</td>\n",
       "      <td>2040</td>\n",
       "      <td>7.3</td>\n",
       "      <td>24.175</td>\n",
       "    </tr>\n",
       "    <tr>\n",
       "      <th>4</th>\n",
       "      <td>500</td>\n",
       "      <td>16</td>\n",
       "      <td>98</td>\n",
       "      <td>1660</td>\n",
       "      <td>7.5</td>\n",
       "      <td>25.360</td>\n",
       "    </tr>\n",
       "  </tbody>\n",
       "</table>\n",
       "</div>"
      ],
      "text/plain": [
       "   BOD  NH3-N  TN  MLSS   PH  AT_Temp\n",
       "0   38     25  48  2250  8.3   22.150\n",
       "1  180     29  48  2500  7.6   25.200\n",
       "2  160     24  41  2140  7.2   23.650\n",
       "3  170     28  44  2040  7.3   24.175\n",
       "4  500     16  98  1660  7.5   25.360"
      ]
     },
     "execution_count": 8,
     "metadata": {},
     "output_type": "execute_result"
    }
   ],
   "source": [
    "#Filtering relevant independent variables\n",
    "X = data[['BOD','NH3-N','TN','MLSS','PH','AT_Temp']]\n",
    "X.head()"
   ]
  },
  {
   "cell_type": "code",
   "execution_count": 9,
   "id": "e407fd55",
   "metadata": {},
   "outputs": [],
   "source": [
    "# Creating binary variable\n",
    "y = data['TN_Y_binary']"
   ]
  },
  {
   "cell_type": "code",
   "execution_count": 10,
   "id": "21cfa370",
   "metadata": {},
   "outputs": [
    {
     "name": "stdout",
     "output_type": "stream",
     "text": [
      "[[1. 1.]\n",
      " [1. 1.]\n",
      " [1. 1.]\n",
      " [1. 1.]\n",
      " [1. 1.]\n",
      " [1. 1.]\n",
      " [1. 1.]\n",
      " [1. 1.]\n",
      " [1. 1.]\n",
      " [1. 1.]]\n"
     ]
    },
    {
     "data": {
      "text/plain": [
       "array([[0., 1.],\n",
       "       [0., 1.],\n",
       "       [1., 0.],\n",
       "       [0., 1.],\n",
       "       [0., 1.],\n",
       "       [0., 1.],\n",
       "       [1., 0.],\n",
       "       [1., 0.],\n",
       "       [1., 0.],\n",
       "       [1., 0.]])"
      ]
     },
     "execution_count": 10,
     "metadata": {},
     "output_type": "execute_result"
    }
   ],
   "source": [
    "# Creating a dummy varible for VQC\n",
    "y_new = np.ones((len(data),2))\n",
    "print(y_new)\n",
    "\n",
    "y_new[:,1] = np.where(y == 1, 1, 0)\n",
    "y_new[:,0] = np.where(y == 0, 1, 0)\n",
    "y_new"
   ]
  },
  {
   "cell_type": "code",
   "execution_count": 11,
   "id": "ee0dffd8",
   "metadata": {},
   "outputs": [
    {
     "data": {
      "text/plain": [
       "array([ 0.5 ,  0.5 , -0.65,  0.5 ,  1.  , -0.5 , -0.8 , -0.7 , -1.  ,\n",
       "       -0.85])"
      ]
     },
     "execution_count": 11,
     "metadata": {},
     "output_type": "execute_result"
    }
   ],
   "source": [
    "# Y variable for regression and scaling it from -1 to +1\n",
    "y_linear = data['TN_Y']\n",
    "y_linear_scaled = np.interp(y_linear, (y_linear.min(), y_linear.max()), (-1, +1))\n",
    "y_linear_scaled"
   ]
  },
  {
   "cell_type": "code",
   "execution_count": 12,
   "id": "05552469",
   "metadata": {},
   "outputs": [],
   "source": [
    "# construct QNN\n",
    "num_inputs = 6\n",
    "opflow_qnn = TwoLayerQNN(num_inputs, quantum_instance=quantum_instance)"
   ]
  },
  {
   "cell_type": "code",
   "execution_count": 13,
   "id": "32e74f31",
   "metadata": {},
   "outputs": [
    {
     "data": {
      "text/plain": [
       "array([[-0.015625]])"
      ]
     },
     "execution_count": 13,
     "metadata": {},
     "output_type": "execute_result"
    }
   ],
   "source": [
    "# QNN maps inputs to [-1, +1]\n",
    "opflow_qnn.forward(X.iloc[0,:], np.random.rand(opflow_qnn.num_weights))"
   ]
  },
  {
   "cell_type": "code",
   "execution_count": 14,
   "id": "d9786f6b",
   "metadata": {},
   "outputs": [],
   "source": [
    "# construct neural network classifier\n",
    "opflow_classifier = NeuralNetworkClassifier(opflow_qnn, optimizer=COBYLA())"
   ]
  },
  {
   "cell_type": "code",
   "execution_count": 15,
   "id": "4bc6d4e6",
   "metadata": {},
   "outputs": [
    {
     "data": {
      "text/plain": [
       "<qiskit_machine_learning.algorithms.classifiers.neural_network_classifier.NeuralNetworkClassifier at 0x7fa634f067f0>"
      ]
     },
     "execution_count": 15,
     "metadata": {},
     "output_type": "execute_result"
    }
   ],
   "source": [
    "# fit classifier to data\n",
    "opflow_classifier.fit(X, y)"
   ]
  },
  {
   "cell_type": "code",
   "execution_count": 16,
   "id": "6899bc4d",
   "metadata": {},
   "outputs": [
    {
     "data": {
      "image/png": "[encoded data removed]",
      "text/plain": [
       "<Figure size 432x288 with 1 Axes>"
      ]
     },
     "metadata": {
      "needs_background": "light"
     },
     "output_type": "display_data"
    }
   ],
   "source": [
    "# evaluate data points\n",
    "y_predict_opflow_classifier = opflow_classifier.predict(X)\n",
    "\n",
    "# plot results\n",
    "# red == wrongly classified\n",
    "for x, y_target, y_p in zip(X, y, y_predict_opflow_classifier):\n",
    "    if y_target == 1:\n",
    "        plt.plot(x[0], x[1], 'bo')\n",
    "    else:\n",
    "        plt.plot(x[0], x[1], 'go')\n",
    "    if y_target != y_p:\n",
    "        plt.scatter(x[0], x[1], s=200, facecolors='none', edgecolors='r', linewidths=2)\n",
    "plt.plot([-1, 1], [1, -1], '--', color='black')\n",
    "plt.show()"
   ]
  },
  {
   "cell_type": "code",
   "execution_count": 17,
   "id": "a3d5497d",
   "metadata": {},
   "outputs": [
    {
     "data": {
      "text/plain": [
       "array([[0, 0, 0],\n",
       "       [4, 0, 1],\n",
       "       [0, 0, 5]])"
      ]
     },
     "execution_count": 17,
     "metadata": {},
     "output_type": "execute_result"
    }
   ],
   "source": [
    "confusion_matrix(y,y_predict_opflow_classifier)"
   ]
  },
  {
   "cell_type": "code",
   "execution_count": 18,
   "id": "e3df9d08",
   "metadata": {},
   "outputs": [
    {
     "data": {
      "image/png": "[encoded data removed]",
      "text/plain": [
       "<Figure size 1350.8x385.28 with 1 Axes>"
      ]
     },
     "execution_count": 18,
     "metadata": {},
     "output_type": "execute_result"
    }
   ],
   "source": [
    "# construct feature map\n",
    "feature_map = ZFeatureMap(num_inputs)\n",
    "\n",
    "# construct ansatz\n",
    "ansatz = RealAmplitudes(num_inputs, reps=1)\n",
    "\n",
    "# construct quantum circuit\n",
    "qc = QuantumCircuit(num_inputs)\n",
    "qc.append(feature_map, range(num_inputs))\n",
    "qc.append(ansatz, range(num_inputs))\n",
    "qc.decompose().draw(output='mpl')"
   ]
  },
  {
   "cell_type": "code",
   "execution_count": 19,
   "id": "6fbb4a08",
   "metadata": {},
   "outputs": [],
   "source": [
    "# parity maps bitstrings to 0 or 1\n",
    "def parity(x):\n",
    "    return '{:b}'.format(x).count('1') % 2\n",
    "output_shape = 2  # corresponds to the number of classes, possible outcomes of the (parity) mapping."
   ]
  },
  {
   "cell_type": "code",
   "execution_count": 20,
   "id": "01b14c8e",
   "metadata": {},
   "outputs": [],
   "source": [
    "# construct QNN\n",
    "circuit_qnn = CircuitQNN(circuit=qc,\n",
    "                         input_params=feature_map.parameters,\n",
    "                         weight_params=ansatz.parameters,\n",
    "                         interpret=parity,\n",
    "                         output_shape=output_shape,\n",
    "                         quantum_instance=quantum_instance)"
   ]
  },
  {
   "cell_type": "code",
   "execution_count": 21,
   "id": "f1c7026d",
   "metadata": {},
   "outputs": [],
   "source": [
    "# construct classifier\n",
    "circuit_classifier = NeuralNetworkClassifier(neural_network=circuit_qnn,\n",
    "                                             optimizer=COBYLA())"
   ]
  },
  {
   "cell_type": "code",
   "execution_count": 22,
   "id": "23ff9729",
   "metadata": {},
   "outputs": [
    {
     "data": {
      "text/plain": [
       "<qiskit_machine_learning.algorithms.classifiers.neural_network_classifier.NeuralNetworkClassifier at 0x7fa630f72cd0>"
      ]
     },
     "execution_count": 22,
     "metadata": {},
     "output_type": "execute_result"
    }
   ],
   "source": [
    "# fit classifier to data\n",
    "circuit_classifier.fit(X, y)"
   ]
  },
  {
   "cell_type": "code",
   "execution_count": 23,
   "id": "eb1ad84e",
   "metadata": {},
   "outputs": [
    {
     "data": {
      "image/png": "[encoded data removed]",
      "text/plain": [
       "<Figure size 432x288 with 1 Axes>"
      ]
     },
     "metadata": {
      "needs_background": "light"
     },
     "output_type": "display_data"
    }
   ],
   "source": [
    "# evaluate data points\n",
    "y_predict_circuit_classifier = circuit_classifier.predict(X)\n",
    "\n",
    "# plot results\n",
    "# red == wrongly classified\n",
    "for x, y_target, y_p in zip(X, y, y_predict_circuit_classifier):\n",
    "    if y_target == 1:\n",
    "        plt.plot(x[0], x[1], 'bo')\n",
    "    else:\n",
    "        plt.plot(x[0], x[1], 'go')\n",
    "    if y_target != y_p:\n",
    "        plt.scatter(x[0], x[1], s=200, facecolors='none', edgecolors='r', linewidths=2)\n",
    "plt.plot([-1, 1], [1, -1], '--', color='black')\n",
    "plt.show()"
   ]
  },
  {
   "cell_type": "code",
   "execution_count": 24,
   "id": "120656f9",
   "metadata": {},
   "outputs": [
    {
     "data": {
      "text/plain": [
       "array([[4, 1],\n",
       "       [1, 4]])"
      ]
     },
     "execution_count": 24,
     "metadata": {},
     "output_type": "execute_result"
    }
   ],
   "source": [
    "confusion_matrix(y,y_predict_circuit_classifier)"
   ]
  },
  {
   "cell_type": "markdown",
   "id": "d4482edf",
   "metadata": {},
   "source": [
    "VQC Classifier"
   ]
  },
  {
   "cell_type": "code",
   "execution_count": 25,
   "id": "46007230",
   "metadata": {},
   "outputs": [],
   "source": [
    "# construct feature map, ansatz, and optimizer\n",
    "feature_map = ZZFeatureMap(num_inputs)\n",
    "ansatz = RealAmplitudes(num_inputs, reps=1)\n",
    "\n",
    "# construct variational quantum classifier\n",
    "vqc = VQC(feature_map=feature_map,\n",
    "          ansatz=ansatz,\n",
    "          loss='cross_entropy',\n",
    "          optimizer=COBYLA(),\n",
    "          quantum_instance=quantum_instance)"
   ]
  },
  {
   "cell_type": "code",
   "execution_count": 26,
   "id": "3f620d93",
   "metadata": {},
   "outputs": [
    {
     "data": {
      "text/plain": [
       "<qiskit_machine_learning.algorithms.classifiers.vqc.VQC at 0x7fa635935400>"
      ]
     },
     "execution_count": 26,
     "metadata": {},
     "output_type": "execute_result"
    }
   ],
   "source": [
    "vqc.fit(X, y_new)"
   ]
  },
  {
   "cell_type": "code",
   "execution_count": 27,
   "id": "23a30401",
   "metadata": {},
   "outputs": [
    {
     "data": {
      "image/png": "[encoded data removed]",
      "text/plain": [
       "<Figure size 432x288 with 1 Axes>"
      ]
     },
     "metadata": {
      "needs_background": "light"
     },
     "output_type": "display_data"
    }
   ],
   "source": [
    "# evaluate data points\n",
    "y_predict = vqc.predict(X)\n",
    "\n",
    "# plot results\n",
    "# red == wrongly classified\n",
    "for x, y_target, y_p in zip(X, y_new, y_predict):\n",
    "    if y_target[0] == 1:\n",
    "        plt.plot(x[0], x[1], 'bo')\n",
    "    else:\n",
    "        plt.plot(x[0], x[1], 'go')\n",
    "    if not np.all(y_target == y_p):\n",
    "        plt.scatter(x[0], x[1], s=200, facecolors='none', edgecolors='r', linewidths=2)\n",
    "plt.plot([-1, 1], [1, -1], '--', color='black')\n",
    "plt.show()"
   ]
  },
  {
   "cell_type": "markdown",
   "id": "2cdfe4a4",
   "metadata": {},
   "source": [
    "VQC Regression"
   ]
  },
  {
   "cell_type": "code",
   "execution_count": 28,
   "id": "7a66d038",
   "metadata": {},
   "outputs": [],
   "source": [
    "#Initiating regressor\n",
    "vqr = VQR(feature_map=feature_map,\n",
    "          ansatz=ansatz,\n",
    "          optimizer=L_BFGS_B(),\n",
    "          quantum_instance=quantum_instance)"
   ]
  },
  {
   "cell_type": "code",
   "execution_count": null,
   "id": "f863ebb3",
   "metadata": {},
   "outputs": [],
   "source": [
    "#fitting regressor\n",
    "vqr.fit(X, y_linear_scaled)"
   ]
  },
  {
   "cell_type": "code",
   "execution_count": null,
   "id": "abbc6ab7",
   "metadata": {},
   "outputs": [],
   "source": [
    "#Predicting the value\n",
    "y_VQR = vqr.predict(X)\n",
    "y_VQR"
   ]
  },
  {
   "cell_type": "code",
   "execution_count": null,
   "id": "d4d2eb95",
   "metadata": {},
   "outputs": [],
   "source": [
    "# plot data\n",
    "plt.plot(X.iloc[:,0], y_linear_scaled, 'bo')\n",
    "# plot fitted line\n",
    "plt.plot(X.iloc[:,0], y_VQR, 'go')\n",
    "plt.show()"
   ]
  },
  {
   "cell_type": "code",
   "execution_count": null,
   "id": "827ca169",
   "metadata": {},
   "outputs": [],
   "source": [
    "plt.plot(y_linear_scaled,y_VQR, 'bo')\n",
    "x = np.linspace(-1, 1,100)\n",
    "plt.xlim([-1, 1])\n",
    "plt.ylim([-1, 1])\n",
    "plt.plot(x,x,color=\"black\")"
   ]
  },
  {
   "cell_type": "code",
   "execution_count": null,
   "id": "b1d159cb",
   "metadata": {},
   "outputs": [],
   "source": [
    "from sklearn.metrics import mean_squared_error\n",
    "from sklearn.metrics import r2_score\n",
    "#MSE\n",
    "mse = mean_squared_error(y_linear_scaled,y_VQR)\n",
    "print(mse)\n",
    "# R squared error\n",
    "r2s = r2_score(y_linear_scaled,y_VQR)\n",
    "print(r2s)"
   ]
  },
  {
   "cell_type": "code",
   "execution_count": null,
   "id": "3a5f43e8",
   "metadata": {},
   "outputs": [],
   "source": []
  }
 ],
 "metadata": {
  "kernelspec": {
   "display_name": "Python 3",
   "language": "python",
   "name": "python3"
  },
  "language_info": {
   "codemirror_mode": {
    "name": "ipython",
    "version": 3
   },
   "file_extension": ".py",
   "mimetype": "text/x-python",
   "name": "python",
   "nbconvert_exporter": "python",
   "pygments_lexer": "ipython3",
   "version": "3.8.8"
  }
 },
 "nbformat": 4,
 "nbformat_minor": 5
}
