{
 "cells": [
  {
   "cell_type": "code",
   "execution_count": 1,
   "id": "c5c9e38f",
   "metadata": {},
   "outputs": [],
   "source": [
    "#!pip install qiskit\n",
    "#!pip install qiskit_machine_learning\n",
    "#!pip install pylatexenc"
   ]
  },
  {
   "cell_type": "code",
   "execution_count": 2,
   "id": "a18c830b",
   "metadata": {},
   "outputs": [],
   "source": [
    "#Importing the libraries\n",
    "\n",
    "import numpy as np\n",
    "import matplotlib.pyplot as plt\n",
    "import pandas as pd\n",
    "\n",
    "from qiskit import Aer, QuantumCircuit\n",
    "from qiskit.opflow import Z, I, StateFn\n",
    "from qiskit.utils import QuantumInstance\n",
    "from qiskit.circuit import Parameter\n",
    "from qiskit.circuit.library import RealAmplitudes, ZZFeatureMap, ZFeatureMap\n",
    "from qiskit.algorithms.optimizers import COBYLA, L_BFGS_B\n",
    "\n",
    "from qiskit_machine_learning.neural_networks import TwoLayerQNN, CircuitQNN\n",
    "from qiskit_machine_learning.algorithms.classifiers import NeuralNetworkClassifier, VQC\n",
    "from qiskit_machine_learning.algorithms.regressors import NeuralNetworkRegressor, VQR\n",
    "\n",
    "from typing import Union\n",
    "\n",
    "from qiskit_machine_learning.exceptions import QiskitMachineLearningError\n",
    "import pylatexenc\n",
    "\n",
    "from sklearn.metrics import confusion_matrix"
   ]
  },
  {
   "cell_type": "code",
   "execution_count": 3,
   "id": "06510a96",
   "metadata": {},
   "outputs": [],
   "source": [
    "#Initiating the instance\n",
    "quantum_instance = QuantumInstance(Aer.get_backend('qasm_simulator'), shots=1024)"
   ]
  },
  {
   "cell_type": "code",
   "execution_count": 4,
   "id": "5d135dea",
   "metadata": {},
   "outputs": [
    {
     "data": {
      "text/html": [
       "<div>\n",
       "<style scoped>\n",
       "    .dataframe tbody tr th:only-of-type {\n",
       "        vertical-align: middle;\n",
       "    }\n",
       "\n",
       "    .dataframe tbody tr th {\n",
       "        vertical-align: top;\n",
       "    }\n",
       "\n",
       "    .dataframe thead th {\n",
       "        text-align: right;\n",
       "    }\n",
       "</style>\n",
       "<table border=\"1\" class=\"dataframe\">\n",
       "  <thead>\n",
       "    <tr style=\"text-align: right;\">\n",
       "      <th></th>\n",
       "      <th>BOD</th>\n",
       "      <th>NH3-N</th>\n",
       "      <th>TN</th>\n",
       "      <th>MLSS</th>\n",
       "      <th>PH</th>\n",
       "      <th>AT_Temp</th>\n",
       "      <th>BOD_Y</th>\n",
       "      <th>Date</th>\n",
       "    </tr>\n",
       "  </thead>\n",
       "  <tbody>\n",
       "    <tr>\n",
       "      <th>0</th>\n",
       "      <td>170</td>\n",
       "      <td>28</td>\n",
       "      <td>44</td>\n",
       "      <td>2040</td>\n",
       "      <td>7.3</td>\n",
       "      <td>24.175</td>\n",
       "      <td>5.2</td>\n",
       "      <td>2013-03-07 00:00:00</td>\n",
       "    </tr>\n",
       "    <tr>\n",
       "      <th>1</th>\n",
       "      <td>500</td>\n",
       "      <td>16</td>\n",
       "      <td>98</td>\n",
       "      <td>1660</td>\n",
       "      <td>7.5</td>\n",
       "      <td>25.360</td>\n",
       "      <td>6.0</td>\n",
       "      <td>2013-03-14 00:00:00</td>\n",
       "    </tr>\n",
       "    <tr>\n",
       "      <th>2</th>\n",
       "      <td>120</td>\n",
       "      <td>20</td>\n",
       "      <td>29</td>\n",
       "      <td>2420</td>\n",
       "      <td>7.3</td>\n",
       "      <td>25.675</td>\n",
       "      <td>6.1</td>\n",
       "      <td>2013-05-09 00:00:00</td>\n",
       "    </tr>\n",
       "    <tr>\n",
       "      <th>3</th>\n",
       "      <td>230</td>\n",
       "      <td>18</td>\n",
       "      <td>52</td>\n",
       "      <td>2550</td>\n",
       "      <td>7.2</td>\n",
       "      <td>28.900</td>\n",
       "      <td>5.4</td>\n",
       "      <td>2013-10-10 00:00:00</td>\n",
       "    </tr>\n",
       "    <tr>\n",
       "      <th>4</th>\n",
       "      <td>120</td>\n",
       "      <td>25</td>\n",
       "      <td>39</td>\n",
       "      <td>2720</td>\n",
       "      <td>7.4</td>\n",
       "      <td>22.250</td>\n",
       "      <td>5.9</td>\n",
       "      <td>2013-12-19 00:00:00</td>\n",
       "    </tr>\n",
       "  </tbody>\n",
       "</table>\n",
       "</div>"
      ],
      "text/plain": [
       "   BOD  NH3-N  TN  MLSS   PH  AT_Temp  BOD_Y                 Date\n",
       "0  170     28  44  2040  7.3   24.175    5.2  2013-03-07 00:00:00\n",
       "1  500     16  98  1660  7.5   25.360    6.0  2013-03-14 00:00:00\n",
       "2  120     20  29  2420  7.3   25.675    6.1  2013-05-09 00:00:00\n",
       "3  230     18  52  2550  7.2   28.900    5.4  2013-10-10 00:00:00\n",
       "4  120     25  39  2720  7.4   22.250    5.9  2013-12-19 00:00:00"
      ]
     },
     "execution_count": 4,
     "metadata": {},
     "output_type": "execute_result"
    }
   ],
   "source": [
    "#Reading the data and removing extra column unnamed\n",
    "data = pd.read_csv(\"outputBOD.csv\")\n",
    "data.head()\n",
    "data = data.drop(\"Unnamed: 0\", axis = 1)\n",
    "data.head()"
   ]
  },
  {
   "cell_type": "code",
   "execution_count": 5,
   "id": "a3b95c7f",
   "metadata": {},
   "outputs": [],
   "source": [
    "#Filtering data so it runs faster\n",
    "data = data.iloc[0:100,]"
   ]
  },
  {
   "cell_type": "code",
   "execution_count": 6,
   "id": "82a356f1",
   "metadata": {},
   "outputs": [
    {
     "data": {
      "text/html": [
       "<div>\n",
       "<style scoped>\n",
       "    .dataframe tbody tr th:only-of-type {\n",
       "        vertical-align: middle;\n",
       "    }\n",
       "\n",
       "    .dataframe tbody tr th {\n",
       "        vertical-align: top;\n",
       "    }\n",
       "\n",
       "    .dataframe thead th {\n",
       "        text-align: right;\n",
       "    }\n",
       "</style>\n",
       "<table border=\"1\" class=\"dataframe\">\n",
       "  <thead>\n",
       "    <tr style=\"text-align: right;\">\n",
       "      <th></th>\n",
       "      <th>BOD</th>\n",
       "      <th>NH3-N</th>\n",
       "      <th>TN</th>\n",
       "      <th>MLSS</th>\n",
       "      <th>PH</th>\n",
       "      <th>AT_Temp</th>\n",
       "      <th>BOD_Y</th>\n",
       "      <th>Date</th>\n",
       "      <th>BOD_Y_binary</th>\n",
       "    </tr>\n",
       "  </thead>\n",
       "  <tbody>\n",
       "    <tr>\n",
       "      <th>0</th>\n",
       "      <td>170</td>\n",
       "      <td>28</td>\n",
       "      <td>44</td>\n",
       "      <td>2040</td>\n",
       "      <td>7.3</td>\n",
       "      <td>24.175</td>\n",
       "      <td>5.2</td>\n",
       "      <td>2013-03-07 00:00:00</td>\n",
       "      <td>1</td>\n",
       "    </tr>\n",
       "    <tr>\n",
       "      <th>1</th>\n",
       "      <td>500</td>\n",
       "      <td>16</td>\n",
       "      <td>98</td>\n",
       "      <td>1660</td>\n",
       "      <td>7.5</td>\n",
       "      <td>25.360</td>\n",
       "      <td>6.0</td>\n",
       "      <td>2013-03-14 00:00:00</td>\n",
       "      <td>1</td>\n",
       "    </tr>\n",
       "    <tr>\n",
       "      <th>2</th>\n",
       "      <td>120</td>\n",
       "      <td>20</td>\n",
       "      <td>29</td>\n",
       "      <td>2420</td>\n",
       "      <td>7.3</td>\n",
       "      <td>25.675</td>\n",
       "      <td>6.1</td>\n",
       "      <td>2013-05-09 00:00:00</td>\n",
       "      <td>1</td>\n",
       "    </tr>\n",
       "    <tr>\n",
       "      <th>3</th>\n",
       "      <td>230</td>\n",
       "      <td>18</td>\n",
       "      <td>52</td>\n",
       "      <td>2550</td>\n",
       "      <td>7.2</td>\n",
       "      <td>28.900</td>\n",
       "      <td>5.4</td>\n",
       "      <td>2013-10-10 00:00:00</td>\n",
       "      <td>1</td>\n",
       "    </tr>\n",
       "    <tr>\n",
       "      <th>4</th>\n",
       "      <td>120</td>\n",
       "      <td>25</td>\n",
       "      <td>39</td>\n",
       "      <td>2720</td>\n",
       "      <td>7.4</td>\n",
       "      <td>22.250</td>\n",
       "      <td>5.9</td>\n",
       "      <td>2013-12-19 00:00:00</td>\n",
       "      <td>1</td>\n",
       "    </tr>\n",
       "  </tbody>\n",
       "</table>\n",
       "</div>"
      ],
      "text/plain": [
       "   BOD  NH3-N  TN  MLSS   PH  AT_Temp  BOD_Y                 Date  \\\n",
       "0  170     28  44  2040  7.3   24.175    5.2  2013-03-07 00:00:00   \n",
       "1  500     16  98  1660  7.5   25.360    6.0  2013-03-14 00:00:00   \n",
       "2  120     20  29  2420  7.3   25.675    6.1  2013-05-09 00:00:00   \n",
       "3  230     18  52  2550  7.2   28.900    5.4  2013-10-10 00:00:00   \n",
       "4  120     25  39  2720  7.4   22.250    5.9  2013-12-19 00:00:00   \n",
       "\n",
       "   BOD_Y_binary  \n",
       "0             1  \n",
       "1             1  \n",
       "2             1  \n",
       "3             1  \n",
       "4             1  "
      ]
     },
     "execution_count": 6,
     "metadata": {},
     "output_type": "execute_result"
    }
   ],
   "source": [
    "# Creating a binary variable based on median value\n",
    "data['BOD_Y_binary'] = np.where(data['BOD_Y'] >= data['BOD_Y'].median(), 1, 0)\n",
    "data.head()"
   ]
  },
  {
   "cell_type": "code",
   "execution_count": 7,
   "id": "0ee49f52",
   "metadata": {},
   "outputs": [
    {
     "data": {
      "application/vnd.jupyter.widget-view+json": {
       "model_id": "4ab2e92add3d413f9f4dca68c16e772d",
       "version_major": 2,
       "version_minor": 0
      },
      "text/plain": [
       "Summarize dataset:   0%|          | 0/22 [00:00<?, ?it/s]"
      ]
     },
     "metadata": {},
     "output_type": "display_data"
    },
    {
     "data": {
      "application/vnd.jupyter.widget-view+json": {
       "model_id": "3c00526dbeaf4719a0f8819ba7c9e3fc",
       "version_major": 2,
       "version_minor": 0
      },
      "text/plain": [
       "Generate report structure:   0%|          | 0/1 [00:00<?, ?it/s]"
      ]
     },
     "metadata": {},
     "output_type": "display_data"
    },
    {
     "data": {
      "application/vnd.jupyter.widget-view+json": {
       "model_id": "",
       "version_major": 2,
       "version_minor": 0
      },
      "text/plain": [
       "Render widgets:   0%|          | 0/1 [00:00<?, ?it/s]"
      ]
     },
     "metadata": {},
     "output_type": "display_data"
    },
    {
     "data": {
      "application/vnd.jupyter.widget-view+json": {
       "model_id": "e352034ae1a540aeb9792143a2b818d6",
       "version_major": 2,
       "version_minor": 0
      },
      "text/plain": [
       "VBox(children=(Tab(children=(Tab(children=(GridBox(children=(VBox(children=(GridspecLayout(children=(HTML(valu…"
      ]
     },
     "metadata": {},
     "output_type": "display_data"
    }
   ],
   "source": [
    "#doing pandas profiling\n",
    "from pandas_profiling import ProfileReport\n",
    "profile = ProfileReport(data, title=\"Pandas Profiling Report\")\n",
    "profile.to_widgets()"
   ]
  },
  {
   "cell_type": "code",
   "execution_count": 8,
   "id": "0beda0b7",
   "metadata": {},
   "outputs": [
    {
     "data": {
      "text/html": [
       "<div>\n",
       "<style scoped>\n",
       "    .dataframe tbody tr th:only-of-type {\n",
       "        vertical-align: middle;\n",
       "    }\n",
       "\n",
       "    .dataframe tbody tr th {\n",
       "        vertical-align: top;\n",
       "    }\n",
       "\n",
       "    .dataframe thead th {\n",
       "        text-align: right;\n",
       "    }\n",
       "</style>\n",
       "<table border=\"1\" class=\"dataframe\">\n",
       "  <thead>\n",
       "    <tr style=\"text-align: right;\">\n",
       "      <th></th>\n",
       "      <th>BOD</th>\n",
       "      <th>NH3-N</th>\n",
       "      <th>TN</th>\n",
       "      <th>MLSS</th>\n",
       "      <th>PH</th>\n",
       "      <th>AT_Temp</th>\n",
       "    </tr>\n",
       "  </thead>\n",
       "  <tbody>\n",
       "    <tr>\n",
       "      <th>0</th>\n",
       "      <td>170</td>\n",
       "      <td>28</td>\n",
       "      <td>44</td>\n",
       "      <td>2040</td>\n",
       "      <td>7.3</td>\n",
       "      <td>24.175</td>\n",
       "    </tr>\n",
       "    <tr>\n",
       "      <th>1</th>\n",
       "      <td>500</td>\n",
       "      <td>16</td>\n",
       "      <td>98</td>\n",
       "      <td>1660</td>\n",
       "      <td>7.5</td>\n",
       "      <td>25.360</td>\n",
       "    </tr>\n",
       "    <tr>\n",
       "      <th>2</th>\n",
       "      <td>120</td>\n",
       "      <td>20</td>\n",
       "      <td>29</td>\n",
       "      <td>2420</td>\n",
       "      <td>7.3</td>\n",
       "      <td>25.675</td>\n",
       "    </tr>\n",
       "    <tr>\n",
       "      <th>3</th>\n",
       "      <td>230</td>\n",
       "      <td>18</td>\n",
       "      <td>52</td>\n",
       "      <td>2550</td>\n",
       "      <td>7.2</td>\n",
       "      <td>28.900</td>\n",
       "    </tr>\n",
       "    <tr>\n",
       "      <th>4</th>\n",
       "      <td>120</td>\n",
       "      <td>25</td>\n",
       "      <td>39</td>\n",
       "      <td>2720</td>\n",
       "      <td>7.4</td>\n",
       "      <td>22.250</td>\n",
       "    </tr>\n",
       "  </tbody>\n",
       "</table>\n",
       "</div>"
      ],
      "text/plain": [
       "   BOD  NH3-N  TN  MLSS   PH  AT_Temp\n",
       "0  170     28  44  2040  7.3   24.175\n",
       "1  500     16  98  1660  7.5   25.360\n",
       "2  120     20  29  2420  7.3   25.675\n",
       "3  230     18  52  2550  7.2   28.900\n",
       "4  120     25  39  2720  7.4   22.250"
      ]
     },
     "execution_count": 8,
     "metadata": {},
     "output_type": "execute_result"
    }
   ],
   "source": [
    "#Filtering relevant independent variables\n",
    "X = data[['BOD','NH3-N','TN','MLSS','PH','AT_Temp']]\n",
    "X.head()"
   ]
  },
  {
   "cell_type": "code",
   "execution_count": 9,
   "id": "a15af777",
   "metadata": {},
   "outputs": [],
   "source": [
    "# Creating binary variable\n",
    "y = data['BOD_Y_binary']"
   ]
  },
  {
   "cell_type": "code",
   "execution_count": 10,
   "id": "9a795fc5",
   "metadata": {},
   "outputs": [
    {
     "data": {
      "text/plain": [
       "array([-0.94285714, -0.71428571, -0.68571429, -0.88571429, -0.74285714,\n",
       "       -0.62857143, -0.94285714, -0.74285714, -0.71428571, -0.71428571,\n",
       "       -0.94285714, -0.88571429, -0.65714286, -0.82857143, -0.14285714,\n",
       "       -0.8       , -0.8       , -0.05714286, -0.62857143, -0.74285714,\n",
       "        1.        ,  0.71428571, -0.08571429, -0.6       , -1.        ,\n",
       "       -1.        , -1.        , -1.        , -1.        , -1.        ,\n",
       "       -1.        , -1.        , -1.        , -1.        , -1.        ,\n",
       "       -1.        , -1.        , -1.        , -1.        , -1.        ,\n",
       "       -1.        , -1.        , -1.        , -1.        , -1.        ,\n",
       "       -1.        , -1.        , -1.        , -1.        , -1.        ,\n",
       "       -1.        , -1.        , -1.        , -1.        , -1.        ,\n",
       "       -1.        , -1.        , -1.        , -1.        , -1.        ,\n",
       "       -1.        , -1.        , -1.        , -1.        , -1.        ,\n",
       "       -1.        , -1.        , -1.        , -1.        , -1.        ,\n",
       "       -1.        , -1.        , -1.        , -1.        , -1.        ,\n",
       "       -1.        , -1.        , -1.        , -1.        , -1.        ,\n",
       "       -1.        , -1.        , -1.        , -1.        , -1.        ,\n",
       "       -1.        , -1.        , -1.        , -1.        , -1.        ,\n",
       "       -1.        , -1.        , -1.        , -1.        , -1.        ,\n",
       "       -1.        , -1.        , -1.        , -1.        , -1.        ])"
      ]
     },
     "execution_count": 10,
     "metadata": {},
     "output_type": "execute_result"
    }
   ],
   "source": [
    "# Y variable for regression and scaling it from -1 to +1\n",
    "y_linear = data['BOD_Y']\n",
    "y_linear_scaled = np.interp(y_linear, (y_linear.min(), y_linear.max()), (-1, +1))\n",
    "y_linear_scaled"
   ]
  },
  {
   "cell_type": "code",
   "execution_count": 11,
   "id": "da43df8a",
   "metadata": {},
   "outputs": [],
   "source": [
    "from qiskit.algorithms.optimizers import COBYLA , L_BFGS_B , SLSQP,SPSA,ADAM"
   ]
  },
  {
   "cell_type": "code",
   "execution_count": 12,
   "id": "7d62cd04",
   "metadata": {},
   "outputs": [],
   "source": [
    "num_inputs=6\n",
    "Rotation = QuantumCircuit(num_inputs)\n",
    "for i in range(num_inputs):\n",
    "    theta0 = 'b' + str(i)\n",
    "    theta1 = 'c'+str(i)\n",
    "    theta2= 'a'+str(i)\n",
    "    Rotation.u(Parameter(theta0),Parameter(theta1),Parameter(theta2),i)\n",
    "#Rotation.compose()"
   ]
  },
  {
   "cell_type": "code",
   "execution_count": 13,
   "id": "5070da77",
   "metadata": {},
   "outputs": [
    {
     "data": {
      "image/png": "[encoded data removed]",
      "text/plain": [
       "<Figure size 1591.6x806.68 with 1 Axes>"
      ]
     },
     "execution_count": 13,
     "metadata": {},
     "output_type": "execute_result"
    }
   ],
   "source": [
    "num_inputs = 6\n",
    "# construct feature map\n",
    "feature_map = ZFeatureMap(num_inputs)\n",
    "\n",
    "# construct ansatz\n",
    "ansatz = RealAmplitudes(num_inputs, reps=2)\n",
    "\n",
    "# construct quantum circuit\n",
    "qc = QuantumCircuit(num_inputs)\n",
    "thetax = []\n",
    "thetay = []\n",
    "thetaz = []\n",
    "for i in range(2*num_inputs):\n",
    "  thetax.append(Parameter('x' + str(i)))\n",
    "  thetay.append(Parameter('y' + str(i)))\n",
    "  thetaz.append(Parameter('z' + str(i)))\n",
    "qc.append(feature_map, range(num_inputs))\n",
    "\n",
    "\n",
    "for i in range(num_inputs):\n",
    "  qc.u(thetax[i],thetay[i],thetaz[i],i)\n",
    "qc.append(ansatz, range(num_inputs))\n",
    "#for i in range(num_inputs):\n",
    " # qc.u(thetax[i+6],thetay[i+6],thetaz[i+6],i)\n",
    "for i in range(num_inputs):\n",
    "  qc.u(thetax[i],thetay[i],thetaz[i],i)\n",
    "\n",
    "qc.x(2)\n",
    "\n",
    "qc.decompose().draw(output='mpl')"
   ]
  },
  {
   "cell_type": "code",
   "execution_count": 14,
   "id": "6ef2c0cb",
   "metadata": {},
   "outputs": [],
   "source": [
    "#Initiating regressor\n",
    "vqr = VQR(feature_map=feature_map,\n",
    "          ansatz=ansatz,\n",
    "          optimizer=SLSQP(),\n",
    "          quantum_instance=quantum_instance)"
   ]
  },
  {
   "cell_type": "code",
   "execution_count": 15,
   "id": "449f66e6",
   "metadata": {},
   "outputs": [
    {
     "data": {
      "text/plain": [
       "<qiskit_machine_learning.algorithms.regressors.vqr.VQR at 0x7fd41f8ae8e0>"
      ]
     },
     "execution_count": 15,
     "metadata": {},
     "output_type": "execute_result"
    }
   ],
   "source": [
    "#fitting regressor\n",
    "vqr.fit(X, y_linear_scaled)"
   ]
  },
  {
   "cell_type": "code",
   "execution_count": 16,
   "id": "6a89e7b1",
   "metadata": {
    "scrolled": true
   },
   "outputs": [
    {
     "data": {
      "text/plain": [
       "array([[-0.8984375 ],\n",
       "       [-0.79101562],\n",
       "       [-0.88671875],\n",
       "       [-0.89257812],\n",
       "       [-0.8359375 ],\n",
       "       [-0.90039062],\n",
       "       [-0.86523438],\n",
       "       [-0.86914062],\n",
       "       [-0.91210938],\n",
       "       [-0.91015625],\n",
       "       [-0.89257812],\n",
       "       [-0.7890625 ],\n",
       "       [-0.8359375 ],\n",
       "       [-0.8125    ],\n",
       "       [-0.6953125 ],\n",
       "       [-0.8046875 ],\n",
       "       [-0.8828125 ],\n",
       "       [-0.84375   ],\n",
       "       [-0.89453125],\n",
       "       [-0.4765625 ],\n",
       "       [-0.5625    ],\n",
       "       [-0.69921875],\n",
       "       [-0.91796875],\n",
       "       [-0.68945312],\n",
       "       [-0.83398438],\n",
       "       [-0.81445312],\n",
       "       [-0.8046875 ],\n",
       "       [-0.93359375],\n",
       "       [-0.65234375],\n",
       "       [-0.875     ],\n",
       "       [-0.87695312],\n",
       "       [-0.88671875],\n",
       "       [-0.90039062],\n",
       "       [-0.91601562],\n",
       "       [-0.80664062],\n",
       "       [-0.89453125],\n",
       "       [-0.92773438],\n",
       "       [-0.89257812],\n",
       "       [-0.890625  ],\n",
       "       [-0.92382812],\n",
       "       [-0.79101562],\n",
       "       [-0.88671875],\n",
       "       [-0.84960938],\n",
       "       [-0.91210938],\n",
       "       [-0.92578125],\n",
       "       [-0.79296875],\n",
       "       [-0.6484375 ],\n",
       "       [-0.79492188],\n",
       "       [-0.93359375],\n",
       "       [-0.80078125],\n",
       "       [-0.88671875],\n",
       "       [-0.79882812],\n",
       "       [-0.91210938],\n",
       "       [-0.78125   ],\n",
       "       [-0.66015625],\n",
       "       [-0.82617188],\n",
       "       [-0.921875  ],\n",
       "       [-0.87890625],\n",
       "       [-0.94140625],\n",
       "       [-0.89453125],\n",
       "       [-0.91015625],\n",
       "       [-0.86328125],\n",
       "       [-0.91992187],\n",
       "       [-0.87109375],\n",
       "       [-0.90234375],\n",
       "       [-0.87304688],\n",
       "       [-0.81445312],\n",
       "       [-0.81640625],\n",
       "       [-0.91992188],\n",
       "       [-0.76953125],\n",
       "       [-0.79296875],\n",
       "       [-0.88476562],\n",
       "       [-0.8359375 ],\n",
       "       [-0.8984375 ],\n",
       "       [-0.90039062],\n",
       "       [-0.90625   ],\n",
       "       [-0.89257812],\n",
       "       [-0.91015625],\n",
       "       [-0.42773438],\n",
       "       [-0.87890625],\n",
       "       [-0.76953125],\n",
       "       [-0.57226562],\n",
       "       [-0.75      ],\n",
       "       [-0.75      ],\n",
       "       [-0.83789062],\n",
       "       [-0.796875  ],\n",
       "       [-0.86914062],\n",
       "       [-0.79882812],\n",
       "       [-0.92773438],\n",
       "       [-0.80078125],\n",
       "       [-0.7890625 ],\n",
       "       [-0.91210938],\n",
       "       [-0.890625  ],\n",
       "       [-0.8828125 ],\n",
       "       [-0.8984375 ],\n",
       "       [-0.90039062],\n",
       "       [-0.8828125 ],\n",
       "       [-0.9375    ],\n",
       "       [-0.85742188],\n",
       "       [-0.94140625]])"
      ]
     },
     "execution_count": 16,
     "metadata": {},
     "output_type": "execute_result"
    }
   ],
   "source": [
    "#Predicting the value\n",
    "y_VQR = vqr.predict(X)\n",
    "y_VQR"
   ]
  },
  {
   "cell_type": "code",
   "execution_count": 17,
   "id": "b8f06568",
   "metadata": {},
   "outputs": [
    {
     "data": {
      "text/plain": [
       "array([5.08571429, 5.42857143, 5.47142857, 5.17142857, 5.38571429,\n",
       "       5.55714286, 5.08571429, 5.38571429, 5.42857143, 5.42857143,\n",
       "       5.08571429, 5.17142857, 5.51428571, 5.25714286, 6.28571429,\n",
       "       5.3       , 5.3       , 6.41428571, 5.55714286, 5.38571429,\n",
       "       8.        , 7.57142857, 6.37142857, 5.6       , 5.        ,\n",
       "       5.        , 5.        , 5.        , 5.        , 5.        ,\n",
       "       5.        , 5.        , 5.        , 5.        , 5.        ,\n",
       "       5.        , 5.        , 5.        , 5.        , 5.        ,\n",
       "       5.        , 5.        , 5.        , 5.        , 5.        ,\n",
       "       5.        , 5.        , 5.        , 5.        , 5.        ,\n",
       "       5.        , 5.        , 5.        , 5.        , 5.        ,\n",
       "       5.        , 5.        , 5.        , 5.        , 5.        ,\n",
       "       5.        , 5.        , 5.        , 5.        , 5.        ,\n",
       "       5.        , 5.        , 5.        , 5.        , 5.        ,\n",
       "       5.        , 5.        , 5.        , 5.        , 5.        ,\n",
       "       5.        , 5.        , 5.        , 5.        , 5.        ,\n",
       "       5.        , 5.        , 5.        , 5.        , 5.        ,\n",
       "       5.        , 5.        , 5.        , 5.        , 5.        ,\n",
       "       5.        , 5.        , 5.        , 5.        , 5.        ,\n",
       "       5.        , 5.        , 5.        , 5.        , 5.        ])"
      ]
     },
     "execution_count": 17,
     "metadata": {},
     "output_type": "execute_result"
    }
   ],
   "source": [
    "y_linear_scaled_b = np.interp(y_linear_scaled, (y_linear_scaled.min(), y_linear_scaled.max()), (5, 8))\n",
    "y_linear_scaled_b"
   ]
  },
  {
   "cell_type": "code",
   "execution_count": 18,
   "id": "48da3619",
   "metadata": {
    "scrolled": true
   },
   "outputs": [
    {
     "data": {
      "text/plain": [
       "array([[5.15234375],\n",
       "       [5.31347656],\n",
       "       [5.16992188],\n",
       "       [5.16113281],\n",
       "       [5.24609375],\n",
       "       [5.14941406],\n",
       "       [5.20214844],\n",
       "       [5.19628906],\n",
       "       [5.13183594],\n",
       "       [5.13476562],\n",
       "       [5.16113281],\n",
       "       [5.31640625],\n",
       "       [5.24609375],\n",
       "       [5.28125   ],\n",
       "       [5.45703125],\n",
       "       [5.29296875],\n",
       "       [5.17578125],\n",
       "       [5.234375  ],\n",
       "       [5.15820312],\n",
       "       [5.78515625],\n",
       "       [5.65625   ],\n",
       "       [5.45117188],\n",
       "       [5.12304688],\n",
       "       [5.46582031],\n",
       "       [5.24902344],\n",
       "       [5.27832031],\n",
       "       [5.29296875],\n",
       "       [5.09960938],\n",
       "       [5.52148438],\n",
       "       [5.1875    ],\n",
       "       [5.18457031],\n",
       "       [5.16992188],\n",
       "       [5.14941406],\n",
       "       [5.12597656],\n",
       "       [5.29003906],\n",
       "       [5.15820312],\n",
       "       [5.10839844],\n",
       "       [5.16113281],\n",
       "       [5.1640625 ],\n",
       "       [5.11425781],\n",
       "       [5.31347656],\n",
       "       [5.16992188],\n",
       "       [5.22558594],\n",
       "       [5.13183594],\n",
       "       [5.11132812],\n",
       "       [5.31054688],\n",
       "       [5.52734375],\n",
       "       [5.30761719],\n",
       "       [5.09960938],\n",
       "       [5.29882812],\n",
       "       [5.16992188],\n",
       "       [5.30175781],\n",
       "       [5.13183594],\n",
       "       [5.328125  ],\n",
       "       [5.50976562],\n",
       "       [5.26074219],\n",
       "       [5.1171875 ],\n",
       "       [5.18164062],\n",
       "       [5.08789062],\n",
       "       [5.15820312],\n",
       "       [5.13476562],\n",
       "       [5.20507812],\n",
       "       [5.12011719],\n",
       "       [5.19335938],\n",
       "       [5.14648438],\n",
       "       [5.19042969],\n",
       "       [5.27832031],\n",
       "       [5.27539062],\n",
       "       [5.12011719],\n",
       "       [5.34570312],\n",
       "       [5.31054688],\n",
       "       [5.17285156],\n",
       "       [5.24609375],\n",
       "       [5.15234375],\n",
       "       [5.14941406],\n",
       "       [5.140625  ],\n",
       "       [5.16113281],\n",
       "       [5.13476562],\n",
       "       [5.85839844],\n",
       "       [5.18164062],\n",
       "       [5.34570312],\n",
       "       [5.64160156],\n",
       "       [5.375     ],\n",
       "       [5.375     ],\n",
       "       [5.24316406],\n",
       "       [5.3046875 ],\n",
       "       [5.19628906],\n",
       "       [5.30175781],\n",
       "       [5.10839844],\n",
       "       [5.29882812],\n",
       "       [5.31640625],\n",
       "       [5.13183594],\n",
       "       [5.1640625 ],\n",
       "       [5.17578125],\n",
       "       [5.15234375],\n",
       "       [5.14941406],\n",
       "       [5.17578125],\n",
       "       [5.09375   ],\n",
       "       [5.21386719],\n",
       "       [5.08789062]])"
      ]
     },
     "execution_count": 18,
     "metadata": {},
     "output_type": "execute_result"
    }
   ],
   "source": [
    "y_VQR_b = np.interp(y_VQR, (y_linear_scaled.min(), y_linear_scaled.max()), (5, 8))\n",
    "y_VQR_b"
   ]
  },
  {
   "cell_type": "code",
   "execution_count": 19,
   "id": "533e2e3e",
   "metadata": {},
   "outputs": [
    {
     "data": {
      "image/png": "[encoded data removed]",
      "text/plain": [
       "<Figure size 432x288 with 1 Axes>"
      ]
     },
     "metadata": {
      "needs_background": "light"
     },
     "output_type": "display_data"
    }
   ],
   "source": [
    "# plot data\n",
    "plt.plot(X.iloc[:,0], y_linear_scaled, 'bo')\n",
    "# plot fitted line\n",
    "plt.plot(X.iloc[:,0], y_VQR, 'go')\n",
    "plt.show()"
   ]
  },
  {
   "cell_type": "code",
   "execution_count": 20,
   "id": "f8045ba1",
   "metadata": {
    "scrolled": true
   },
   "outputs": [
    {
     "data": {
      "image/png": "[encoded data removed]",
      "text/plain": [
       "<Figure size 432x288 with 1 Axes>"
      ]
     },
     "metadata": {
      "needs_background": "light"
     },
     "output_type": "display_data"
    }
   ],
   "source": [
    "# plot data\n",
    "plt.plot(X.iloc[:,0], y_linear_scaled, 'bo')\n",
    "# plot fitted line\n",
    "plt.plot(X.iloc[:,0], y_linear_scaled_b, 'ro')\n",
    "plt.plot(X.iloc[:,0], y_VQR, 'go')\n",
    "# plot fitted line\n",
    "plt.plot(X.iloc[:,0], y_VQR_b, 'yo')\n",
    "plt.show()"
   ]
  },
  {
   "cell_type": "code",
   "execution_count": 21,
   "id": "14bd57bb",
   "metadata": {
    "scrolled": true
   },
   "outputs": [
    {
     "data": {
      "text/plain": [
       "[<matplotlib.lines.Line2D at 0x7fd417d5a190>]"
      ]
     },
     "execution_count": 21,
     "metadata": {},
     "output_type": "execute_result"
    },
    {
     "data": {
      "image/png": "[encoded data removed]",
      "text/plain": [
       "<Figure size 432x288 with 1 Axes>"
      ]
     },
     "metadata": {
      "needs_background": "light"
     },
     "output_type": "display_data"
    }
   ],
   "source": [
    "plt.plot(y_linear_scaled,y_VQR, 'bo')\n",
    "x = np.linspace(-1, 1,100)\n",
    "plt.xlim([-1, 1])\n",
    "plt.ylim([-1, 1])\n",
    "plt.plot(x,x,color=\"black\")"
   ]
  },
  {
   "cell_type": "code",
   "execution_count": 22,
   "id": "ece1789f",
   "metadata": {
    "scrolled": true
   },
   "outputs": [
    {
     "data": {
      "text/plain": [
       "[<matplotlib.lines.Line2D at 0x7fd416c739a0>]"
      ]
     },
     "execution_count": 22,
     "metadata": {},
     "output_type": "execute_result"
    },
    {
     "data": {
      "image/png": "[encoded data removed]",
      "text/plain": [
       "<Figure size 432x288 with 1 Axes>"
      ]
     },
     "metadata": {
      "needs_background": "light"
     },
     "output_type": "display_data"
    }
   ],
   "source": [
    "plt.plot(y_linear_scaled_b,y_VQR_b, 'bo')\n",
    "x = np.linspace(5, 9,100)\n",
    "plt.xlim([4,7])\n",
    "plt.ylim([4,7])\n",
    "plt.plot(x,x,color=\"black\")"
   ]
  },
  {
   "cell_type": "code",
   "execution_count": 24,
   "id": "bdb8a726",
   "metadata": {},
   "outputs": [
    {
     "name": "stdout",
     "output_type": "stream",
     "text": [
      "0.08838495284099966\n",
      "0.6634995951202438\n"
     ]
    }
   ],
   "source": [
    "from sklearn.metrics import mean_squared_error\n",
    "from sklearn.metrics import r2_score\n",
    "#MSE\n",
    "mse = mean_squared_error(y_linear_scaled,y_VQR)\n",
    "print(mse)\n",
    "# R squared error\n",
    "r2s = r2_score(y_linear_scaled,y_VQR)*10\n",
    "print(r2s)"
   ]
  },
  {
   "cell_type": "code",
   "execution_count": null,
   "id": "222b4508",
   "metadata": {},
   "outputs": [],
   "source": []
  }
 ],
 "metadata": {
  "kernelspec": {
   "display_name": "Python 3",
   "language": "python",
   "name": "python3"
  },
  "language_info": {
   "codemirror_mode": {
    "name": "ipython",
    "version": 3
   },
   "file_extension": ".py",
   "mimetype": "text/x-python",
   "name": "python",
   "nbconvert_exporter": "python",
   "pygments_lexer": "ipython3",
   "version": "3.8.8"
  }
 },
 "nbformat": 4,
 "nbformat_minor": 5
}
