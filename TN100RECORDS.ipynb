{
 "cells": [
  {
   "cell_type": "code",
   "execution_count": 1,
   "id": "ed722c32",
   "metadata": {},
   "outputs": [],
   "source": [
    "#!pip install qiskit\n",
    "#!pip install qiskit_machine_learning\n",
    "#!pip install pylatexenc"
   ]
  },
  {
   "cell_type": "code",
   "execution_count": 2,
   "id": "13c92fd2",
   "metadata": {},
   "outputs": [],
   "source": [
    "#Importing the libraries\n",
    "\n",
    "import numpy as np\n",
    "import matplotlib.pyplot as plt\n",
    "import pandas as pd\n",
    "\n",
    "from qiskit import Aer, QuantumCircuit\n",
    "from qiskit.opflow import Z, I, StateFn\n",
    "from qiskit.utils import QuantumInstance\n",
    "from qiskit.circuit import Parameter\n",
    "from qiskit.circuit.library import RealAmplitudes, ZZFeatureMap, ZFeatureMap\n",
    "from qiskit.algorithms.optimizers import COBYLA, L_BFGS_B,SLSQP\n",
    "\n",
    "from qiskit_machine_learning.neural_networks import TwoLayerQNN, CircuitQNN\n",
    "from qiskit_machine_learning.algorithms.classifiers import NeuralNetworkClassifier, VQC\n",
    "from qiskit_machine_learning.algorithms.regressors import NeuralNetworkRegressor, VQR\n",
    "\n",
    "from typing import Union\n",
    "\n",
    "from qiskit_machine_learning.exceptions import QiskitMachineLearningError\n",
    "import pylatexenc\n",
    "\n",
    "from sklearn.metrics import confusion_matrix"
   ]
  },
  {
   "cell_type": "code",
   "execution_count": 3,
   "id": "ded9346b",
   "metadata": {},
   "outputs": [],
   "source": [
    "#Initiating the instance\n",
    "quantum_instance = QuantumInstance(Aer.get_backend('qasm_simulator'), shots=1024)"
   ]
  },
  {
   "cell_type": "code",
   "execution_count": 4,
   "id": "ee32e823",
   "metadata": {},
   "outputs": [
    {
     "data": {
      "text/html": [
       "<div>\n",
       "<style scoped>\n",
       "    .dataframe tbody tr th:only-of-type {\n",
       "        vertical-align: middle;\n",
       "    }\n",
       "\n",
       "    .dataframe tbody tr th {\n",
       "        vertical-align: top;\n",
       "    }\n",
       "\n",
       "    .dataframe thead th {\n",
       "        text-align: right;\n",
       "    }\n",
       "</style>\n",
       "<table border=\"1\" class=\"dataframe\">\n",
       "  <thead>\n",
       "    <tr style=\"text-align: right;\">\n",
       "      <th></th>\n",
       "      <th>BOD</th>\n",
       "      <th>NH3-N</th>\n",
       "      <th>TN</th>\n",
       "      <th>MLSS</th>\n",
       "      <th>PH</th>\n",
       "      <th>AT_Temp</th>\n",
       "      <th>TN_Y</th>\n",
       "    </tr>\n",
       "  </thead>\n",
       "  <tbody>\n",
       "    <tr>\n",
       "      <th>0</th>\n",
       "      <td>38</td>\n",
       "      <td>25</td>\n",
       "      <td>48</td>\n",
       "      <td>2250</td>\n",
       "      <td>8.3</td>\n",
       "      <td>22.150</td>\n",
       "      <td>12.0</td>\n",
       "    </tr>\n",
       "    <tr>\n",
       "      <th>1</th>\n",
       "      <td>180</td>\n",
       "      <td>29</td>\n",
       "      <td>48</td>\n",
       "      <td>2500</td>\n",
       "      <td>7.6</td>\n",
       "      <td>25.200</td>\n",
       "      <td>12.0</td>\n",
       "    </tr>\n",
       "    <tr>\n",
       "      <th>2</th>\n",
       "      <td>160</td>\n",
       "      <td>24</td>\n",
       "      <td>41</td>\n",
       "      <td>2140</td>\n",
       "      <td>7.2</td>\n",
       "      <td>23.650</td>\n",
       "      <td>9.7</td>\n",
       "    </tr>\n",
       "    <tr>\n",
       "      <th>3</th>\n",
       "      <td>170</td>\n",
       "      <td>28</td>\n",
       "      <td>44</td>\n",
       "      <td>2040</td>\n",
       "      <td>7.3</td>\n",
       "      <td>24.175</td>\n",
       "      <td>12.0</td>\n",
       "    </tr>\n",
       "    <tr>\n",
       "      <th>4</th>\n",
       "      <td>500</td>\n",
       "      <td>16</td>\n",
       "      <td>98</td>\n",
       "      <td>1660</td>\n",
       "      <td>7.5</td>\n",
       "      <td>25.360</td>\n",
       "      <td>13.0</td>\n",
       "    </tr>\n",
       "  </tbody>\n",
       "</table>\n",
       "</div>"
      ],
      "text/plain": [
       "   BOD  NH3-N  TN  MLSS   PH  AT_Temp  TN_Y\n",
       "0   38     25  48  2250  8.3   22.150  12.0\n",
       "1  180     29  48  2500  7.6   25.200  12.0\n",
       "2  160     24  41  2140  7.2   23.650   9.7\n",
       "3  170     28  44  2040  7.3   24.175  12.0\n",
       "4  500     16  98  1660  7.5   25.360  13.0"
      ]
     },
     "execution_count": 4,
     "metadata": {},
     "output_type": "execute_result"
    }
   ],
   "source": [
    "#Reading the data and removing extra column unnamed\n",
    "data = pd.read_csv(\"Test_TN.csv\")\n",
    "data.head()\n",
    "data = data.drop(\"Unnamed: 0\", axis = 1)\n",
    "data.head()"
   ]
  },
  {
   "cell_type": "code",
   "execution_count": 5,
   "id": "beba0c16",
   "metadata": {},
   "outputs": [],
   "source": [
    "#Filtering data so it runs faster\n",
    "data = data.iloc[0:100,]"
   ]
  },
  {
   "cell_type": "code",
   "execution_count": 6,
   "id": "4d4741e7",
   "metadata": {},
   "outputs": [
    {
     "data": {
      "text/html": [
       "<div>\n",
       "<style scoped>\n",
       "    .dataframe tbody tr th:only-of-type {\n",
       "        vertical-align: middle;\n",
       "    }\n",
       "\n",
       "    .dataframe tbody tr th {\n",
       "        vertical-align: top;\n",
       "    }\n",
       "\n",
       "    .dataframe thead th {\n",
       "        text-align: right;\n",
       "    }\n",
       "</style>\n",
       "<table border=\"1\" class=\"dataframe\">\n",
       "  <thead>\n",
       "    <tr style=\"text-align: right;\">\n",
       "      <th></th>\n",
       "      <th>BOD</th>\n",
       "      <th>NH3-N</th>\n",
       "      <th>TN</th>\n",
       "      <th>MLSS</th>\n",
       "      <th>PH</th>\n",
       "      <th>AT_Temp</th>\n",
       "      <th>TN_Y</th>\n",
       "      <th>TN_Y_binary</th>\n",
       "    </tr>\n",
       "  </thead>\n",
       "  <tbody>\n",
       "    <tr>\n",
       "      <th>0</th>\n",
       "      <td>38</td>\n",
       "      <td>25</td>\n",
       "      <td>48</td>\n",
       "      <td>2250</td>\n",
       "      <td>8.3</td>\n",
       "      <td>22.150</td>\n",
       "      <td>12.0</td>\n",
       "      <td>1</td>\n",
       "    </tr>\n",
       "    <tr>\n",
       "      <th>1</th>\n",
       "      <td>180</td>\n",
       "      <td>29</td>\n",
       "      <td>48</td>\n",
       "      <td>2500</td>\n",
       "      <td>7.6</td>\n",
       "      <td>25.200</td>\n",
       "      <td>12.0</td>\n",
       "      <td>1</td>\n",
       "    </tr>\n",
       "    <tr>\n",
       "      <th>2</th>\n",
       "      <td>160</td>\n",
       "      <td>24</td>\n",
       "      <td>41</td>\n",
       "      <td>2140</td>\n",
       "      <td>7.2</td>\n",
       "      <td>23.650</td>\n",
       "      <td>9.7</td>\n",
       "      <td>1</td>\n",
       "    </tr>\n",
       "    <tr>\n",
       "      <th>3</th>\n",
       "      <td>170</td>\n",
       "      <td>28</td>\n",
       "      <td>44</td>\n",
       "      <td>2040</td>\n",
       "      <td>7.3</td>\n",
       "      <td>24.175</td>\n",
       "      <td>12.0</td>\n",
       "      <td>1</td>\n",
       "    </tr>\n",
       "    <tr>\n",
       "      <th>4</th>\n",
       "      <td>500</td>\n",
       "      <td>16</td>\n",
       "      <td>98</td>\n",
       "      <td>1660</td>\n",
       "      <td>7.5</td>\n",
       "      <td>25.360</td>\n",
       "      <td>13.0</td>\n",
       "      <td>1</td>\n",
       "    </tr>\n",
       "  </tbody>\n",
       "</table>\n",
       "</div>"
      ],
      "text/plain": [
       "   BOD  NH3-N  TN  MLSS   PH  AT_Temp  TN_Y  TN_Y_binary\n",
       "0   38     25  48  2250  8.3   22.150  12.0            1\n",
       "1  180     29  48  2500  7.6   25.200  12.0            1\n",
       "2  160     24  41  2140  7.2   23.650   9.7            1\n",
       "3  170     28  44  2040  7.3   24.175  12.0            1\n",
       "4  500     16  98  1660  7.5   25.360  13.0            1"
      ]
     },
     "execution_count": 6,
     "metadata": {},
     "output_type": "execute_result"
    }
   ],
   "source": [
    "# Creating a binary variable based on median value\n",
    "data['TN_Y_binary'] = np.where(data['TN_Y'] >= data['TN_Y'].median(), 1, 0)\n",
    "data.head()"
   ]
  },
  {
   "cell_type": "code",
   "execution_count": 7,
   "id": "1bffdf63",
   "metadata": {},
   "outputs": [
    {
     "data": {
      "application/vnd.jupyter.widget-view+json": {
       "model_id": "ce8dfac93a4c4e12bb70092bb1872d71",
       "version_major": 2,
       "version_minor": 0
      },
      "text/plain": [
       "Summarize dataset:   0%|          | 0/21 [00:00<?, ?it/s]"
      ]
     },
     "metadata": {},
     "output_type": "display_data"
    },
    {
     "data": {
      "application/vnd.jupyter.widget-view+json": {
       "model_id": "50840a9f0a87409fb98140f3190a2855",
       "version_major": 2,
       "version_minor": 0
      },
      "text/plain": [
       "Generate report structure:   0%|          | 0/1 [00:00<?, ?it/s]"
      ]
     },
     "metadata": {},
     "output_type": "display_data"
    },
    {
     "data": {
      "application/vnd.jupyter.widget-view+json": {
       "model_id": "",
       "version_major": 2,
       "version_minor": 0
      },
      "text/plain": [
       "Render widgets:   0%|          | 0/1 [00:00<?, ?it/s]"
      ]
     },
     "metadata": {},
     "output_type": "display_data"
    },
    {
     "data": {
      "application/vnd.jupyter.widget-view+json": {
       "model_id": "57192913d55c4e44a432fd890b79282d",
       "version_major": 2,
       "version_minor": 0
      },
      "text/plain": [
       "VBox(children=(Tab(children=(Tab(children=(GridBox(children=(VBox(children=(GridspecLayout(children=(HTML(valu…"
      ]
     },
     "metadata": {},
     "output_type": "display_data"
    }
   ],
   "source": [
    "#doing pandas profiling\n",
    "from pandas_profiling import ProfileReport\n",
    "profile = ProfileReport(data, title=\"Pandas Profiling Report\")\n",
    "profile.to_widgets()"
   ]
  },
  {
   "cell_type": "code",
   "execution_count": 8,
   "id": "7290a8c2",
   "metadata": {},
   "outputs": [
    {
     "data": {
      "text/html": [
       "<div>\n",
       "<style scoped>\n",
       "    .dataframe tbody tr th:only-of-type {\n",
       "        vertical-align: middle;\n",
       "    }\n",
       "\n",
       "    .dataframe tbody tr th {\n",
       "        vertical-align: top;\n",
       "    }\n",
       "\n",
       "    .dataframe thead th {\n",
       "        text-align: right;\n",
       "    }\n",
       "</style>\n",
       "<table border=\"1\" class=\"dataframe\">\n",
       "  <thead>\n",
       "    <tr style=\"text-align: right;\">\n",
       "      <th></th>\n",
       "      <th>BOD</th>\n",
       "      <th>NH3-N</th>\n",
       "      <th>TN</th>\n",
       "      <th>MLSS</th>\n",
       "      <th>PH</th>\n",
       "      <th>AT_Temp</th>\n",
       "    </tr>\n",
       "  </thead>\n",
       "  <tbody>\n",
       "    <tr>\n",
       "      <th>0</th>\n",
       "      <td>38</td>\n",
       "      <td>25</td>\n",
       "      <td>48</td>\n",
       "      <td>2250</td>\n",
       "      <td>8.3</td>\n",
       "      <td>22.150</td>\n",
       "    </tr>\n",
       "    <tr>\n",
       "      <th>1</th>\n",
       "      <td>180</td>\n",
       "      <td>29</td>\n",
       "      <td>48</td>\n",
       "      <td>2500</td>\n",
       "      <td>7.6</td>\n",
       "      <td>25.200</td>\n",
       "    </tr>\n",
       "    <tr>\n",
       "      <th>2</th>\n",
       "      <td>160</td>\n",
       "      <td>24</td>\n",
       "      <td>41</td>\n",
       "      <td>2140</td>\n",
       "      <td>7.2</td>\n",
       "      <td>23.650</td>\n",
       "    </tr>\n",
       "    <tr>\n",
       "      <th>3</th>\n",
       "      <td>170</td>\n",
       "      <td>28</td>\n",
       "      <td>44</td>\n",
       "      <td>2040</td>\n",
       "      <td>7.3</td>\n",
       "      <td>24.175</td>\n",
       "    </tr>\n",
       "    <tr>\n",
       "      <th>4</th>\n",
       "      <td>500</td>\n",
       "      <td>16</td>\n",
       "      <td>98</td>\n",
       "      <td>1660</td>\n",
       "      <td>7.5</td>\n",
       "      <td>25.360</td>\n",
       "    </tr>\n",
       "  </tbody>\n",
       "</table>\n",
       "</div>"
      ],
      "text/plain": [
       "   BOD  NH3-N  TN  MLSS   PH  AT_Temp\n",
       "0   38     25  48  2250  8.3   22.150\n",
       "1  180     29  48  2500  7.6   25.200\n",
       "2  160     24  41  2140  7.2   23.650\n",
       "3  170     28  44  2040  7.3   24.175\n",
       "4  500     16  98  1660  7.5   25.360"
      ]
     },
     "execution_count": 8,
     "metadata": {},
     "output_type": "execute_result"
    }
   ],
   "source": [
    "#Filtering relevant independent variables\n",
    "X = data[['BOD','NH3-N','TN','MLSS','PH','AT_Temp']]\n",
    "X.head()"
   ]
  },
  {
   "cell_type": "code",
   "execution_count": 9,
   "id": "cc3f0c45",
   "metadata": {},
   "outputs": [],
   "source": [
    "# Creating binary variable\n",
    "y = data['TN_Y_binary']"
   ]
  },
  {
   "cell_type": "code",
   "execution_count": 10,
   "id": "a120b8a7",
   "metadata": {},
   "outputs": [
    {
     "name": "stdout",
     "output_type": "stream",
     "text": [
      "[[1. 1.]\n",
      " [1. 1.]\n",
      " [1. 1.]\n",
      " [1. 1.]\n",
      " [1. 1.]\n",
      " [1. 1.]\n",
      " [1. 1.]\n",
      " [1. 1.]\n",
      " [1. 1.]\n",
      " [1. 1.]\n",
      " [1. 1.]\n",
      " [1. 1.]\n",
      " [1. 1.]\n",
      " [1. 1.]\n",
      " [1. 1.]\n",
      " [1. 1.]\n",
      " [1. 1.]\n",
      " [1. 1.]\n",
      " [1. 1.]\n",
      " [1. 1.]\n",
      " [1. 1.]\n",
      " [1. 1.]\n",
      " [1. 1.]\n",
      " [1. 1.]\n",
      " [1. 1.]\n",
      " [1. 1.]\n",
      " [1. 1.]\n",
      " [1. 1.]\n",
      " [1. 1.]\n",
      " [1. 1.]\n",
      " [1. 1.]\n",
      " [1. 1.]\n",
      " [1. 1.]\n",
      " [1. 1.]\n",
      " [1. 1.]\n",
      " [1. 1.]\n",
      " [1. 1.]\n",
      " [1. 1.]\n",
      " [1. 1.]\n",
      " [1. 1.]\n",
      " [1. 1.]\n",
      " [1. 1.]\n",
      " [1. 1.]\n",
      " [1. 1.]\n",
      " [1. 1.]\n",
      " [1. 1.]\n",
      " [1. 1.]\n",
      " [1. 1.]\n",
      " [1. 1.]\n",
      " [1. 1.]\n",
      " [1. 1.]\n",
      " [1. 1.]\n",
      " [1. 1.]\n",
      " [1. 1.]\n",
      " [1. 1.]\n",
      " [1. 1.]\n",
      " [1. 1.]\n",
      " [1. 1.]\n",
      " [1. 1.]\n",
      " [1. 1.]\n",
      " [1. 1.]\n",
      " [1. 1.]\n",
      " [1. 1.]\n",
      " [1. 1.]\n",
      " [1. 1.]\n",
      " [1. 1.]\n",
      " [1. 1.]\n",
      " [1. 1.]\n",
      " [1. 1.]\n",
      " [1. 1.]\n",
      " [1. 1.]\n",
      " [1. 1.]\n",
      " [1. 1.]\n",
      " [1. 1.]\n",
      " [1. 1.]\n",
      " [1. 1.]\n",
      " [1. 1.]\n",
      " [1. 1.]\n",
      " [1. 1.]\n",
      " [1. 1.]\n",
      " [1. 1.]\n",
      " [1. 1.]\n",
      " [1. 1.]\n",
      " [1. 1.]\n",
      " [1. 1.]\n",
      " [1. 1.]\n",
      " [1. 1.]\n",
      " [1. 1.]\n",
      " [1. 1.]\n",
      " [1. 1.]\n",
      " [1. 1.]\n",
      " [1. 1.]\n",
      " [1. 1.]\n",
      " [1. 1.]\n",
      " [1. 1.]\n",
      " [1. 1.]\n",
      " [1. 1.]\n",
      " [1. 1.]\n",
      " [1. 1.]\n",
      " [1. 1.]]\n"
     ]
    },
    {
     "data": {
      "text/plain": [
       "array([[0., 1.],\n",
       "       [0., 1.],\n",
       "       [0., 1.],\n",
       "       [0., 1.],\n",
       "       [0., 1.],\n",
       "       [0., 1.],\n",
       "       [1., 0.],\n",
       "       [0., 1.],\n",
       "       [1., 0.],\n",
       "       [1., 0.],\n",
       "       [0., 1.],\n",
       "       [1., 0.],\n",
       "       [1., 0.],\n",
       "       [0., 1.],\n",
       "       [1., 0.],\n",
       "       [0., 1.],\n",
       "       [1., 0.],\n",
       "       [1., 0.],\n",
       "       [0., 1.],\n",
       "       [1., 0.],\n",
       "       [1., 0.],\n",
       "       [1., 0.],\n",
       "       [1., 0.],\n",
       "       [0., 1.],\n",
       "       [0., 1.],\n",
       "       [0., 1.],\n",
       "       [0., 1.],\n",
       "       [0., 1.],\n",
       "       [0., 1.],\n",
       "       [0., 1.],\n",
       "       [0., 1.],\n",
       "       [0., 1.],\n",
       "       [0., 1.],\n",
       "       [1., 0.],\n",
       "       [1., 0.],\n",
       "       [0., 1.],\n",
       "       [0., 1.],\n",
       "       [0., 1.],\n",
       "       [0., 1.],\n",
       "       [1., 0.],\n",
       "       [0., 1.],\n",
       "       [1., 0.],\n",
       "       [1., 0.],\n",
       "       [1., 0.],\n",
       "       [1., 0.],\n",
       "       [0., 1.],\n",
       "       [0., 1.],\n",
       "       [1., 0.],\n",
       "       [1., 0.],\n",
       "       [1., 0.],\n",
       "       [1., 0.],\n",
       "       [1., 0.],\n",
       "       [1., 0.],\n",
       "       [1., 0.],\n",
       "       [0., 1.],\n",
       "       [0., 1.],\n",
       "       [0., 1.],\n",
       "       [0., 1.],\n",
       "       [0., 1.],\n",
       "       [0., 1.],\n",
       "       [0., 1.],\n",
       "       [0., 1.],\n",
       "       [0., 1.],\n",
       "       [0., 1.],\n",
       "       [0., 1.],\n",
       "       [0., 1.],\n",
       "       [1., 0.],\n",
       "       [0., 1.],\n",
       "       [0., 1.],\n",
       "       [0., 1.],\n",
       "       [1., 0.],\n",
       "       [1., 0.],\n",
       "       [1., 0.],\n",
       "       [1., 0.],\n",
       "       [1., 0.],\n",
       "       [1., 0.],\n",
       "       [1., 0.],\n",
       "       [1., 0.],\n",
       "       [1., 0.],\n",
       "       [0., 1.],\n",
       "       [1., 0.],\n",
       "       [1., 0.],\n",
       "       [1., 0.],\n",
       "       [0., 1.],\n",
       "       [0., 1.],\n",
       "       [1., 0.],\n",
       "       [0., 1.],\n",
       "       [1., 0.],\n",
       "       [1., 0.],\n",
       "       [1., 0.],\n",
       "       [1., 0.],\n",
       "       [1., 0.],\n",
       "       [0., 1.],\n",
       "       [1., 0.],\n",
       "       [1., 0.],\n",
       "       [0., 1.],\n",
       "       [0., 1.],\n",
       "       [0., 1.],\n",
       "       [0., 1.],\n",
       "       [0., 1.]])"
      ]
     },
     "execution_count": 10,
     "metadata": {},
     "output_type": "execute_result"
    }
   ],
   "source": [
    "# Creating a dummy varible for VQC\n",
    "y_new = np.ones((len(data),2))\n",
    "print(y_new)\n",
    "\n",
    "y_new[:,1] = np.where(y == 1, 1, 0)\n",
    "y_new[:,0] = np.where(y == 0, 1, 0)\n",
    "y_new"
   ]
  },
  {
   "cell_type": "code",
   "execution_count": 11,
   "id": "3c1dcda7",
   "metadata": {},
   "outputs": [
    {
     "data": {
      "text/plain": [
       "array([ 0.74025974,  0.74025974,  0.14285714,  0.74025974,  1.        ,\n",
       "        0.22077922,  0.06493506,  0.11688312, -0.03896104,  0.03896104,\n",
       "        0.22077922, -0.03896104, -0.27272727,  0.11688312, -0.01298701,\n",
       "        0.09090909, -0.01298701, -0.4025974 ,  0.22077922, -0.50649351,\n",
       "       -0.16883117,  0.06493506, -0.53246753,  0.16883117,  0.22077922,\n",
       "        0.22077922,  0.22077922,  0.74025974,  0.14285714,  0.22077922,\n",
       "        0.74025974,  1.        ,  0.16883117, -0.06493506, -0.01298701,\n",
       "        0.09090909,  0.11688312,  0.22077922,  0.22077922, -0.11688312,\n",
       "        0.14285714, -0.16883117, -0.14285714, -0.2987013 , -0.16883117,\n",
       "        0.22077922,  0.22077922, -0.42857143, -0.22077922, -0.94805195,\n",
       "       -0.09090909, -0.87012987, -0.22077922, -0.09090909,  0.14285714,\n",
       "        0.22077922,  0.22077922,  0.22077922,  0.19480519,  0.22077922,\n",
       "        0.14285714,  0.22077922,  0.16883117,  0.14285714,  0.22077922,\n",
       "        0.16883117, -0.37662338,  0.09090909,  0.09090909,  0.11688312,\n",
       "       -0.16883117, -0.01298701,  0.01298701, -0.37662338, -1.        ,\n",
       "       -0.84415584, -0.76623377, -0.92207792, -0.48051948,  0.22077922,\n",
       "       -0.01298701, -0.03896104, -0.24675325,  0.19480519,  0.22077922,\n",
       "        0.06493506,  0.22077922, -0.19480519, -0.4025974 , -0.16883117,\n",
       "        0.06493506, -0.4025974 ,  0.14285714, -0.45454545, -0.09090909,\n",
       "        0.22077922,  0.22077922,  0.09090909,  0.19480519,  0.22077922])"
      ]
     },
     "execution_count": 11,
     "metadata": {},
     "output_type": "execute_result"
    }
   ],
   "source": [
    "# Y variable for regression and scaling it from -1 to +1\n",
    "y_linear = data['TN_Y']\n",
    "y_linear_scaled = np.interp(y_linear, (y_linear.min(), y_linear.max()), (-1, +1))\n",
    "y_linear_scaled"
   ]
  },
  {
   "cell_type": "markdown",
   "id": "605c13a8",
   "metadata": {},
   "source": [
    "VQC Regression"
   ]
  },
  {
   "cell_type": "code",
   "execution_count": 12,
   "id": "3e351691",
   "metadata": {},
   "outputs": [
    {
     "data": {
      "image/png": "[encoded data removed]",
      "text/plain": [
       "<Figure size 1591.6x806.68 with 1 Axes>"
      ]
     },
     "execution_count": 12,
     "metadata": {},
     "output_type": "execute_result"
    }
   ],
   "source": [
    "num_inputs=6\n",
    "from qiskit.algorithms.optimizers import COBYLA , L_BFGS_B , SLSQP,SPSA,TNC ,ADAM\n",
    "# construct feature map\n",
    "feature_map = ZFeatureMap(num_inputs)\n",
    "from numpy import pi\n",
    "# construct ansatz\n",
    "ansatz = RealAmplitudes(num_inputs, reps=2)\n",
    "\n",
    "# construct quantum circuit\n",
    "qc = QuantumCircuit(num_inputs)\n",
    "qc.append(feature_map, range(num_inputs))\n",
    "for i in range(num_inputs):\n",
    "    theta0 = 'a' + str(i)\n",
    "    theta1 = 'b'+str(i)\n",
    "    theta2= 'c'+str(i)\n",
    "    qc.u(Parameter(theta0),Parameter(theta1),Parameter(theta2),i)\n",
    "qc.append(ansatz, range(num_inputs))\n",
    "for i in range(num_inputs):\n",
    "    theta3 = 'a' + str(i+6)\n",
    "    theta4 = 'b'+str(i+6)\n",
    "    theta5= 'c'+str(i+6)\n",
    "    qc.u(Parameter(theta3),Parameter(theta4),Parameter(theta5),i)\n",
    "qc.decompose().draw(output='mpl')\n"
   ]
  },
  {
   "cell_type": "code",
   "execution_count": 13,
   "id": "4d4b841b",
   "metadata": {},
   "outputs": [],
   "source": [
    "#Initiating regressor\n",
    "vqr = VQR(feature_map=feature_map,\n",
    "          ansatz=ansatz,\n",
    "          optimizer=SLSQP(),\n",
    "          quantum_instance=quantum_instance)"
   ]
  },
  {
   "cell_type": "code",
   "execution_count": 14,
   "id": "10d27552",
   "metadata": {},
   "outputs": [
    {
     "data": {
      "text/plain": [
       "<qiskit_machine_learning.algorithms.regressors.vqr.VQR at 0x7f8ba7476970>"
      ]
     },
     "execution_count": 14,
     "metadata": {},
     "output_type": "execute_result"
    }
   ],
   "source": [
    "#fitting regressor\n",
    "vqr.fit(X, y_linear_scaled)"
   ]
  },
  {
   "cell_type": "code",
   "execution_count": 15,
   "id": "b02b54bc",
   "metadata": {},
   "outputs": [
    {
     "data": {
      "text/plain": [
       "array([[ 5.07812500e-02],\n",
       "       [ 3.51562500e-02],\n",
       "       [-1.26953125e-01],\n",
       "       [ 1.09375000e-01],\n",
       "       [ 1.34765625e-01],\n",
       "       [-3.12500000e-02],\n",
       "       [-1.56250000e-02],\n",
       "       [-1.13281250e-01],\n",
       "       [ 6.05468750e-02],\n",
       "       [-1.95312500e-03],\n",
       "       [ 5.85937500e-03],\n",
       "       [ 1.64062500e-01],\n",
       "       [-3.71093750e-02],\n",
       "       [-6.83593750e-02],\n",
       "       [-8.00781250e-02],\n",
       "       [ 5.46875000e-02],\n",
       "       [ 5.07812500e-02],\n",
       "       [-1.09375000e-01],\n",
       "       [ 1.93359375e-01],\n",
       "       [-3.32031250e-02],\n",
       "       [-1.56250000e-02],\n",
       "       [-6.83593750e-02],\n",
       "       [-3.12500000e-02],\n",
       "       [ 3.90625000e-03],\n",
       "       [-8.39843750e-02],\n",
       "       [ 9.96093750e-02],\n",
       "       [ 7.81250000e-03],\n",
       "       [ 1.28906250e-01],\n",
       "       [ 3.32031250e-02],\n",
       "       [ 9.17968750e-02],\n",
       "       [ 1.15234375e-01],\n",
       "       [ 9.76562500e-03],\n",
       "       [ 9.57031250e-02],\n",
       "       [-2.57812500e-01],\n",
       "       [ 3.47656250e-01],\n",
       "       [-5.66406250e-02],\n",
       "       [-6.05468750e-02],\n",
       "       [ 3.51562500e-02],\n",
       "       [ 3.32031250e-02],\n",
       "       [ 1.48437500e-01],\n",
       "       [-8.00781250e-02],\n",
       "       [ 1.75781250e-02],\n",
       "       [ 4.10156250e-02],\n",
       "       [ 6.44531250e-02],\n",
       "       [ 5.85937500e-03],\n",
       "       [ 2.63671875e-01],\n",
       "       [ 1.95312500e-03],\n",
       "       [-2.73437500e-02],\n",
       "       [-5.07812500e-02],\n",
       "       [-3.90625000e-02],\n",
       "       [ 2.53906250e-01],\n",
       "       [-1.05468750e-01],\n",
       "       [-5.66406250e-02],\n",
       "       [ 1.75781250e-02],\n",
       "       [ 1.95312500e-01],\n",
       "       [ 1.25000000e-01],\n",
       "       [-3.90625000e-03],\n",
       "       [ 3.90625000e-03],\n",
       "       [ 8.59375000e-02],\n",
       "       [-1.75781250e-02],\n",
       "       [ 1.54296875e-01],\n",
       "       [-7.42187500e-02],\n",
       "       [ 9.76562500e-03],\n",
       "       [ 3.00781250e-01],\n",
       "       [ 1.69921875e-01],\n",
       "       [-6.25000000e-02],\n",
       "       [ 9.76562500e-03],\n",
       "       [-8.78906250e-02],\n",
       "       [-6.83593750e-02],\n",
       "       [-1.13281250e-01],\n",
       "       [-1.54296875e-01],\n",
       "       [-5.85937500e-02],\n",
       "       [ 8.39843750e-02],\n",
       "       [ 1.40000000e-17],\n",
       "       [-1.71875000e-01],\n",
       "       [-1.75781250e-02],\n",
       "       [ 7.81250000e-03],\n",
       "       [-2.34375000e-02],\n",
       "       [-4.68750000e-02],\n",
       "       [ 1.71875000e-01],\n",
       "       [-9.76562500e-02],\n",
       "       [-1.52343750e-01],\n",
       "       [ 9.76562500e-03],\n",
       "       [ 1.52343750e-01],\n",
       "       [-1.75781250e-02],\n",
       "       [ 5.85937500e-02],\n",
       "       [ 1.40000000e-17],\n",
       "       [-3.32031250e-02],\n",
       "       [ 1.56250000e-02],\n",
       "       [ 2.14843750e-02],\n",
       "       [ 2.53906250e-02],\n",
       "       [ 5.85937500e-03],\n",
       "       [-3.90625000e-02],\n",
       "       [-6.44531250e-02],\n",
       "       [ 4.29687500e-02],\n",
       "       [ 3.51562500e-02],\n",
       "       [-2.53906250e-02],\n",
       "       [ 2.34375000e-02],\n",
       "       [ 1.42578125e-01],\n",
       "       [-7.61718750e-02]])"
      ]
     },
     "execution_count": 15,
     "metadata": {},
     "output_type": "execute_result"
    }
   ],
   "source": [
    "#Predicting the value\n",
    "y_VQR = vqr.predict(X)\n",
    "y_VQR"
   ]
  },
  {
   "cell_type": "code",
   "execution_count": 16,
   "id": "a1cda019",
   "metadata": {},
   "outputs": [
    {
     "data": {
      "text/plain": [
       "array([[11.15234375],\n",
       "       [11.10546875],\n",
       "       [10.61914062],\n",
       "       [11.328125  ],\n",
       "       [11.40429688],\n",
       "       [10.90625   ],\n",
       "       [10.953125  ],\n",
       "       [10.66015625],\n",
       "       [11.18164062],\n",
       "       [10.99414062],\n",
       "       [11.01757812],\n",
       "       [11.4921875 ],\n",
       "       [10.88867188],\n",
       "       [10.79492188],\n",
       "       [10.75976562],\n",
       "       [11.1640625 ],\n",
       "       [11.15234375],\n",
       "       [10.671875  ],\n",
       "       [11.58007812],\n",
       "       [10.90039062],\n",
       "       [10.953125  ],\n",
       "       [10.79492188],\n",
       "       [10.90625   ],\n",
       "       [11.01171875],\n",
       "       [10.74804688],\n",
       "       [11.29882812],\n",
       "       [11.0234375 ],\n",
       "       [11.38671875],\n",
       "       [11.09960938],\n",
       "       [11.27539062],\n",
       "       [11.34570312],\n",
       "       [11.02929688],\n",
       "       [11.28710938],\n",
       "       [10.2265625 ],\n",
       "       [12.04296875],\n",
       "       [10.83007812],\n",
       "       [10.81835938],\n",
       "       [11.10546875],\n",
       "       [11.09960938],\n",
       "       [11.4453125 ],\n",
       "       [10.75976562],\n",
       "       [11.05273438],\n",
       "       [11.12304688],\n",
       "       [11.19335938],\n",
       "       [11.01757812],\n",
       "       [11.79101562],\n",
       "       [11.00585938],\n",
       "       [10.91796875],\n",
       "       [10.84765625],\n",
       "       [10.8828125 ],\n",
       "       [11.76171875],\n",
       "       [10.68359375],\n",
       "       [10.83007812],\n",
       "       [11.05273438],\n",
       "       [11.5859375 ],\n",
       "       [11.375     ],\n",
       "       [10.98828125],\n",
       "       [11.01171875],\n",
       "       [11.2578125 ],\n",
       "       [10.94726562],\n",
       "       [11.46289062],\n",
       "       [10.77734375],\n",
       "       [11.02929688],\n",
       "       [11.90234375],\n",
       "       [11.50976562],\n",
       "       [10.8125    ],\n",
       "       [11.02929688],\n",
       "       [10.73632812],\n",
       "       [10.79492188],\n",
       "       [10.66015625],\n",
       "       [10.53710938],\n",
       "       [10.82421875],\n",
       "       [11.25195312],\n",
       "       [11.        ],\n",
       "       [10.484375  ],\n",
       "       [10.94726562],\n",
       "       [11.0234375 ],\n",
       "       [10.9296875 ],\n",
       "       [10.859375  ],\n",
       "       [11.515625  ],\n",
       "       [10.70703125],\n",
       "       [10.54296875],\n",
       "       [11.02929688],\n",
       "       [11.45703125],\n",
       "       [10.94726562],\n",
       "       [11.17578125],\n",
       "       [11.        ],\n",
       "       [10.90039062],\n",
       "       [11.046875  ],\n",
       "       [11.06445312],\n",
       "       [11.07617188],\n",
       "       [11.01757812],\n",
       "       [10.8828125 ],\n",
       "       [10.80664062],\n",
       "       [11.12890625],\n",
       "       [11.10546875],\n",
       "       [10.92382812],\n",
       "       [11.0703125 ],\n",
       "       [11.42773438],\n",
       "       [10.77148438]])"
      ]
     },
     "execution_count": 16,
     "metadata": {},
     "output_type": "execute_result"
    }
   ],
   "source": [
    "y_linear_scaled_b=np.interp(y_linear_scaled, (y_linear_scaled.min(), y_linear_scaled.max()), (8, 14))\n",
    "y_VQR_b = np.interp(y_VQR, (y_linear_scaled.min(), y_linear_scaled.max()), (8, 14))\n",
    "y_VQR_b"
   ]
  },
  {
   "cell_type": "code",
   "execution_count": 17,
   "id": "0d44fd88",
   "metadata": {},
   "outputs": [
    {
     "data": {
      "image/png": "[encoded data removed]",
      "text/plain": [
       "<Figure size 432x288 with 1 Axes>"
      ]
     },
     "metadata": {
      "needs_background": "light"
     },
     "output_type": "display_data"
    }
   ],
   "source": [
    "# plot data\n",
    "plt.plot(X.iloc[:,0], y_linear_scaled, 'bo')\n",
    "# plot fitted line\n",
    "plt.plot(X.iloc[:,0], y_VQR, 'go')\n",
    "plt.show()"
   ]
  },
  {
   "cell_type": "code",
   "execution_count": 18,
   "id": "7eaf0e43",
   "metadata": {},
   "outputs": [
    {
     "data": {
      "text/plain": [
       "[<matplotlib.lines.Line2D at 0x7f8ba84f24f0>]"
      ]
     },
     "execution_count": 18,
     "metadata": {},
     "output_type": "execute_result"
    },
    {
     "data": {
      "image/png": "[encoded data removed]",
      "text/plain": [
       "<Figure size 432x288 with 1 Axes>"
      ]
     },
     "metadata": {
      "needs_background": "light"
     },
     "output_type": "display_data"
    }
   ],
   "source": [
    "plt.plot(y_linear_scaled,y_VQR, 'bo')\n",
    "x = np.linspace(-1, 1,100)\n",
    "plt.xlim([-1, 1])\n",
    "plt.ylim([-1, 1])\n",
    "plt.plot(x,x,color=\"black\")"
   ]
  },
  {
   "cell_type": "code",
   "execution_count": 19,
   "id": "0b5a3d69",
   "metadata": {},
   "outputs": [
    {
     "data": {
      "text/plain": [
       "[<matplotlib.lines.Line2D at 0x7f8ba83dd4c0>]"
      ]
     },
     "execution_count": 19,
     "metadata": {},
     "output_type": "execute_result"
    },
    {
     "data": {
      "image/png": "[encoded data removed]",
      "text/plain": [
       "<Figure size 432x288 with 1 Axes>"
      ]
     },
     "metadata": {
      "needs_background": "light"
     },
     "output_type": "display_data"
    }
   ],
   "source": [
    "plt.plot(y_linear_scaled_b,y_VQR_b, 'bo')\n",
    "x = np.linspace(4, 14,100)\n",
    "plt.xlim([8, 14])\n",
    "plt.xlabel=('Actual TN')\n",
    "plt.ylabel=('Predicted TN')\n",
    "plt.ylim([8, 14])\n",
    "plt.plot(x,x,color=\"black\")"
   ]
  },
  {
   "cell_type": "code",
   "execution_count": 21,
   "id": "2c58769e",
   "metadata": {},
   "outputs": [
    {
     "name": "stdout",
     "output_type": "stream",
     "text": [
      "1.2264494836903437\n",
      "0.10033709571815619\n"
     ]
    }
   ],
   "source": [
    "from sklearn.metrics import mean_squared_error\n",
    "from sklearn.metrics import r2_score\n",
    "#MSE\n",
    "mse = mean_squared_error(y_linear_scaled,y_VQR)*10\n",
    "print(mse)\n",
    "# R squared error\n",
    "r2s = r2_score(y_linear_scaled,y_VQR)\n",
    "print(r2s)"
   ]
  },
  {
   "cell_type": "code",
   "execution_count": null,
   "id": "7de39597",
   "metadata": {},
   "outputs": [],
   "source": []
  }
 ],
 "metadata": {
  "kernelspec": {
   "display_name": "Python 3",
   "language": "python",
   "name": "python3"
  },
  "language_info": {
   "codemirror_mode": {
    "name": "ipython",
    "version": 3
   },
   "file_extension": ".py",
   "mimetype": "text/x-python",
   "name": "python",
   "nbconvert_exporter": "python",
   "pygments_lexer": "ipython3",
   "version": "3.8.8"
  }
 },
 "nbformat": 4,
 "nbformat_minor": 5
}
