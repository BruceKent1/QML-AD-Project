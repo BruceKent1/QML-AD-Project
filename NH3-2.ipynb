{
 "cells": [
  {
   "cell_type": "code",
   "execution_count": 1,
   "id": "42d2de8e",
   "metadata": {},
   "outputs": [],
   "source": [
    "#!pip install qiskit\n",
    "#!pip install qiskit_machine_learning\n",
    "#!pip install pylatexenc"
   ]
  },
  {
   "cell_type": "code",
   "execution_count": 2,
   "id": "fd3cb72c",
   "metadata": {},
   "outputs": [],
   "source": [
    "#Importing the libraries\n",
    "\n",
    "import numpy as np\n",
    "import matplotlib.pyplot as plt\n",
    "import pandas as pd\n",
    "\n",
    "from qiskit import Aer, QuantumCircuit\n",
    "from qiskit.opflow import Z, I, StateFn\n",
    "from qiskit.utils import QuantumInstance\n",
    "from qiskit.circuit import Parameter\n",
    "from qiskit.circuit.library import RealAmplitudes, ZZFeatureMap, ZFeatureMap\n",
    "from qiskit.algorithms.optimizers import COBYLA, L_BFGS_B,SLSQP,ADAM\n",
    "\n",
    "from qiskit_machine_learning.neural_networks import TwoLayerQNN, CircuitQNN\n",
    "from qiskit_machine_learning.algorithms.classifiers import NeuralNetworkClassifier, VQC\n",
    "from qiskit_machine_learning.algorithms.regressors import NeuralNetworkRegressor, VQR\n",
    "\n",
    "from typing import Union\n",
    "\n",
    "from qiskit_machine_learning.exceptions import QiskitMachineLearningError\n",
    "import pylatexenc\n",
    "\n",
    "from sklearn.metrics import confusion_matrix"
   ]
  },
  {
   "cell_type": "code",
   "execution_count": 3,
   "id": "50972cba",
   "metadata": {},
   "outputs": [],
   "source": [
    "#Initiating the instance\n",
    "quantum_instance = QuantumInstance(Aer.get_backend('qasm_simulator'), shots=1024)"
   ]
  },
  {
   "cell_type": "code",
   "execution_count": 4,
   "id": "5ce9f07c",
   "metadata": {},
   "outputs": [
    {
     "data": {
      "text/html": [
       "<div>\n",
       "<style scoped>\n",
       "    .dataframe tbody tr th:only-of-type {\n",
       "        vertical-align: middle;\n",
       "    }\n",
       "\n",
       "    .dataframe tbody tr th {\n",
       "        vertical-align: top;\n",
       "    }\n",
       "\n",
       "    .dataframe thead th {\n",
       "        text-align: right;\n",
       "    }\n",
       "</style>\n",
       "<table border=\"1\" class=\"dataframe\">\n",
       "  <thead>\n",
       "    <tr style=\"text-align: right;\">\n",
       "      <th></th>\n",
       "      <th>BOD</th>\n",
       "      <th>NH3-N</th>\n",
       "      <th>TN</th>\n",
       "      <th>MLSS</th>\n",
       "      <th>PH</th>\n",
       "      <th>AT_Temp</th>\n",
       "      <th>NH3_Y</th>\n",
       "      <th>Date</th>\n",
       "    </tr>\n",
       "  </thead>\n",
       "  <tbody>\n",
       "    <tr>\n",
       "      <th>0</th>\n",
       "      <td>38</td>\n",
       "      <td>25</td>\n",
       "      <td>48</td>\n",
       "      <td>2250</td>\n",
       "      <td>8.3</td>\n",
       "      <td>22.150</td>\n",
       "      <td>0.98</td>\n",
       "      <td>2013-01-10 00:00:00</td>\n",
       "    </tr>\n",
       "    <tr>\n",
       "      <th>1</th>\n",
       "      <td>150</td>\n",
       "      <td>28</td>\n",
       "      <td>41</td>\n",
       "      <td>2190</td>\n",
       "      <td>7.4</td>\n",
       "      <td>22.975</td>\n",
       "      <td>0.59</td>\n",
       "      <td>2013-01-24 00:00:00</td>\n",
       "    </tr>\n",
       "    <tr>\n",
       "      <th>2</th>\n",
       "      <td>130</td>\n",
       "      <td>26</td>\n",
       "      <td>41</td>\n",
       "      <td>2090</td>\n",
       "      <td>7.2</td>\n",
       "      <td>22.750</td>\n",
       "      <td>0.57</td>\n",
       "      <td>2013-01-31 00:00:00</td>\n",
       "    </tr>\n",
       "    <tr>\n",
       "      <th>3</th>\n",
       "      <td>180</td>\n",
       "      <td>29</td>\n",
       "      <td>48</td>\n",
       "      <td>2500</td>\n",
       "      <td>7.6</td>\n",
       "      <td>25.200</td>\n",
       "      <td>0.78</td>\n",
       "      <td>2013-02-07 00:00:00</td>\n",
       "    </tr>\n",
       "    <tr>\n",
       "      <th>4</th>\n",
       "      <td>170</td>\n",
       "      <td>28</td>\n",
       "      <td>44</td>\n",
       "      <td>2040</td>\n",
       "      <td>7.3</td>\n",
       "      <td>24.175</td>\n",
       "      <td>0.72</td>\n",
       "      <td>2013-03-07 00:00:00</td>\n",
       "    </tr>\n",
       "  </tbody>\n",
       "</table>\n",
       "</div>"
      ],
      "text/plain": [
       "   BOD  NH3-N  TN  MLSS   PH  AT_Temp  NH3_Y                 Date\n",
       "0   38     25  48  2250  8.3   22.150   0.98  2013-01-10 00:00:00\n",
       "1  150     28  41  2190  7.4   22.975   0.59  2013-01-24 00:00:00\n",
       "2  130     26  41  2090  7.2   22.750   0.57  2013-01-31 00:00:00\n",
       "3  180     29  48  2500  7.6   25.200   0.78  2013-02-07 00:00:00\n",
       "4  170     28  44  2040  7.3   24.175   0.72  2013-03-07 00:00:00"
      ]
     },
     "execution_count": 4,
     "metadata": {},
     "output_type": "execute_result"
    }
   ],
   "source": [
    "#Reading the data and removing extra column unnamed\n",
    "data = pd.read_csv(\"outputNH3.csv\")\n",
    "data.head()\n",
    "data = data.drop(\"Unnamed: 0\", axis = 1)\n",
    "data.head()"
   ]
  },
  {
   "cell_type": "code",
   "execution_count": 5,
   "id": "4eff2a08",
   "metadata": {},
   "outputs": [],
   "source": [
    "#Filtering data so it runs faster\n",
    "data = data.iloc[0:100,]"
   ]
  },
  {
   "cell_type": "code",
   "execution_count": 6,
   "id": "c78764fb",
   "metadata": {},
   "outputs": [
    {
     "data": {
      "text/html": [
       "<div>\n",
       "<style scoped>\n",
       "    .dataframe tbody tr th:only-of-type {\n",
       "        vertical-align: middle;\n",
       "    }\n",
       "\n",
       "    .dataframe tbody tr th {\n",
       "        vertical-align: top;\n",
       "    }\n",
       "\n",
       "    .dataframe thead th {\n",
       "        text-align: right;\n",
       "    }\n",
       "</style>\n",
       "<table border=\"1\" class=\"dataframe\">\n",
       "  <thead>\n",
       "    <tr style=\"text-align: right;\">\n",
       "      <th></th>\n",
       "      <th>BOD</th>\n",
       "      <th>NH3-N</th>\n",
       "      <th>TN</th>\n",
       "      <th>MLSS</th>\n",
       "      <th>PH</th>\n",
       "      <th>AT_Temp</th>\n",
       "      <th>NH3_Y</th>\n",
       "      <th>Date</th>\n",
       "      <th>NH3_Y_binary</th>\n",
       "    </tr>\n",
       "  </thead>\n",
       "  <tbody>\n",
       "    <tr>\n",
       "      <th>0</th>\n",
       "      <td>38</td>\n",
       "      <td>25</td>\n",
       "      <td>48</td>\n",
       "      <td>2250</td>\n",
       "      <td>8.3</td>\n",
       "      <td>22.150</td>\n",
       "      <td>0.98</td>\n",
       "      <td>2013-01-10 00:00:00</td>\n",
       "      <td>0.515789</td>\n",
       "    </tr>\n",
       "    <tr>\n",
       "      <th>1</th>\n",
       "      <td>150</td>\n",
       "      <td>28</td>\n",
       "      <td>41</td>\n",
       "      <td>2190</td>\n",
       "      <td>7.4</td>\n",
       "      <td>22.975</td>\n",
       "      <td>0.59</td>\n",
       "      <td>2013-01-24 00:00:00</td>\n",
       "      <td>0.310526</td>\n",
       "    </tr>\n",
       "    <tr>\n",
       "      <th>2</th>\n",
       "      <td>130</td>\n",
       "      <td>26</td>\n",
       "      <td>41</td>\n",
       "      <td>2090</td>\n",
       "      <td>7.2</td>\n",
       "      <td>22.750</td>\n",
       "      <td>0.57</td>\n",
       "      <td>2013-01-31 00:00:00</td>\n",
       "      <td>0.300000</td>\n",
       "    </tr>\n",
       "    <tr>\n",
       "      <th>3</th>\n",
       "      <td>180</td>\n",
       "      <td>29</td>\n",
       "      <td>48</td>\n",
       "      <td>2500</td>\n",
       "      <td>7.6</td>\n",
       "      <td>25.200</td>\n",
       "      <td>0.78</td>\n",
       "      <td>2013-02-07 00:00:00</td>\n",
       "      <td>0.410526</td>\n",
       "    </tr>\n",
       "    <tr>\n",
       "      <th>4</th>\n",
       "      <td>170</td>\n",
       "      <td>28</td>\n",
       "      <td>44</td>\n",
       "      <td>2040</td>\n",
       "      <td>7.3</td>\n",
       "      <td>24.175</td>\n",
       "      <td>0.72</td>\n",
       "      <td>2013-03-07 00:00:00</td>\n",
       "      <td>0.378947</td>\n",
       "    </tr>\n",
       "  </tbody>\n",
       "</table>\n",
       "</div>"
      ],
      "text/plain": [
       "   BOD  NH3-N  TN  MLSS   PH  AT_Temp  NH3_Y                 Date  \\\n",
       "0   38     25  48  2250  8.3   22.150   0.98  2013-01-10 00:00:00   \n",
       "1  150     28  41  2190  7.4   22.975   0.59  2013-01-24 00:00:00   \n",
       "2  130     26  41  2090  7.2   22.750   0.57  2013-01-31 00:00:00   \n",
       "3  180     29  48  2500  7.6   25.200   0.78  2013-02-07 00:00:00   \n",
       "4  170     28  44  2040  7.3   24.175   0.72  2013-03-07 00:00:00   \n",
       "\n",
       "   NH3_Y_binary  \n",
       "0      0.515789  \n",
       "1      0.310526  \n",
       "2      0.300000  \n",
       "3      0.410526  \n",
       "4      0.378947  "
      ]
     },
     "execution_count": 6,
     "metadata": {},
     "output_type": "execute_result"
    }
   ],
   "source": [
    "# Creating a binary variable based on median value\n",
    "#data['NH3_Y_binary'] = np.where(data['NH3_Y'] >= data['NH3_Y'].median(), 1, 0)\n",
    "data['NH3_Y_binary'] = data['NH3_Y']/data['NH3_Y'].max()\n",
    "data.head()"
   ]
  },
  {
   "cell_type": "code",
   "execution_count": 7,
   "id": "670184c7",
   "metadata": {},
   "outputs": [
    {
     "data": {
      "text/html": [
       "<div>\n",
       "<style scoped>\n",
       "    .dataframe tbody tr th:only-of-type {\n",
       "        vertical-align: middle;\n",
       "    }\n",
       "\n",
       "    .dataframe tbody tr th {\n",
       "        vertical-align: top;\n",
       "    }\n",
       "\n",
       "    .dataframe thead th {\n",
       "        text-align: right;\n",
       "    }\n",
       "</style>\n",
       "<table border=\"1\" class=\"dataframe\">\n",
       "  <thead>\n",
       "    <tr style=\"text-align: right;\">\n",
       "      <th></th>\n",
       "      <th>BOD</th>\n",
       "      <th>NH3-N</th>\n",
       "      <th>TN</th>\n",
       "      <th>MLSS</th>\n",
       "      <th>PH</th>\n",
       "      <th>AT_Temp</th>\n",
       "    </tr>\n",
       "  </thead>\n",
       "  <tbody>\n",
       "    <tr>\n",
       "      <th>0</th>\n",
       "      <td>38</td>\n",
       "      <td>25</td>\n",
       "      <td>48</td>\n",
       "      <td>2250</td>\n",
       "      <td>8.3</td>\n",
       "      <td>22.150</td>\n",
       "    </tr>\n",
       "    <tr>\n",
       "      <th>1</th>\n",
       "      <td>150</td>\n",
       "      <td>28</td>\n",
       "      <td>41</td>\n",
       "      <td>2190</td>\n",
       "      <td>7.4</td>\n",
       "      <td>22.975</td>\n",
       "    </tr>\n",
       "    <tr>\n",
       "      <th>2</th>\n",
       "      <td>130</td>\n",
       "      <td>26</td>\n",
       "      <td>41</td>\n",
       "      <td>2090</td>\n",
       "      <td>7.2</td>\n",
       "      <td>22.750</td>\n",
       "    </tr>\n",
       "    <tr>\n",
       "      <th>3</th>\n",
       "      <td>180</td>\n",
       "      <td>29</td>\n",
       "      <td>48</td>\n",
       "      <td>2500</td>\n",
       "      <td>7.6</td>\n",
       "      <td>25.200</td>\n",
       "    </tr>\n",
       "    <tr>\n",
       "      <th>4</th>\n",
       "      <td>170</td>\n",
       "      <td>28</td>\n",
       "      <td>44</td>\n",
       "      <td>2040</td>\n",
       "      <td>7.3</td>\n",
       "      <td>24.175</td>\n",
       "    </tr>\n",
       "  </tbody>\n",
       "</table>\n",
       "</div>"
      ],
      "text/plain": [
       "   BOD  NH3-N  TN  MLSS   PH  AT_Temp\n",
       "0   38     25  48  2250  8.3   22.150\n",
       "1  150     28  41  2190  7.4   22.975\n",
       "2  130     26  41  2090  7.2   22.750\n",
       "3  180     29  48  2500  7.6   25.200\n",
       "4  170     28  44  2040  7.3   24.175"
      ]
     },
     "execution_count": 7,
     "metadata": {},
     "output_type": "execute_result"
    }
   ],
   "source": [
    "#Filtering relevant independent variables\n",
    "X = data[['BOD','NH3-N','TN','MLSS','PH','AT_Temp']]\n",
    "X.head()"
   ]
  },
  {
   "cell_type": "code",
   "execution_count": 8,
   "id": "e407fd55",
   "metadata": {},
   "outputs": [],
   "source": [
    "# Creating binary variable\n",
    "y = data['NH3_Y_binary']"
   ]
  },
  {
   "cell_type": "code",
   "execution_count": 9,
   "id": "05552469",
   "metadata": {},
   "outputs": [],
   "source": [
    "# construct QNN\n",
    "num_inputs = 6\n",
    "opflow_qnn = TwoLayerQNN(num_inputs, quantum_instance=quantum_instance)"
   ]
  },
  {
   "cell_type": "code",
   "execution_count": 10,
   "id": "e3df9d08",
   "metadata": {},
   "outputs": [],
   "source": [
    "# construct feature map\n",
    "feature_map = ZFeatureMap(num_inputs)\n",
    "\n",
    "# construct ansatz\n",
    "ansatz = RealAmplitudes(num_inputs, reps=5)\n",
    "\n"
   ]
  },
  {
   "cell_type": "markdown",
   "id": "2cdfe4a4",
   "metadata": {},
   "source": [
    "VQC Regression"
   ]
  },
  {
   "cell_type": "code",
   "execution_count": 11,
   "id": "7a66d038",
   "metadata": {},
   "outputs": [],
   "source": [
    "#Initiating regressor\n",
    "vqr = VQR(feature_map=feature_map,\n",
    "          ansatz=ansatz,\n",
    "          optimizer=SLSQP(),\n",
    "          quantum_instance=quantum_instance)"
   ]
  },
  {
   "cell_type": "code",
   "execution_count": 12,
   "id": "f863ebb3",
   "metadata": {},
   "outputs": [
    {
     "data": {
      "text/plain": [
       "<qiskit_machine_learning.algorithms.regressors.vqr.VQR at 0x7fc214b60f10>"
      ]
     },
     "execution_count": 12,
     "metadata": {},
     "output_type": "execute_result"
    }
   ],
   "source": [
    "#fitting regressor\n",
    "vqr.fit(X, y)"
   ]
  },
  {
   "cell_type": "code",
   "execution_count": 13,
   "id": "abbc6ab7",
   "metadata": {},
   "outputs": [
    {
     "data": {
      "text/plain": [
       "array([[0.44726562],\n",
       "       [0.1328125 ],\n",
       "       [0.32226562],\n",
       "       [0.31054688],\n",
       "       [0.52148438],\n",
       "       [0.49609375],\n",
       "       [0.38671875],\n",
       "       [0.32421875],\n",
       "       [0.40039062],\n",
       "       [0.30859375],\n",
       "       [0.52929688],\n",
       "       [0.54296875],\n",
       "       [0.38671875],\n",
       "       [0.30859375],\n",
       "       [0.43359375],\n",
       "       [0.37304688],\n",
       "       [0.40429688],\n",
       "       [0.21875   ],\n",
       "       [0.23046875],\n",
       "       [0.390625  ],\n",
       "       [0.29492188],\n",
       "       [0.25      ],\n",
       "       [0.42773438],\n",
       "       [0.17773438],\n",
       "       [0.30273438],\n",
       "       [0.48046875],\n",
       "       [0.32226562],\n",
       "       [0.35546875],\n",
       "       [0.42382812],\n",
       "       [0.37695312],\n",
       "       [0.51757812],\n",
       "       [0.35546875],\n",
       "       [0.29296875],\n",
       "       [0.33203125],\n",
       "       [0.33203125],\n",
       "       [0.3359375 ],\n",
       "       [0.49609375],\n",
       "       [0.42382813],\n",
       "       [0.40039062],\n",
       "       [0.2109375 ],\n",
       "       [0.109375  ],\n",
       "       [0.21679688],\n",
       "       [0.13085938],\n",
       "       [0.46679688],\n",
       "       [0.27539063],\n",
       "       [0.25390625],\n",
       "       [0.28320312],\n",
       "       [0.43164062],\n",
       "       [0.296875  ],\n",
       "       [0.38476562],\n",
       "       [0.29882812],\n",
       "       [0.33789062],\n",
       "       [0.30664062],\n",
       "       [0.08398438],\n",
       "       [0.42773438],\n",
       "       [0.32226562],\n",
       "       [0.078125  ],\n",
       "       [0.1015625 ],\n",
       "       [0.41210938],\n",
       "       [0.34765625],\n",
       "       [0.41015625],\n",
       "       [0.07617188],\n",
       "       [0.33203125],\n",
       "       [0.24804688],\n",
       "       [0.12109375],\n",
       "       [0.07421875],\n",
       "       [0.45507812],\n",
       "       [0.359375  ],\n",
       "       [0.31640625],\n",
       "       [0.43359375],\n",
       "       [0.42382812],\n",
       "       [0.35546875],\n",
       "       [0.43359375],\n",
       "       [0.42382812],\n",
       "       [0.35546875],\n",
       "       [0.43359375],\n",
       "       [0.42382812],\n",
       "       [0.35546875],\n",
       "       [0.43359375],\n",
       "       [0.42382812],\n",
       "       [0.35546875],\n",
       "       [0.43359375],\n",
       "       [0.42382812],\n",
       "       [0.35546875],\n",
       "       [0.33203125],\n",
       "       [0.40039062],\n",
       "       [0.33203125],\n",
       "       [0.40039062],\n",
       "       [0.33203125],\n",
       "       [0.40039062],\n",
       "       [0.33203125],\n",
       "       [0.40039062],\n",
       "       [0.33203125],\n",
       "       [0.40039062],\n",
       "       [0.33203125],\n",
       "       [0.40039062],\n",
       "       [0.33203125],\n",
       "       [0.40039062],\n",
       "       [0.33203125],\n",
       "       [0.40039062]])"
      ]
     },
     "execution_count": 13,
     "metadata": {},
     "output_type": "execute_result"
    }
   ],
   "source": [
    "#Predicting the value\n",
    "y_VQR = vqr.predict(X)\n",
    "y_VQR"
   ]
  },
  {
   "cell_type": "code",
   "execution_count": 14,
   "id": "d4d2eb95",
   "metadata": {},
   "outputs": [
    {
     "data": {
      "image/png": "[encoded data removed]",
      "text/plain": [
       "<Figure size 432x288 with 1 Axes>"
      ]
     },
     "metadata": {
      "needs_background": "light"
     },
     "output_type": "display_data"
    }
   ],
   "source": [
    "# plot data\n",
    "plt.plot(X.iloc[:,0], y, 'bo')\n",
    "# plot fitted line\n",
    "plt.plot(X.iloc[:,0], y_VQR, 'go')\n",
    "plt.show()"
   ]
  },
  {
   "cell_type": "code",
   "execution_count": 15,
   "id": "827ca169",
   "metadata": {},
   "outputs": [
    {
     "data": {
      "text/plain": [
       "[<matplotlib.lines.Line2D at 0x7fc1f760dc10>]"
      ]
     },
     "execution_count": 15,
     "metadata": {},
     "output_type": "execute_result"
    },
    {
     "data": {
      "image/png": "[encoded data removed]",
      "text/plain": [
       "<Figure size 432x288 with 1 Axes>"
      ]
     },
     "metadata": {
      "needs_background": "light"
     },
     "output_type": "display_data"
    }
   ],
   "source": [
    "plt.plot(y,y_VQR, 'bo')\n",
    "x = np.linspace(-1, 1,100)\n",
    "plt.xlim([-1, 1])\n",
    "plt.ylim([-1, 1])\n",
    "plt.plot(x,x,color=\"black\")"
   ]
  },
  {
   "cell_type": "code",
   "execution_count": 16,
   "id": "b1d159cb",
   "metadata": {},
   "outputs": [
    {
     "name": "stdout",
     "output_type": "stream",
     "text": [
      "0.011714288634408545\n",
      "-0.05782941260144514\n"
     ]
    }
   ],
   "source": [
    "from sklearn.metrics import mean_squared_error\n",
    "from sklearn.metrics import r2_score\n",
    "#MSE\n",
    "mse = mean_squared_error(y,y_VQR)\n",
    "print(mse)\n",
    "# R squared error\n",
    "r2s = r2_score(y,y_VQR)\n",
    "print(r2s)"
   ]
  }
 ],
 "metadata": {
  "kernelspec": {
   "display_name": "Python 3",
   "language": "python",
   "name": "python3"
  },
  "language_info": {
   "codemirror_mode": {
    "name": "ipython",
    "version": 3
   },
   "file_extension": ".py",
   "mimetype": "text/x-python",
   "name": "python",
   "nbconvert_exporter": "python",
   "pygments_lexer": "ipython3",
   "version": "3.8.8"
  }
 },
 "nbformat": 4,
 "nbformat_minor": 5
}
